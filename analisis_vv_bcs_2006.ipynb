{
 "cells": [
  {
   "cell_type": "code",
   "execution_count": 1,
   "id": "fe14d747",
   "metadata": {
    "ExecuteTime": {
     "end_time": "2022-03-24T04:19:37.287366Z",
     "start_time": "2022-03-24T04:19:37.265387Z"
    }
   },
   "outputs": [
    {
     "data": {
      "text/plain": "<IPython.core.display.HTML object>",
      "text/html": "<script>\ncode_show=true; \nfunction code_toggle() {\n  if (code_show) {\n    $('div.input').each(function(id) {\n      el = $(this).find('.cm-variable:first');\n      if (id == 0 || el.text() == 'hide_me') {\n        $(this).hide();\n      }\n    });\n    $('div.output_prompt').css('opacity', 0);\n  } else {\n    $('div.input').each(function(id) {\n      $(this).show();\n    });\n    $('div.output_prompt').css('opacity', 1);\n  }\n  code_show = !code_show\n} \n$( document ).ready(code_toggle);\n</script>\n<form action=\"javascript:code_toggle()\"><input style=\"opacity:0\" type=\"submit\" value=\"Click here to toggle on/off the raw code.\"></form>"
     },
     "execution_count": 1,
     "metadata": {},
     "output_type": "execute_result"
    }
   ],
   "source": [
    "#https://amitrajitbose.github.io/blog/hiding-input-cells-jupyter-notebook/\n",
    "# This is a cell to hide code snippets from displaying\n",
    "# This must be at first cell!\n",
    "\n",
    "from IPython.display import HTML\n",
    "\n",
    "hide_me = ''\n",
    "HTML('''<script>\n",
    "code_show=true; \n",
    "function code_toggle() {\n",
    "  if (code_show) {\n",
    "    $('div.input').each(function(id) {\n",
    "      el = $(this).find('.cm-variable:first');\n",
    "      if (id == 0 || el.text() == 'hide_me') {\n",
    "        $(this).hide();\n",
    "      }\n",
    "    });\n",
    "    $('div.output_prompt').css('opacity', 0);\n",
    "  } else {\n",
    "    $('div.input').each(function(id) {\n",
    "      $(this).show();\n",
    "    });\n",
    "    $('div.output_prompt').css('opacity', 1);\n",
    "  }\n",
    "  code_show = !code_show\n",
    "} \n",
    "$( document ).ready(code_toggle);\n",
    "</script>\n",
    "<form action=\"javascript:code_toggle()\"><input style=\"opacity:0\" type=\"submit\" value=\"Click here to toggle on/off the raw code.\"></form>''')"
   ]
  },
  {
   "cell_type": "markdown",
   "id": "834fd0ac",
   "metadata": {
    "pycharm": {
     "name": "#%% md\n"
    }
   },
   "source": [
    "# imports"
   ]
  },
  {
   "cell_type": "code",
   "execution_count": 2,
   "id": "59be858f",
   "metadata": {
    "ExecuteTime": {
     "end_time": "2022-03-24T03:47:56.173269Z",
     "start_time": "2022-03-24T03:47:54.650894Z"
    }
   },
   "outputs": [],
   "source": [
    "%matplotlib notebook\n",
    "import os\n",
    "from datetime import datetime\n",
    "from IPython.display import display, HTML\n",
    "import ipywidgets as widgets\n",
    "\n",
    "\n",
    "from pathlib import Path  #to get user directory\n",
    "from IPython.display import clear_output\n",
    "#importa las fuciones que cree desde otro notebook (instalar modulo ipynb)\n",
    "import ipynb.fs.full.my_funcs_clusters as myfunc\n",
    "import matplotlib.pyplot as plt\n",
    "import numpy as np\n",
    "import pandas as pd\n",
    "import seaborn as sns\n",
    "from matplotlib import font_manager\n",
    "import matplotlib.dates as mdates #para poner meses en las ticks\n",
    "\n",
    "import matplotlib\n",
    "#matplotlib.use('nbAgg')\n",
    "#valores despues del punto decimal\n",
    "pd.set_option(\"display.precision\", 4)"
   ]
  },
  {
   "cell_type": "code",
   "execution_count": 3,
   "id": "6934e4d6",
   "metadata": {
    "ExecuteTime": {
     "end_time": "2022-03-24T03:47:56.204165Z",
     "start_time": "2022-03-24T03:47:56.176212Z"
    },
    "pycharm": {
     "name": "#%%\n"
    }
   },
   "outputs": [
    {
     "data": {
      "text/plain": "<module 'ipynb.fs.full.my_funcs_clusters' (C:\\Users\\mungu\\Documents\\GitHub\\aero\\my_funcs_clusters.ipynb)>"
     },
     "execution_count": 3,
     "metadata": {},
     "output_type": "execute_result"
    }
   ],
   "source": [
    "import importlib\n",
    "importlib.reload(myfunc)"
   ]
  },
  {
   "cell_type": "markdown",
   "id": "c587c7a5",
   "metadata": {
    "pycharm": {
     "name": "#%% md\n"
    }
   },
   "source": [
    "# data processing"
   ]
  },
  {
   "cell_type": "code",
   "execution_count": null,
   "id": "a944d15c",
   "metadata": {
    "ExecuteTime": {
     "end_time": "2022-03-24T03:48:15.389837Z",
     "start_time": "2022-03-24T03:47:56.206152Z"
    },
    "pycharm": {
     "name": "#%%\n",
     "is_executing": true
    }
   },
   "outputs": [
    {
     "name": "stdout",
     "output_type": "stream",
     "text": [
      "Inciando procesamiento de datos...\n",
      "\n",
      "Total de registros: 52560\n",
      "Numero de filas sin datos\n",
      "day      0.0\n",
      "hour     0.0\n",
      "wdir     0.0\n",
      "vwind    0.0\n",
      "dtype: float64\n"
     ]
    }
   ],
   "source": [
    "data_path ='datos/DP-PB01-2005.xlsx'\n",
    "mf_pow_curve_path ='datos/DeWind d8.2.csv'\n",
    "df_wind_dir, df_comp_vel,df_mf_curve = myfunc.proc_dat_bcs(data_path,mf_pow_curve_path)\n"
   ]
  },
  {
   "cell_type": "code",
   "execution_count": null,
   "outputs": [],
   "source": [
    "'''\n",
    "Se reemplaza la hora 24:00 por 00:00 y se suma un día, así que la última\n",
    "toma de datos de un día se cambia por la primera del día siguiente\n",
    "'''\n",
    "def proc_dat_bcs(data_path,mf_pow_curve_path=None):\n",
    "    \"\"\"\n",
    "    Procesamiento de datos de BCS, viento y curva del fabricante.\n",
    "    :param data_path: ruta del archivo de los datos de viento\n",
    "    :param mf_pow_curve_path:\n",
    "    :return:\n",
    "    \"\"\"\n",
    "    ###########################################configuración\n",
    "    columns_to_use = [0,1,3,6]\n",
    "    columns_id =['day','hour','wdir','vwind']\n",
    "    dir_format= 'deg'\n",
    "    year = '2005' #data year\n",
    "    ########################################################\n",
    "    #imprimir a consola\n",
    "    os.write(1, b\"Inciando procesamiento de datos...\\n\")\n",
    "    print(\"Inciando procesamiento de datos...\\n\")\n",
    "    dataVDxls = pd.read_excel(data_path,usecols=columns_to_use,dtype={'DIA' : str, 'HORA':str})\n",
    "    dataVDxls.columns =columns_id\n",
    "    #agrego la columna de potencia instantanea sin filtrar\n",
    "    #dataVPxls['Pw']= (dataVPxls.iloc[1:,1].values-dataVPxls.iloc[0:-1,1]) * np.pi*45**2\n",
    "    print('Total de registros: ' + str(len(dataVDxls)))\n",
    "\n",
    "    #marcando los datos faltantes asignando un nan a la fila completa\n",
    "    datamk = dataVDxls\n",
    "    datamk.loc[datamk.isnull().any(axis=1), :] = np.nan\n",
    "    #numero de filas sin datos\n",
    "    print('Numero de filas sin datos')\n",
    "    print(datamk.loc[datamk.isnull().any(axis=1), :].isnull().sum())\n",
    "\n",
    "    #eliminando filas con NaN\n",
    "    cleanData = datamk.dropna()\n",
    "\n",
    "\n",
    "    #datos direccion velocidad\n",
    "    #print(len(dataVP))\n",
    "    #print(len(dataDir))\n",
    "    #dataDV = pd.concat([dataDir,dataVP.vViento],axis=1)\n",
    "    #dataVD = pd.concat([dataVP.vViento,dataDir,axis=1)\n",
    "    #dataVcD =pd.concat([dataDir,df_comp_vel],axis=1)\n",
    "    #change hour 24:00 to 00:00\n",
    "    dataVDxls['hour']=dataVDxls['hour'].str.replace('2400','0000')\n",
    "    dataVDxls['timeStamp']= dataVDxls.apply(lambda x: daymin2date(year,x.day, x.hour), axis=1)\n",
    "    #cambiar formato de 24:00 a 00:00 sumando un día a 00:00\n",
    "    filtro1 = dataVDxls['timeStamp'].dt.hour==0\n",
    "    filtro2 = dataVDxls['timeStamp'].dt.minute==0\n",
    "    idx =np.where(filtro1.values & filtro2.values)\n",
    "    ts = dataVDxls['timeStamp'].values\n",
    "    ts[idx]=ts[idx] + pd.to_timedelta(1,'d')\n",
    "    dataVDxls['timeStamp'] = ts\n",
    "    dataVDxls.set_index('timeStamp',inplace=True,verify_integrity = True)\n",
    "    dfWD = dataVDxls.drop(columns=['day','hour'])\n",
    "    dfWD.index = pd.to_datetime(pd.to_datetime(dfWD.index).strftime('%d/%m/%Y %H:%M'))\n",
    "\n",
    "    del dataVDxls\n",
    "    #CHECK THE DIRECTION OF THE ANEMOMETER\n",
    "    if dir_format == 'rad':\n",
    "        direcvrad= np.deg2rad(dfWD['wdir'].values)\n",
    "        vecVel = [-np.sin(direcvrad)*dfWD['vwind'].values,np.cos(direcvrad)*dfWD['vwind'].values]\n",
    "    else:\n",
    "        vecVel = [-np.sin(dfWD['wdir'].values * np.pi / 180) * dfWD['vwind'].values,\n",
    "                  np.cos(dfWD['wdir'].values * np.pi / 180)* dfWD['vwind'].values]\n",
    "\n",
    "\n",
    "    vecVelnp = np.array(vecVel).transpose()\n",
    "    #original sin timestamp\n",
    "    #df_comp_vel = pd.DataFrame(data=vecVelnp,columns=['vx','vy']\n",
    "    #con timestamp\n",
    "    df_comp_vel = pd.DataFrame(data=vecVelnp,columns=['vx','vy'],index=dfWD.index)\n",
    "\n",
    "    #CURVA DEL FABRICANTE\n",
    "    if mf_pow_curve_path is not None:\n",
    "        if mf_pow_curve_path[-3:] == 'csv':\n",
    "            dfMfgCurve = pd.read_csv(mf_pow_curve_path)\n",
    "        else:\n",
    "            dfMfgCurve = pd.read_excel(mf_pow_curve_path,usecols=[0,2],index_col=0)\n",
    "        dfMfgCurve.set_index('vel',inplace=True)\n",
    "        os.write(1, b\"Fin del procesamiento de datos\\n\")\n",
    "        print('Fin del procesamiento de datos')\n",
    "        return dfWD,df_comp_vel,dfMfgCurve\n",
    "\n",
    "    else:\n",
    "        os.write(1, b\"Fin del procesamiento de datos\\n\")\n",
    "        print('Fin del procesamiento de datos')\n",
    "        return dfWD,df_comp_vel\n",
    "#####################\n"
   ],
   "metadata": {
    "collapsed": false,
    "pycharm": {
     "name": "#%%\n",
     "is_executing": true
    }
   }
  },
  {
   "cell_type": "code",
   "execution_count": null,
   "outputs": [],
   "source": [],
   "metadata": {
    "collapsed": false,
    "pycharm": {
     "name": "#%%\n",
     "is_executing": true
    }
   }
  },
  {
   "cell_type": "markdown",
   "id": "33c5e2a6",
   "metadata": {
    "pycharm": {
     "name": "#%% md\n"
    }
   },
   "source": [
    "## Serie de tiempo\n",
    "La gráfica que muestra las variaciones de velocidad de viento a lo largo del tiempo es llamada serie de tiempo. La\n",
    "serie de tiempo que corresponde a los datos registrados en el año 2005 en baja california se muestran en la Figura 1."
   ]
  },
  {
   "cell_type": "code",
   "execution_count": null,
   "id": "4731bfeb",
   "metadata": {
    "ExecuteTime": {
     "end_time": "2022-03-24T03:48:15.453633Z",
     "start_time": "2022-03-24T03:48:15.392793Z"
    },
    "pycharm": {
     "name": "#%%\n",
     "is_executing": true
    }
   },
   "outputs": [],
   "source": [
    "plt.figure(1,figsize=(20,5))\n",
    "plt.suptitle('Time series for wind velocities')\n",
    "plt.plot(df_wind_dir.index, df_wind_dir.vwind)\n",
    "plt.figtext(0.5, 0.01, 'Figure '+ str(plt.gcf().number), wrap=True, horizontalalignment='center', fontsize=14)\n",
    "plt.xlabel('Date')\n",
    "plt.ylabel('Wind vel. [m/s]')\n",
    "plt.show()"
   ]
  },
  {
   "cell_type": "markdown",
   "id": "83ca91d3",
   "metadata": {
    "pycharm": {
     "name": "#%% md\n"
    }
   },
   "source": [
    "# Componentes de velocidad\n",
    "Los vectores de velocidad de viento se pueden descomponer en sus componentes horizontales y verticales. Si gráficamos\n",
    "estos componentes, obtenemos un gráfico similar al llamado espacio de fases en mecánica estadística. El espacio de\n",
    "fases contiene todos los posibles estados y las regiones donde los ponemos encontrar. Fuera de estas regiones no\n",
    "puede existir ningún estado. En este mismo sentido, podemos definir un \"estado de viento\" como una región dentro del\n",
    "espacio de estados que comparte características de velocidad de viento y dirección similares."
   ]
  },
  {
   "cell_type": "code",
   "execution_count": null,
   "id": "6ef18b0f",
   "metadata": {
    "ExecuteTime": {
     "end_time": "2022-03-24T03:48:15.596260Z",
     "start_time": "2022-03-24T03:48:15.455628Z"
    },
    "pycharm": {
     "name": "#%%\n",
     "is_executing": true
    }
   },
   "outputs": [],
   "source": [
    "plt.figure(2,figsize=(10,10))\n",
    "plt.suptitle('Scatter plot of the velocity vectors')\n",
    "plt.scatter(df_comp_vel.vx,df_comp_vel.vy,s=1)\n",
    "plt.xlabel('vx [m/s]')\n",
    "plt.ylabel('vy [m/s]')\n",
    "plt.tight_layout()\n",
    "plt.figtext(0.5, 0.0, 'Figure '+ str(plt.gcf().number), wrap=True, horizontalalignment='center', fontsize=14)\n",
    "plt.show()\n"
   ]
  },
  {
   "cell_type": "markdown",
   "id": "6d3e1b58",
   "metadata": {
    "pycharm": {
     "name": "#%% md\n"
    }
   },
   "source": [
    "# Histograma y density plot\n",
    "Una forma de encontrar los estados en el espacio de fases, es observando el plot de densidades y el histograma de\n",
    "frecuencia de los componentes de velocidad. En la Figure 3 podemos observar 5 regiones en el espacio de fases que\n",
    "podemos clasificar como estados de viento."
   ]
  },
  {
   "cell_type": "code",
   "execution_count": null,
   "id": "4f6f50e6",
   "metadata": {
    "ExecuteTime": {
     "end_time": "2022-03-24T03:48:20.726828Z",
     "start_time": "2022-03-24T03:48:15.598254Z"
    },
    "pycharm": {
     "name": "#%%\n",
     "is_executing": true
    }
   },
   "outputs": [],
   "source": [
    "fontsize = 13\n",
    "labelFontSize = 13\n",
    "tickFontSize = 12\n",
    "markerSize = 100\n",
    "fontNameLabel = {'fontname':'Times New Roman'}\n",
    "fontNameCluster = {'fontname':'Arial'}\n",
    "ticks_font = font_manager.FontProperties(family='Times New Roman', style='normal',\n",
    "                                         size=labelFontSize, weight='normal', stretch='normal')\n",
    "ticks_font = font_manager.FontProperties(family='Times New Roman', style='normal',\n",
    "                                         size=labelFontSize, weight='normal', stretch='normal')\n",
    "#en esta celda se usa gridspec para cambiar el tamaño de subplots individuales\n",
    "from scipy.stats import kde\n",
    "\n",
    "pltfstitle =10 #tamaño de fuente\n",
    "pltfslbl =13\n",
    "nbins =60\n",
    "\n",
    "H, xedges, yedges = np.histogram2d(df_comp_vel.vx.values, df_comp_vel.vy.values,bins=nbins )\n",
    "H=H.T;\n",
    "#\n",
    "# Create an X-Y mesh of the same dimension as the 2D data. You can\n",
    "# think of this as the floor of the plot.\n",
    "#\n",
    "\n",
    "x_data, y_data = np.meshgrid( xedges[:-1],yedges[:-1])\n",
    "# Flatten out the arrays so that they may be passed to \"ax.bar3d\".\n",
    "# Basically, ax.bar3d expects three one-dimensional arrays:\n",
    "# x_data, y_data, z_data. The following call boils down to picking\n",
    "# one entry from each array and plotting a bar to from\n",
    "# (x_data[i], y_data[i], 0) to (x_data[i], y_data[i], z_data[i]).\n",
    "#\n",
    "x_data = x_data.flatten()\n",
    "y_data = y_data.flatten()\n",
    "z_data = H.flatten()\n",
    "\n",
    "# Create a figure for plotting the data as a 3D histogram.\n",
    "#\n",
    "fig = plt.figure(figsize=(10,7))\n",
    "\n",
    "# eliminar elementos con frecuencia zero\n",
    "a = z_data[z_data != 0]\n",
    "idx=np.where(z_data == 0)[0]\n",
    "b=np.delete(x_data,idx)\n",
    "c=np.delete(y_data,idx)\n",
    "z_data=a\n",
    "x_data=b\n",
    "y_data=c\n",
    "\n",
    "# tres graficas\n",
    "#cmap del histograma2d. Es un array de nx 4 elementos (rgba)\n",
    "#histograma 3d\n",
    "#ax = fig.add_subplot(121, projection='3d')\n",
    "#grid = plt.GridSpec(2,2, wspace=0.3, hspace=0.1)\n",
    "#axScatter=fig.add_subplot(grid[0, 0])\n",
    "#axDensity= fig.add_subplot(grid[0, 1])\n",
    "#axHist2d =fig.add_subplot(grid[1,0: ], projection='3d')\n",
    "\n",
    "# dos graficas\n",
    "#cmap del histograma2d. Es un array de nx 4 elementos (rgba)\n",
    "#histograma 3d\n",
    "#ax = fig.add_subplot(121, projection='3d')\n",
    "grid = plt.GridSpec(1, 2, width_ratios=[1, 2])\n",
    "\n",
    "#grid = plt.GridSpec(1,2, wspace=0.3, hspace=0.1)\n",
    "#axScatter=fig.add_subplot(grid[0, 0])\n",
    "axDensity= fig.add_subplot(grid[0, 0])\n",
    "axHist2d =fig.add_subplot(grid[0,1 ], projection='3d')\n",
    "\n",
    "#SCATTER\n",
    "#axScatter.scatter(df_comp_vel.vx,df_comp_vel.vy,s=0.6)\n",
    "#axScatter.set_ylabel('vy [m/s]', fontsize = pltfslbl)\n",
    "#axScatter.set_xlabel('vx [m/s]', fontsize = pltfslbl)\n",
    "##axScatter.set_aspect('equal')\n",
    "#axScatter.set_xticks(np.arange(np.around(df_comp_vel.vx.min()),df_comp_vel.vx.max(),5))\n",
    "\n",
    "#DENSITY PLOT\n",
    "\n",
    "data = np.array(df_comp_vel.values.tolist())\n",
    "x, y = data.T\n",
    "# Evaluate a gaussian kde on a regular grid of nbins x nbins over data extents\n",
    "k = kde.gaussian_kde(data.T)\n",
    "xi, yi = np.mgrid[x.min():x.max():nbins*1j, y.min():y.max():nbins*1j]\n",
    "zi = k(np.vstack([xi.flatten(), yi.flatten()]))\n",
    "\n",
    "axDensity.set_ylabel('vy [m/s]', fontsize = pltfslbl,fontname='Times New Roman')\n",
    "axDensity.set_xlabel('vx [m/s]', fontsize = pltfslbl,fontname='Times New Roman')\n",
    "axDensity.tick_params(axis='both', labelsize = pltfslbl)\n",
    "axDensity.set_aspect('equal')\n",
    "axDensity.set_xticks(np.arange(np.around(df_comp_vel.vx.min()),df_comp_vel.vx.max(),5))\n",
    "\n",
    "\n",
    "#guardo el objeto pcolormesh para obtener su cmap\n",
    "axDensity.pcolormesh(xi, yi, zi.reshape(xi.shape), shading='gouraud', cmap=plt.cm.inferno)\n",
    "\n",
    "#HIST2D\n",
    "axHist2d.tick_params(axis='both', labelsize = pltfslbl)\n",
    "ancho_barra =0.5\n",
    "largo_barra = 0.5\n",
    "axHist2d.bar3d( x_data,\n",
    "                y_data,\n",
    "                np.zeros_like(z_data),\n",
    "                ancho_barra, largo_barra, z_data, shade=True,\n",
    "                color = 'blue')\n",
    "axHist2d.xaxis.pane.fill = False\n",
    "axHist2d.yaxis.pane.fill = False\n",
    "axHist2d.zaxis.pane.fill = False\n",
    "axHist2d.set_aspect('auto')\n",
    "\n",
    "#Vista del histograma 3d\n",
    "axHist2d.view_init(50,-153)\n",
    "axHist2d.set_ylabel('vy [m/s]', fontsize = pltfslbl,fontname='Times New Roman')\n",
    "axHist2d.set_xlabel('vx [m/s]', fontsize = pltfslbl,fontname='Times New Roman')\n",
    "axHist2d.set_zlabel('Freq', fontsize = pltfslbl, rotation= 90,fontname='Times New Roman')\n",
    "\n",
    "for label in axDensity.get_xticklabels():\n",
    "    label.set_fontproperties(ticks_font)\n",
    "for label in axDensity.get_yticklabels():\n",
    "    label.set_fontproperties(ticks_font)\n",
    "\n",
    "for label in axHist2d.get_xticklabels():\n",
    "    label.set_fontproperties(ticks_font)\n",
    "for label in axHist2d.get_yticklabels():\n",
    "    label.set_fontproperties(ticks_font)\n",
    "for label in axHist2d.get_zticklabels():\n",
    "    label.set_fontproperties(ticks_font)\n",
    "\n",
    "plt.tight_layout()\n",
    "\n",
    "\n",
    "\n",
    "\n",
    "#figsavetime = datetime.datetime.now().strftime(\"%d-%m-%Y_%H_%M_%S_%f\")\n",
    "#plt.savefig('fig_art/pdf_hist2d_'+ figsavetime +'.png', bbox_inches='tight', pad_inches=0.1)\n",
    "\n",
    "plt.suptitle('Búsqueda de estados')\n",
    "plt.figtext(0.5, 0.0, 'Figure '+ str(plt.gcf().number), wrap=True, horizontalalignment='center', fontsize=14)\n",
    "\n",
    "plt.show()"
   ]
  },
  {
   "cell_type": "markdown",
   "id": "ed7bf27c",
   "metadata": {
    "pycharm": {
     "name": "#%% md\n"
    }
   },
   "source": [
    "# Clusters\n",
    "Ya que tenemos identificados los estados, los encontramos usando un método de agrupamiento llamado k-means. EL método\n",
    "k-means encuentra puntos en los datos que funcionaran como ancla para definir que puntos se encuentran dentro de\n",
    "determinado grupo mediante distancias euclidianas y el algoritmo de <i> maximum-likelihood</i>. Se eligieron\n",
    "empíricamente 15 grupos, los cuales corresponden a 15 estados dentro del espacio de fases. La gráfica con los 15\n",
    "estados de viento dentro del espacio de fases se muestra en la Figure 4."
   ]
  },
  {
   "cell_type": "code",
   "execution_count": null,
   "id": "12f8b246",
   "metadata": {
    "ExecuteTime": {
     "end_time": "2022-03-24T03:48:27.103082Z",
     "start_time": "2022-03-24T03:48:20.729822Z"
    },
    "pycharm": {
     "name": "#%%\n",
     "is_executing": true
    }
   },
   "outputs": [],
   "source": [
    "n_clusters = 15\n",
    "clusters_wind = myfunc.KMData()\n",
    "clusters_wind.dataframe_to_cluster(df_comp_vel, n_clusters=n_clusters, clusters_data='wind')\n",
    "#crear un dataframe viento, direccion, cluster\n",
    "df_wind_dir_cl = df_wind_dir.copy()\n",
    "#tomando las labels de kmeans y sumandole uno por que empieza en 0\n",
    "#ademas agregando la letra C y ordenando de menor v a mayor vel\n",
    "col_clnames = ['C' + str(clusters_wind.cl_ord[c]+1) for c in clusters_wind.kmeans_labels]\n",
    "df_wind_dir_cl['cluster'] = col_clnames\n",
    "del col_clnames"
   ]
  },
  {
   "cell_type": "markdown",
   "source": [
    "Kmeans devuelve una lista de etiquetas, donde cada etiqueta es un número que corresponde a un cluster determinado. La\n",
    "ubicacion de los\n",
    "centroides se muestra a continuación:"
   ],
   "metadata": {
    "collapsed": false,
    "pycharm": {
     "name": "#%% md\n"
    }
   }
  },
  {
   "cell_type": "code",
   "execution_count": null,
   "outputs": [],
   "source": [
    "clusters_wind.idx_centroids"
   ],
   "metadata": {
    "collapsed": false,
    "pycharm": {
     "name": "#%%\n",
     "is_executing": true
    }
   }
  },
  {
   "cell_type": "markdown",
   "source": [
    "En la tabla se muestra la diferencia entre la magnitud de la velocidad de viento de un cluster y el siguente (columna\n",
    " difer)."
   ],
   "metadata": {
    "collapsed": false,
    "pycharm": {
     "name": "#%% md\n"
    }
   }
  },
  {
   "cell_type": "code",
   "execution_count": null,
   "outputs": [],
   "source": [
    "df_diff_windv = clusters_wind.idx_centroids.copy()\n",
    "for i in range(4):\n",
    "    df_diff_windv.drop(df_diff_windv.columns[0],inplace=True,axis=1)\n",
    "df_diff_windv['difer'] = df_diff_windv.diff().values\n",
    "text_dif_prom =\"La distancia promedio es %0.2f m/s\"%df_diff_windv.difer.mean()\n",
    "#este es para voila, que se vea el dataframe bonito\n",
    "display(HTML(df_diff_windv.to_html()))\n",
    "display(HTML('<p style=\"e;font-size:16px;\">' +text_dif_prom))\n"
   ],
   "metadata": {
    "collapsed": false,
    "pycharm": {
     "name": "#%%\n",
     "is_executing": true
    }
   }
  },
  {
   "cell_type": "markdown",
   "id": "31d40d70",
   "metadata": {
    "pycharm": {
     "name": "#%% md\n"
    }
   },
   "source": [
    "## Plot 15 clusters"
   ]
  },
  {
   "cell_type": "code",
   "execution_count": null,
   "outputs": [],
   "source": [
    "clsclord=('wind',None)\n",
    "ploti = myfunc.PlotSubClusterInt()\n",
    "ploti.create_plot(\n",
    "    clusters_wind.comp_vel,\n",
    "    figsize=(20, 10),\n",
    "    idx_centroids=clusters_wind.idx_centroids,\n",
    "    fign='Figure '+ str(plt.gcf().number+1),\n",
    "    save_folder='figures_tests/',\n",
    "    filename = 'plot_clusters_joined',\n",
    "    showlBetz=False,\n",
    "    showCent= True,\n",
    "    showOpt= 'Numero',\n",
    "    dfMfgCurve=df_mf_curve\n",
    "                  )"
   ],
   "metadata": {
    "collapsed": false,
    "pycharm": {
     "name": "#%%\n",
     "is_executing": true
    }
   }
  },
  {
   "cell_type": "markdown",
   "source": [
    "## Agrupamiento de clusters"
   ],
   "metadata": {
    "collapsed": false,
    "pycharm": {
     "name": "#%% md\n"
    }
   }
  },
  {
   "cell_type": "markdown",
   "source": [
    "Se pueden agrupar los clusters en clusters que no produzcan energía, y clusters que produzcan energía. Si suponemos\n",
    "que la velocidad de cut-in del aerogenerador es de 4 m/s, podemos decir que las velocidades iguales a menores a la\n",
    "velocidad de cut-in producen 0 Mw y se pueden agrupar en un solo cluster"
   ],
   "metadata": {
    "collapsed": false,
    "pycharm": {
     "name": "#%% md\n"
    }
   }
  },
  {
   "cell_type": "code",
   "execution_count": null,
   "outputs": [],
   "source": [
    "#probabilidades de cada estado\n",
    "dfclvv = myfunc.create_clustered_data(df_wind_dir,clusters_wind.kmeans_labels)\n",
    "\n",
    "nregcl=[]\n",
    "for col in dfclvv.columns:\n",
    "    nregcl.append(len(dfclvv[dfclvv[col].notna()]))\n",
    "ntotreg= len(df_wind_dir)\n",
    "df_prob_x_estado = pd.DataFrame(clusters_wind.idx_centroids['mag_windv'].values,columns=['vel'])\n",
    "df_prob_x_estado.set_index(dfclvv.columns,inplace=True)\n",
    "df_prob_x_estado.index.name= 'cluster'\n",
    "df_prob_x_estado['%prob']=np.array(nregcl)/ntotreg *100\n",
    "df_prob_x_estado"
   ],
   "metadata": {
    "collapsed": false,
    "pycharm": {
     "name": "#%%\n",
     "is_executing": true
    }
   }
  },
  {
   "cell_type": "code",
   "execution_count": null,
   "outputs": [],
   "source": [],
   "metadata": {
    "collapsed": false,
    "pycharm": {
     "name": "#%%\n",
     "is_executing": true
    }
   }
  },
  {
   "cell_type": "code",
   "execution_count": null,
   "outputs": [],
   "source": [
    "df_prob_x_estado.iloc[[0,1,2,3,4]]['%prob'].sum()    -100"
   ],
   "metadata": {
    "collapsed": false,
    "pycharm": {
     "name": "#%%\n",
     "is_executing": true
    }
   }
  },
  {
   "cell_type": "markdown",
   "source": [
    "Además, si agrupamos los clusters conjuntos con velocidades de viento similares y porcentajes de ocurrencia\n",
    "significativos, podemos agrupar los clusters de la siguiente manera:\n",
    "<ul>\n",
    "  <li>C1, C2, C3, C4, C5 y C6</li>\n",
    "  <li>C8 y C9 </li>\n",
    "  <li>C10 y C11</li>\n",
    "  <li>C12 y C13</li>\n",
    "  <li>C14 y C15</li>\n",
    "</ul>\n",
    "\n",
    "El cluster C7 se elimina debido a la baja probabilidad de ocurrir.\n",
    "\n"
   ],
   "metadata": {
    "collapsed": false,
    "pycharm": {
     "name": "#%% md\n"
    }
   }
  },
  {
   "cell_type": "code",
   "execution_count": null,
   "outputs": [],
   "source": [
    "col_to_join = [['C1','C2','C3','C4','C5','C6',],['C8','C9'],['C10','C11'],['C12','C13'],['C14','C15']]\n",
    "col_to_del = [['C7']]\n",
    "dfclvv_joined = myfunc.join_clusters(dfclvv.copy(),col_to_join,col_to_del)\n",
    "df_comp_vel_joined = myfunc.join_clusters(clusters_wind.comp_vel.copy(),col_to_join,col_to_del)\n",
    "clsclord=('wind',None)\n",
    "ploti = myfunc.PlotSubClusterInt()\n",
    "ploti.create_plot(\n",
    "    df_comp_vel_joined,\n",
    "    figsize=(20, 10),\n",
    "    fign='Figure '+ str(plt.gcf().number+1),\n",
    "    save_folder='figures_tests/',\n",
    "    filename = 'plot_clusters_joined',\n",
    "    showlBetz=False,\n",
    "    showCent= False,\n",
    "    showOpt= 'Ninguno',\n",
    "    dfMfgCurve=df_mf_curve\n",
    ")"
   ],
   "metadata": {
    "collapsed": false,
    "pycharm": {
     "name": "#%%\n",
     "is_executing": true
    }
   }
  },
  {
   "cell_type": "markdown",
   "source": [
    "Si hacemos una operación de clustering cambiando el número de clusters de 15 a 5 se obtiene la imagen."
   ],
   "metadata": {
    "collapsed": false,
    "pycharm": {
     "name": "#%% md\n"
    }
   }
  },
  {
   "cell_type": "code",
   "execution_count": null,
   "outputs": [],
   "source": [
    "n_clusters = 5\n",
    "clusters_wind_5 = myfunc.KMData()\n",
    "clusters_wind_5.dataframe_to_cluster(df_comp_vel, n_clusters=n_clusters, clusters_data='wind')\n",
    "clsclord=('wind',None)\n",
    "ploti_5c = myfunc.PlotSubClusterInt()\n",
    "ploti_5c.create_plot(\n",
    "    clusters_wind_5.comp_vel,\n",
    "    figsize=(20, 10),\n",
    "    idx_centroids=clusters_wind_5.idx_centroids,\n",
    "    fign='Figure '+ str(plt.gcf().number+1),\n",
    "    save_folder = 'figures_tests/',\n",
    "    filename = 'plot5clusters',\n",
    "    showlBetz=False,\n",
    "    showCent= True,\n",
    "    showOpt= 'Numero',\n",
    "    dfMfgCurve=df_mf_curve\n",
    ")"
   ],
   "metadata": {
    "collapsed": false,
    "pycharm": {
     "name": "#%%\n",
     "is_executing": true
    }
   }
  },
  {
   "cell_type": "markdown",
   "source": [
    "Comparación entre la magnitud de la velocidad de viento de los clusters automáticos vs los manuales."
   ],
   "metadata": {
    "collapsed": false,
    "pycharm": {
     "name": "#%% md\n"
    }
   }
  },
  {
   "cell_type": "code",
   "execution_count": null,
   "outputs": [],
   "source": [
    "(8.1*100) /45.89"
   ],
   "metadata": {
    "collapsed": false,
    "pycharm": {
     "name": "#%%\n",
     "is_executing": true
    }
   }
  },
  {
   "cell_type": "code",
   "execution_count": null,
   "outputs": [],
   "source": [
    "#comparacion de magnitudes de vv de clusters automaticos vs manuales\n",
    "prom = []\n",
    "for c in dfclvv_joined.columns:\n",
    "    prom.append(dfclvv_joined[c].mean())\n",
    "df_comp_clust = clusters_wind_5.idx_centroids.copy()\n",
    "df_comp_clust.reset_index(inplace=True)\n",
    "cols_to_del =['cluster_ID','vx','vy']\n",
    "for i in cols_to_del:\n",
    "    df_comp_clust.drop(i,axis=1,inplace=True )\n",
    "df_comp_clust.set_index('PCTimeStamp',inplace=True)\n",
    "df_comp_clust.columns=['cl_auto','mag_auto']\n",
    "df_comp_clust.cl_auto=df_comp_clust.cl_auto.apply(lambda c:'C'+str(c))\n",
    "df_comp_clust['cl_manual'] = dfclvv_joined.columns\n",
    "df_comp_clust['mag_manual'] = prom\n",
    "df_comp_clust"
   ],
   "metadata": {
    "collapsed": false,
    "pycharm": {
     "name": "#%%\n",
     "is_executing": true
    }
   }
  },
  {
   "cell_type": "markdown",
   "source": [
    "# Estudio de impacto ambiental (Proyecto San Carlos)"
   ],
   "metadata": {
    "collapsed": false
   }
  },
  {
   "cell_type": "markdown",
   "id": "1b33c729",
   "metadata": {
    "pycharm": {
     "name": "#%% md\n"
    }
   },
   "source": [
    "[\"MIA Eolico San Carlos.pdf\"](file:///MIA.pdf)\n"
   ]
  },
  {
   "cell_type": "markdown",
   "id": "aeef09c4",
   "metadata": {
    "pycharm": {
     "name": "#%% md\n"
    }
   },
   "source": [
    "## Resumen"
   ]
  },
  {
   "cell_type": "markdown",
   "id": "b9dd898d",
   "metadata": {
    "pycharm": {
     "name": "#%% md\n"
    }
   },
   "source": [
    "Para el proyecto eólico San Carlos se hizo un estudio de impacto ambiental con un análisis de viento que se obtuvo a\n",
    "partir de una torre de sensores instalada en el sitio. Las observaciones abarcan de octubre de 2005 a septiembre de\n",
    "2006, a 30, 40, 50 y 60 m de altura y a intervalos de 10 min. La mediana[sic?] del viento, a 60 m de altura, es de 4\n",
    ".8 m/s (17.3 km/h), en abril se presentan los vientos de mayor intensidad, de 6.2 m/s (22 km/h), y en diciembre se\n",
    "presentan los vientos de mayor intensidad, de 6.2 m/s (22 km/h), y en diciembre se presentan los de menor intensidad\n",
    "3.9 m/s (14 km/h). Los vientos de mayor magnitud se observan en julio y septiembre, alcanzando los 20 m/s (72 km/h) y\n",
    " 18 m/s (64.8 km/h) respectivamente. Estos valores extremos se encuentran relacionados con el paso de los huracanes\n",
    " \"Lane\" y \"Jon\" respectivamente."
   ]
  },
  {
   "cell_type": "code",
   "execution_count": null,
   "outputs": [],
   "source": [
    "fig, axs = plt.subplots(2, 2,figsize=(10,10),constrained_layout=True)\n",
    "imv30 = plt.imread('figuras/magnitud_viento_30m_matancitas.png')\n",
    "imv40 = plt.imread('figuras/magnitud_viento_40m_matancitas.png')\n",
    "imv50 = plt.imread('figuras/magnitud_viento_50m_matancitas.png')\n",
    "imv60 = plt.imread('figuras/magnitud_viento_60m_matancitas.png')\n",
    "axs[0,0].axis('off')\n",
    "axs[1,1].axis('off')\n",
    "axs[1,0].axis('off')\n",
    "axs[0,1].axis('off')\n",
    "axs[0,0].imshow(imv30)\n",
    "axs[0,1].imshow(imv40)\n",
    "axs[1,0].imshow(imv50)\n",
    "axs[1,1].imshow(imv60)\n",
    "plt.suptitle('Estadísticas de viento en Matancitas')\n",
    "plt.figtext(0.5, 0.01, 'Figure '+ str(plt.gcf().number), wrap=True, horizontalalignment='center', fontsize=14)\n",
    "plt.show()"
   ],
   "metadata": {
    "collapsed": false,
    "pycharm": {
     "name": "#%%\n",
     "is_executing": true
    }
   }
  },
  {
   "cell_type": "markdown",
   "source": [
    "La Figure 6 muestra la magnitud y dirección de los vientos a 50 m de altura, observándose que pedominan los vientos\n",
    "del sureste."
   ],
   "metadata": {
    "collapsed": false,
    "pycharm": {
     "name": "#%% md\n"
    }
   }
  },
  {
   "cell_type": "code",
   "source": [
    "plt.figure(7, figsize=(5,5))\n",
    "imvd50 = plt.imread('figuras/magnitud_viento_dir_50m_matancitas.png')\n",
    "plt.axis('off')\n",
    "plt.imshow(imvd50)\n",
    "plt.suptitle('Magnitud y dirección de viento en Matancitas')\n",
    "plt.figtext(0.5, 0.01, 'Figure '+ str(plt.gcf().number), wrap=True, horizontalalignment='center', fontsize=14)\n",
    "plt.tight_layout()\n",
    "plt.show()"
   ],
   "metadata": {
    "collapsed": false,
    "pycharm": {
     "name": "#%%\n",
     "is_executing": true
    }
   },
   "execution_count": null,
   "outputs": []
  },
  {
   "cell_type": "markdown",
   "source": [
    "## Datos de viento de 2005"
   ],
   "metadata": {
    "collapsed": false,
    "pycharm": {
     "name": "#%% md\n"
    }
   }
  },
  {
   "cell_type": "markdown",
   "source": [
    "Analizando los datos de viento se obtiene lo siguiente:"
   ],
   "metadata": {
    "collapsed": false,
    "pycharm": {
     "name": "#%% md\n"
    }
   }
  },
  {
   "cell_type": "code",
   "execution_count": null,
   "id": "3ec92ae8",
   "metadata": {
    "ExecuteTime": {
     "end_time": "2022-03-24T03:48:29.081892Z",
     "start_time": "2022-03-24T03:48:29.051982Z"
    },
    "pycharm": {
     "name": "#%%\n",
     "is_executing": true
    }
   },
   "outputs": [],
   "source": [
    "prom = df_wind_dir.vwind.mean()\n",
    "abril = df_wind_dir[df_wind_dir.index.month==4].vwind.mean()\n",
    "diciembre = df_wind_dir[df_wind_dir.index.month==12].vwind.mean()\n",
    "print('Velocidad promedio anual: %0.2f\\nVelocidad promedio abril: %0.2f\\n'\n",
    "      'Velocidad promedio diciembre: %0.2f' %(prom,abril,diciembre))\n",
    "\n"
   ]
  },
  {
   "cell_type": "markdown",
   "source": [
    "# Box plot "
   ],
   "metadata": {
    "collapsed": false,
    "pycharm": {
     "name": "#%% md\n"
    }
   }
  },
  {
   "cell_type": "code",
   "execution_count": null,
   "outputs": [],
   "source": [
    "# #https://onlinelibrary.wiley.com/doi/pdf/10.1016/j.pmrj.2016.02.001\n",
    "# #https://www.uaq.mx/statsoft/glose.html\n",
    "#\n",
    "# #obtener mediana de cada mes\n",
    "# medianas = \\\n",
    "#     [np.round(df_wind_dir.loc[df_wind_dir.index.month==m].vwind.median(),1) for m in range(1,13)]\n",
    "# # percentile 25\n",
    "# perc25 =\\\n",
    "#     [np.round(df_wind_dir.loc[df_wind_dir.index.month==m].vwind.quantile(q=0.25),1) for m in range(1,13)]\n",
    "# #percentile 75\n",
    "# perc75 = \\\n",
    "#     [np.round(df_wind_dir.loc[df_wind_dir.index.month==m].vwind.quantile(q=0.75),1) for m in range(1,13)]\n",
    "# #obtener datos de los percentiles\n",
    "# #dividir el dataframe en meses\n",
    "# data_mes =[np.round(df_wind_dir.loc[df_wind_dir.index.month==m],1) for m in range(1,13)]\n",
    "# #obtener los datos mayores al percentil 25\n",
    "# data_p25 = [data_mes[m].loc[data_mes[m].vwind<perc25[m]] for m in range(12)]\n",
    "# #obtener los datos mayores al percentil 75\n",
    "# data_p75 = [data_mes[m].loc[data_mes[m].vwind>perc75[m]] for m in range(12)]\n",
    "# # valores extremos 1.5 de la longitud de la caja (interquarltile range)\n",
    "# #extremo percentil 25\n",
    "# data_p25_ext = [data_mes[m].loc[data_mes[m].vwind<perc25[m]*1.5] for m in range(12)]\n",
    "# #extremo percentil 75\n",
    "# data_p75_ext = [data_mes[m].loc[data_mes[m].vwind>perc75[m]*1.5] for m in range(12)]\n",
    "# #los bigotes (whiskers) son el lower extreme y el upper extreme\n",
    "# lower_extreme = [data_p25_ext[m].vwind.min() for m in range(12)]\n",
    "# upper_extreme = [data_p75_ext[m].vwind.min() for m in range(12)]"
   ],
   "metadata": {
    "collapsed": false,
    "pycharm": {
     "name": "#%%\n",
     "is_executing": true
    }
   }
  },
  {
   "cell_type": "code",
   "execution_count": null,
   "outputs": [],
   "source": [
    "#dividir el dataframe en meses\n",
    "data_mes =[np.round(df_wind_dir.loc[df_wind_dir.index.month==m],1) for m in range(1,13)]\n",
    "#obtener nombres de los meses\n",
    "nomb_meses = [datetime.strptime(str(m), \"%m\").strftime(\"%b\") for m in range(1, 13)]\n",
    "plt.figure(figsize=(10,5))\n",
    "data_mes_dividida = [data_mes[m].vwind.values for m in range(12)]\n",
    "for m in range(12):\n",
    "    plt.boxplot(data_mes_dividida,notch=True,labels=nomb_meses,meanline=True)\n",
    "plt.xticks(fontsize=12, rotation=90)\n",
    "plt.suptitle('Magnitud del viento en Matancitas 40m (2006)')\n",
    "plt.figtext(0.5, 0.01, 'Figure '+ str(plt.gcf().number), wrap=True, horizontalalignment='center', fontsize=14)\n",
    "plt.ylabel('Wind [m/s]')\n",
    "plt.tight_layout()\n",
    "plt.show()"
   ],
   "metadata": {
    "collapsed": false,
    "pycharm": {
     "name": "#%%\n",
     "is_executing": true
    }
   }
  },
  {
   "cell_type": "markdown",
   "id": "6d91d229",
   "metadata": {
    "pycharm": {
     "name": "#%% md\n"
    }
   },
   "source": [
    "## Plot de direcciones de viento"
   ]
  },
  {
   "cell_type": "code",
   "execution_count": null,
   "id": "45df9d30",
   "metadata": {
    "ExecuteTime": {
     "end_time": "2022-03-24T03:48:29.620528Z",
     "start_time": "2022-03-24T03:48:29.086879Z"
    },
    "pycharm": {
     "name": "#%%\n",
     "is_executing": true
    }
   },
   "outputs": [],
   "source": [
    "myfunc.plot_vectors(df_comp_vel,fign=plt.gcf().number+1,show_month=0)\n"
   ]
  },
  {
   "cell_type": "markdown",
   "id": "8cd8fdc5",
   "metadata": {
    "pycharm": {
     "name": "#%% md\n"
    }
   },
   "source": [
    "## Curva de potencia del fabricante"
   ]
  },
  {
   "cell_type": "code",
   "execution_count": null,
   "id": "7ada71e5",
   "metadata": {
    "ExecuteTime": {
     "end_time": "2022-03-24T03:48:29.667373Z",
     "start_time": "2022-03-24T03:48:29.622474Z"
    },
    "pycharm": {
     "name": "#%%\n",
     "is_executing": true
    }
   },
   "outputs": [],
   "source": [
    "#https://www.thewindpower.net/turbine_es_575_dewind_d8.2.php\n",
    "#http://windatlas.xyz/turbine/?name=Dewind%20D8.2\n",
    "plt.figure()\n",
    "plt.plot(df_mf_curve.index,df_mf_curve.pw)\n",
    "plt.show()"
   ]
  },
  {
   "cell_type": "markdown",
   "id": "4b9a0b32",
   "metadata": {},
   "source": [
    "# Markov"
   ]
  },
  {
   "cell_type": "markdown",
   "source": [
    "## Step plot"
   ],
   "metadata": {
    "collapsed": false,
    "pycharm": {
     "name": "#%% md\n"
    }
   }
  },
  {
   "cell_type": "code",
   "execution_count": null,
   "outputs": [],
   "source": [
    "#convetir matriz de estados a vector de estados (o transiciones)\n",
    "#este vector debe ser igual a kmeans_labels  cuando no se ha modificado el df\n",
    "vect_states = myfunc.mat_to_vector(dfclvv)\n",
    "#primera fecha de registro de datos\n",
    "first_date= df_wind_dir.index[0]\n",
    "last_date =  df_wind_dir.index[-1]\n",
    "wdg_stateplot_datepicker =widgets.DatePicker(description='(mm/dd/YYYY:', disabled=False, start=first_date )\n",
    "wdg_stateplot_datepicker.value=first_date\n",
    "wdg_stateplot_actbutton = widgets.Button(description='Actualizar')\n",
    "display(wdg_stateplot_datepicker)\n",
    "display(wdg_stateplot_actbutton)\n",
    "output = widgets.Output()\n",
    "display(output)\n",
    "def on_button_stateplot_clicked(b,outp):\n",
    "    \"\"\"\n",
    "    Crea un stepplot de acuerdo a la fecha seleccionada\n",
    "    :param b:\n",
    "    \"\"\"\n",
    "\n",
    "    mask_month = df_wind_dir.index.month ==wdg_stateplot_datepicker.value.month\n",
    "    mask_day =  df_wind_dir.index.day ==wdg_stateplot_datepicker.value.day\n",
    "    data = df_wind_dir.loc[mask_month & mask_day ]\n",
    "    fig, ax = plt.subplots(figsize=(15,5))\n",
    "\n",
    "    ax.step(data.index,clusters_wind.kmeans_labels[:len(data)],where='post')\n",
    "    hours = mdates.MinuteLocator(interval=30)\n",
    "    h_fmt = mdates.DateFormatter('%H:%M')\n",
    "    ax.xaxis.set_major_locator(hours)\n",
    "    ax.xaxis.set_major_formatter(h_fmt)\n",
    "    plt.xticks(rotation = 90)\n",
    "    ax.set_xticks(pd.date_range(start=wdg_stateplot_datepicker.value, end=wdg_stateplot_datepicker.value+pd.to_timedelta('1D'),\n",
    "                                freq='30min'))\n",
    "    plt.suptitle(str(wdg_stateplot_datepicker.value.strftime('%Y-%m-%d')))\n",
    "    plt.tight_layout()\n",
    "    plt.xlabel('Hora del día')\n",
    "    plt.ylabel('Estado')\n",
    "    output(fig)\n",
    "wdg_stateplot_actbutton.on_click(on_button_stateplot_clicked)\n",
    "\n"
   ],
   "metadata": {
    "collapsed": false,
    "pycharm": {
     "name": "#%%\n",
     "is_executing": true
    }
   }
  },
  {
   "cell_type": "code",
   "execution_count": null,
   "id": "6d1a0e7f",
   "metadata": {
    "ExecuteTime": {
     "end_time": "2022-03-24T03:48:29.730235Z",
     "start_time": "2022-03-24T03:48:29.716229Z"
    },
    "pycharm": {
     "name": "#%%\n",
     "is_executing": true
    }
   },
   "outputs": [],
   "source": [
    "mask_month = df_wind_dir.index.month ==wdg_stateplot_datepicker.value.month\n",
    "mask_day =  df_wind_dir.index.day ==wdg_stateplot_datepicker.value.day\n",
    "mask_month = df_wind_dir.index.month ==pd.to_datetime('2005/08/01').month\n",
    "mask_day =  df_wind_dir.index.day ==pd.to_datetime('2005/08/01').day\n",
    "data = df_wind_dir_cl.loc[mask_month  ]\n",
    "lcluster =df_wind_dir_cl.loc[mask_month ].cluster.apply(lambda x:int(x[1:]))\n",
    "\n",
    "fig, ax = plt.subplots(figsize=(15,5))\n",
    "\n",
    "#ax.step(data.index,clusters_wind.kmeans_labels[:len(data)],where='post')\n",
    "ax.step(data.index,lcluster,where='post')\n",
    "\n",
    "# hours = mdates.MinuteLocator(interval=30)\n",
    "# h_fmt = mdates.DateFormatter('%H:%M')\n",
    "# ax.xaxis.set_major_locator(hours)\n",
    "# ax.xaxis.set_major_formatter(h_fmt)\n",
    "plt.xticks(rotation = 90)\n",
    "#ax.set_xticks(pd.date_range(start=pd.to_datetime('2005/06/01'), end=pd.to_datetime('2005/06/01')+pd.to_timedelta('1M'),\n",
    "                           # freq='30min'))\n",
    "#plt.suptitle(str(wdg_stateplot_datepicker.value.strftime('%Y-%m-%d')))\n",
    "plt.tight_layout()\n",
    "plt.xlabel('Hora del día')\n",
    "plt.ylabel('Estado')\n",
    "plt.show()\n",
    "\n",
    "\n"
   ]
  },
  {
   "cell_type": "code",
   "execution_count": null,
   "outputs": [],
   "source": [
    "dfclvv = myfunc.create_clustered_data(data,lcluster)\n",
    "dfclvv"
   ],
   "metadata": {
    "collapsed": false,
    "pycharm": {
     "name": "#%%\n",
     "is_executing": true
    }
   }
  },
  {
   "cell_type": "code",
   "execution_count": null,
   "outputs": [],
   "source": [
    "mat_trans_prob= myfunc.trans_matrix_from_df(dfclvv,mat_mode='prob')\n",
    "mat_trans_prob"
   ],
   "metadata": {
    "collapsed": false,
    "pycharm": {
     "name": "#%%\n",
     "is_executing": true
    }
   }
  },
  {
   "cell_type": "code",
   "execution_count": null,
   "outputs": [],
   "source": [
    "\n",
    "#SOLO FUNCIONA PARA FILAS PERO NO PARA COLUMNAS\n",
    "plt.figure(figsize=(20,18))\n",
    "\n",
    "ht =sns.heatmap(mat_trans_prob, annot=True,fmt='.2f')\n",
    "figure = ht.get_figure()\n",
    "plt.show()\n",
    "figure.savefig('ht_prob_martes.png', dpi=400)\n"
   ],
   "metadata": {
    "collapsed": false,
    "pycharm": {
     "name": "#%%\n",
     "is_executing": true
    }
   }
  },
  {
   "cell_type": "code",
   "execution_count": null,
   "outputs": [],
   "source": [
    "myfunc.create_mc_plot(20,mat_trans_prob.copy(), filename ='markovmartes.jpg',as_pct=True, replace_zero_to_nan=False);\n"
   ],
   "metadata": {
    "collapsed": false,
    "pycharm": {
     "name": "#%%\n",
     "is_executing": true
    }
   }
  },
  {
   "cell_type": "markdown",
   "id": "f9f6ba51",
   "metadata": {},
   "source": []
  },
  {
   "cell_type": "code",
   "execution_count": null,
   "outputs": [],
   "source": [
    "lcluster =df_wind_dir_cl.cluster.apply(lambda x:str(x[1:])).values"
   ],
   "metadata": {
    "collapsed": false,
    "pycharm": {
     "name": "#%%\n",
     "is_executing": true
    }
   }
  },
  {
   "cell_type": "code",
   "execution_count": null,
   "outputs": [],
   "source": [
    "fig, ax = plt.subplots(figsize=(15,5))\n",
    "\n",
    "ax.step(data.index,clusters_wind.kmeans_labels[:len(data)],where='post')\n",
    "hours = mdates.MinuteLocator(interval=30)\n",
    "h_fmt = mdates.DateFormatter('%H:%M')\n",
    "ax.xaxis.set_major_locator(hours)\n",
    "ax.xaxis.set_major_formatter(h_fmt)\n",
    "plt.xticks(rotation = 90)\n",
    "ax.set_xticks(pd.date_range(start=wdg_stateplot_datepicker.value, end=wdg_stateplot_datepicker.value+pd.to_timedelta('1D'),\n",
    "                            freq='30min'))\n",
    "plt.suptitle(str(wdg_stateplot_datepicker.value.strftime('%Y-%m-%d')))\n",
    "plt.tight_layout()\n",
    "plt.xlabel('Hora del día')\n",
    "plt.ylabel('Estado')\n",
    "plt.show()\n"
   ],
   "metadata": {
    "collapsed": false,
    "pycharm": {
     "name": "#%%\n",
     "is_executing": true
    }
   }
  },
  {
   "cell_type": "markdown",
   "id": "5517e4e4",
   "metadata": {
    "pycharm": {
     "name": "#%% md\n"
    }
   },
   "source": [
    "# Estacionalidad"
   ]
  },
  {
   "cell_type": "code",
   "execution_count": null,
   "id": "fe859293",
   "metadata": {
    "ExecuteTime": {
     "end_time": "2022-03-24T03:48:29.823944Z",
     "start_time": "2022-03-24T03:48:29.794026Z"
    },
    "pycharm": {
     "name": "#%%\n",
     "is_executing": true
    }
   },
   "outputs": [],
   "source": [
    "df = df_wind_dir_cl.copy()\n",
    "#estaciones meteoroligicas (no astronomicas)\n",
    "primavera_inicio = pd.to_datetime('1-03-2005',format='%d-%m-%Y')\n",
    "verano_inicio = pd.to_datetime('1-06-2005',format='%d-%m-%Y')\n",
    "otonio_inicio = pd.to_datetime('1-09-2005',format='%d-%m-%Y')\n",
    "invierno_inicio = pd.to_datetime('1-12-2005',format='%d-%m-%Y')\n",
    "\n",
    "maskPrim = ( (df.index >=primavera_inicio ) &(df.index <verano_inicio ))\n",
    "dfwd_prim = df.loc[maskPrim]\n",
    "\n",
    "maskVer = ( (df.index >=verano_inicio  ) &(df.index <otonio_inicio ))\n",
    "dfwd_ver = df.loc[maskVer]\n",
    "\n",
    "maskOtonio= ( (df.index >=otonio_inicio ) &(df.index <invierno_inicio ))\n",
    "dfwd_otonio = df.loc[maskOtonio]\n",
    "\n",
    "maskInv = ( (df.index < primavera_inicio) | (df.index >=invierno_inicio ))\n",
    "\n",
    "dfwd_inv = df.loc[maskInv]\n"
   ]
  },
  {
   "cell_type": "markdown",
   "id": "234eb9b5",
   "metadata": {
    "pycharm": {
     "name": "#%% md\n"
    }
   },
   "source": [
    "## Primavera"
   ]
  },
  {
   "cell_type": "code",
   "execution_count": null,
   "id": "8c840dfc",
   "metadata": {
    "ExecuteTime": {
     "end_time": "2022-03-24T03:48:29.854862Z",
     "start_time": "2022-03-24T03:48:29.826936Z"
    },
    "pycharm": {
     "name": "#%%\n",
     "is_executing": true
    }
   },
   "outputs": [],
   "source": [
    "gp_prim =dfwd_prim.groupby(\"cluster\").count()\n",
    "gp_prim['pct']=gp_prim.wdir.values/(len(dfwd_prim)) *100\n",
    "gp_prim.drop('wdir',axis=1,inplace=True)\n",
    "gp_prim.sort_values(by='pct',ascending=False)\n"
   ]
  },
  {
   "cell_type": "code",
   "execution_count": null,
   "id": "c3292a92",
   "metadata": {
    "ExecuteTime": {
     "end_time": "2022-03-24T03:48:29.932660Z",
     "start_time": "2022-03-24T03:48:29.857860Z"
    },
    "pycharm": {
     "name": "#%%\n",
     "is_executing": true
    }
   },
   "outputs": [],
   "source": [
    "plt.figure()\n",
    "plt.suptitle('% por cluster en primavera ')\n",
    "explode= (0,0,0,0,0)\n",
    "wedges, texts, autotexts = plt.pie(gp_prim.pct, autopct='%1.2f%%', textprops=dict(color=\"w\"),\n",
    "                                   shadow=False, startangle=0)\n",
    "plt.gca().axis('equal')  # Equal aspect ratio ensures that pie is drawn as a circle.\n",
    "plt.legend(labels = gp_prim.index)\n",
    "\n",
    "plt.show()"
   ]
  },
  {
   "cell_type": "markdown",
   "id": "e3d7459a",
   "metadata": {
    "pycharm": {
     "name": "#%% md\n"
    }
   },
   "source": [
    "## Verano"
   ]
  },
  {
   "cell_type": "code",
   "execution_count": null,
   "id": "12d8c880",
   "metadata": {
    "ExecuteTime": {
     "end_time": "2022-03-24T03:48:29.963577Z",
     "start_time": "2022-03-24T03:48:29.934655Z"
    },
    "pycharm": {
     "name": "#%%\n",
     "is_executing": true
    }
   },
   "outputs": [],
   "source": [
    "gp_ver =dfwd_ver.groupby(\"cluster\").count()\n",
    "gp_ver['pct']=gp_ver.wdir.values/(len(dfwd_ver)) *100\n",
    "gp_ver.drop('wdir',axis=1,inplace=True)\n",
    "gp_ver.sort_values(by='pct',ascending=False)"
   ]
  },
  {
   "cell_type": "code",
   "execution_count": null,
   "id": "79b36d90",
   "metadata": {
    "ExecuteTime": {
     "end_time": "2022-03-24T03:48:30.024451Z",
     "start_time": "2022-03-24T03:48:29.965572Z"
    },
    "pycharm": {
     "name": "#%%\n",
     "is_executing": true
    }
   },
   "outputs": [],
   "source": [
    "plt.figure()\n",
    "\n",
    "explode= (0,0,0,0,0)\n",
    "wedges, texts, autotexts = plt.pie(gp_ver.pct, autopct='%1.2f%%', textprops=dict(color=\"w\"),\n",
    "                                   shadow=False, startangle=0)\n",
    "plt.gca().axis('equal')  # Equal aspect ratio ensures that pie is drawn as a circle.\n",
    "plt.legend(labels = gp_ver.index)\n",
    "plt.suptitle('% por cluster en Verano ')\n",
    "plt.show()"
   ]
  },
  {
   "cell_type": "markdown",
   "id": "2665410f",
   "metadata": {
    "pycharm": {
     "name": "#%% md\n"
    }
   },
   "source": [
    "## Otonio"
   ]
  },
  {
   "cell_type": "code",
   "execution_count": null,
   "id": "d54aa019",
   "metadata": {
    "ExecuteTime": {
     "end_time": "2022-03-24T03:48:30.055364Z",
     "start_time": "2022-03-24T03:48:30.026412Z"
    },
    "pycharm": {
     "name": "#%%\n",
     "is_executing": true
    }
   },
   "outputs": [],
   "source": [
    "gp_oto =dfwd_otonio.groupby(\"cluster\").count()\n",
    "gp_oto['pct']=gp_oto.wdir.values/(len(dfwd_otonio)) *100\n",
    "gp_oto.drop('wdir',axis=1,inplace=True)\n",
    "gp_oto.sort_values(by='pct',ascending=False)"
   ]
  },
  {
   "cell_type": "code",
   "execution_count": null,
   "id": "548cb7bc",
   "metadata": {
    "ExecuteTime": {
     "end_time": "2022-03-24T03:48:30.135127Z",
     "start_time": "2022-03-24T03:48:30.058328Z"
    },
    "pycharm": {
     "name": "#%%\n",
     "is_executing": true
    }
   },
   "outputs": [],
   "source": [
    "plt.figure()\n",
    "\n",
    "explode= (0,0,0,0,0)\n",
    "wedges, texts, autotexts = plt.pie(gp_oto.pct, autopct='%1.2f%%', textprops=dict(color=\"w\"),\n",
    "                                   shadow=False, startangle=0)\n",
    "plt.gca().axis('equal')  # Equal aspect ratio ensures that pie is drawn as a circle.\n",
    "plt.legend(labels = gp_oto.index)\n",
    "plt.suptitle('% por cluster en otoño ')\n",
    "\n",
    "plt.show()"
   ]
  },
  {
   "cell_type": "markdown",
   "id": "2f9ba48f",
   "metadata": {
    "pycharm": {
     "name": "#%% md\n"
    }
   },
   "source": [
    "## Invierno"
   ]
  },
  {
   "cell_type": "code",
   "execution_count": null,
   "id": "01b9667a",
   "metadata": {
    "ExecuteTime": {
     "end_time": "2022-03-24T03:48:30.165049Z",
     "start_time": "2022-03-24T03:48:30.137123Z"
    },
    "pycharm": {
     "name": "#%%\n",
     "is_executing": true
    }
   },
   "outputs": [],
   "source": [
    "gp_inv =dfwd_inv.groupby(\"cluster\").count()\n",
    "gp_inv['pct']=gp_inv.wdir.values/(len(dfwd_inv)) *100\n",
    "gp_inv.drop('wdir',axis=1,inplace=True)\n",
    "gp_inv.sort_values(by='pct',ascending=False)"
   ]
  },
  {
   "cell_type": "code",
   "execution_count": null,
   "id": "cd2ab4cd",
   "metadata": {
    "ExecuteTime": {
     "end_time": "2022-03-24T04:18:06.395091Z",
     "start_time": "2022-03-24T04:18:06.339241Z"
    },
    "pycharm": {
     "name": "#%%\n",
     "is_executing": true
    },
    "tags": [
     "{",
     "\"collapsed\":",
     "\"hide_input\":",
     "true",
     "\"trusted\":",
     "}"
    ]
   },
   "outputs": [],
   "source": [
    "plt.figure()\n",
    "\n",
    "explode= (0,0,0,0,0)\n",
    "wedges, texts, autotexts = plt.pie(gp_inv.pct, autopct='%1.2f%%', textprops=dict(color=\"w\"),\n",
    "                                   shadow=False, startangle=0)\n",
    "plt.gca().axis('equal')  # Equal aspect ratio ensures that pie is drawn as a circle.\n",
    "plt.legend(labels = gp_inv.index)\n",
    "plt.suptitle('% por cluster en invierno')\n",
    "plt.show()"
   ]
  },
  {
   "cell_type": "code",
   "execution_count": null,
   "outputs": [],
   "source": [
    "idx = df_wind_dir.loc[(df_wind_dir.index.hour==0)  & (df_wind_dir.index.minute==0)].index\n",
    "df_wind_dir.loc[idx].index = df_wind_dir.loc[idx].index + pd.to_timedelta(1,'d')"
   ],
   "metadata": {
    "collapsed": false,
    "pycharm": {
     "name": "#%%\n",
     "is_executing": true
    }
   }
  },
  {
   "cell_type": "code",
   "execution_count": null,
   "outputs": [],
   "source": [
    "a"
   ],
   "metadata": {
    "collapsed": false,
    "pycharm": {
     "name": "#%%\n",
     "is_executing": true
    }
   }
  },
  {
   "cell_type": "code",
   "execution_count": null,
   "outputs": [],
   "source": [
    "filtro1 = a['timeStamp'].dt.hour==0\n",
    "filtro2 = a['timeStamp'].dt.minute==0\n",
    "b =np.where(filtro1.values & filtro2.values)\n",
    "ts = a.timeStamp.values\n",
    "ts[b]=ts[b] + pd.to_timedelta(1,'d')"
   ],
   "metadata": {
    "collapsed": false,
    "pycharm": {
     "name": "#%%\n",
     "is_executing": true
    }
   }
  },
  {
   "cell_type": "code",
   "execution_count": null,
   "outputs": [],
   "source": [
    "df_wind_dir"
   ],
   "metadata": {
    "collapsed": false,
    "pycharm": {
     "name": "#%%\n",
     "is_executing": true
    }
   }
  }
 ],
 "metadata": {
  "celltoolbar": "Tags",
  "hide_input": false,
  "kernelspec": {
   "display_name": "PyCharm (aero)",
   "language": "python",
   "name": "pycharm-a777efb8"
  },
  "language_info": {
   "codemirror_mode": {
    "name": "ipython",
    "version": 3
   },
   "file_extension": ".py",
   "mimetype": "text/x-python",
   "name": "python",
   "nbconvert_exporter": "python",
   "pygments_lexer": "ipython3",
   "version": "3.9.7"
  }
 },
 "nbformat": 4,
 "nbformat_minor": 5
}