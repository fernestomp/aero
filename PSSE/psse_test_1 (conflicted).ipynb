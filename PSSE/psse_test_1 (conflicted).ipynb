{
 "cells": [
  {
   "cell_type": "code",
   "execution_count": 4,
   "metadata": {
    "collapsed": true
   },
   "outputs": [],
   "source": [
    "import os,sys\n",
    "\n",
    "PSSE_LOCATION = r\"C:\\Program Files\\PTI\\PSSE35\\35.3\\PSSPY39\"\n",
    "sys.path.append(PSSE_LOCATION)\n",
    "os.environ['PATH'] = os.environ['PATH'] + ';' +  PSSE_LOCATION\n"
   ]
  },
  {
   "cell_type": "code",
   "execution_count": 5,
   "outputs": [],
   "source": [
    "import os\n",
    "PSSE_PATH = r\"C:\\Program Files\\PTI\\PSSE35\\35.3\\PSSPY39\"\n",
    "if not os.path.exists(PSSE_PATH):\n",
    "    print(\"Bad path\")\n",
    "\n",
    "# continued from previous script\n",
    "import glob\n",
    "fns = glob.glob(os.path.join(PSSE_PATH, 'psspy.*'))\n",
    "if len(fns) == 0:\n",
    "    print(\"Who moved my libraries\")"
   ],
   "metadata": {
    "collapsed": false,
    "pycharm": {
     "name": "#%%\n"
    }
   }
  },
  {
   "cell_type": "code",
   "execution_count": 6,
   "outputs": [
    {
     "name": "stdout",
     "output_type": "stream",
     "text": [
      "    Sets PSSE environment to latest minor version among installed versions of PSSE 35.\n",
      "    Use psse35.set_minor(n) to set PSSE35 minor version (n) to use.\n",
      "        Example, for PSSE 35.0.x, use this as: psse35.set_minor(0)\n",
      "\n",
      " Input error detected at !\n",
      " -m ipykernel_launcher -f C:\\Users\\mungu\\AppData\\Roaming\\jupyter\\runtime\\kernel-aea982d7-d27d-4593-ac55-cfd0c5964cd0.json\n",
      "                          !\n",
      "\n",
      " PSS(R)E Xplore Version 35\n",
      " Copyright (c) 1976-2022\n",
      " Siemens Industry, Inc.,\n",
      " Power Technologies International                            (PTI)\n",
      " This program is a confidential  unpublished  work  created  and  first\n",
      " licensed in 1976.  It is a trade secret which is the property of  PTI.\n",
      " All use,  disclosure,  and/or reproduction not specifically authorized\n",
      " by  PTI  is prohibited.   This  program is protected  under  copyright\n",
      " laws  of  non-U.S.  countries  and  by  application  of  international\n",
      " treaties.  All  Rights  Reserved  Under  The  Copyright  Laws.\n",
      "\n",
      "\n",
      "           SIEMENS POWER TECHNOLOGIES INTERNATIONAL\n",
      "\n",
      "    50 BUS POWER SYSTEM SIMULATOR--PSS(R)E Xplore-35.3.2\n",
      "\n",
      "             INITIATED ON TUE, AUG 23 2022  16:38\n"
     ]
    }
   ],
   "source": [
    "#del archivo pss35.py\n",
    "import psse35\n",
    "psse35.set_minor(3)    # here n is minor version number, like 0 in 35.0.x\n",
    "exam_path = psse35.EXAM_PATH\n",
    "\n",
    "import psspy\n",
    "psspy.throwPsseExceptions = True\n",
    "psspy.psseinit()\n",
    "#\"Retrieve \"no input\" value for characters (i.e., strings) other than filenames. Specify this value to indicate\n",
    "#that \"no input\" is intended\"\n",
    "_i = psspy.getdefaultint()\n",
    "_f = psspy.getdefaultreal()\n",
    "_s = psspy.getdefaultchar()"
   ],
   "metadata": {
    "collapsed": false,
    "pycharm": {
     "name": "#%%\n"
    }
   }
  },
  {
   "cell_type": "code",
   "execution_count": 7,
   "outputs": [
    {
     "data": {
      "text/plain": "'C:\\\\Users\\\\mungu\\\\Documents\\\\GitHub\\\\WAMCS\\\\psse_cases\\\\'"
     },
     "execution_count": 7,
     "metadata": {},
     "output_type": "execute_result"
    }
   ],
   "source": [
    "# ruta de los archivos\n",
    "casePath = r\"C:\\Users\\mungu\\Documents\\GitHub\\WAMCS\\psse_cases\"  +\"\\\\\"\n",
    "casePath"
   ],
   "metadata": {
    "collapsed": false,
    "pycharm": {
     "name": "#%%\n"
    }
   }
  },
  {
   "cell_type": "markdown",
   "source": [
    "# Ejecutar power flow con full Newton-Raphson\n"
   ],
   "metadata": {
    "collapsed": false,
    "pycharm": {
     "name": "#%% md\n"
    }
   }
  },
  {
   "cell_type": "code",
   "execution_count": 8,
   "outputs": [
    {
     "name": "stdout",
     "output_type": "stream",
     "text": [
      "\n",
      " IEEE BENCHMARK SYSTEM VII\n",
      " HTTP://WWW.SEL.EESC.USP.BR/IEEE/\n",
      "\n",
      " The Saved Case in file C:\\Users\\mungu\\Documents\\GitHub\\WAMCS\\psse_cases\\caso_1_original.sav was saved on SAT, AUG 20 2022  12:13\n",
      "\n",
      "  ITER       DELTAP      BUS         DELTAQ      BUS        DELTA/V/      BUS       DELTAANG      BUS\n",
      "   0         0.0000(     10     )    0.0000(      7     )\n",
      "                                                             0.00000(      7     )   0.00000(      1     )\n",
      "   1         0.0000(      9     )    0.0000(      7     )\n",
      "                                                             0.00000(      7     )   0.00000(      5     )\n",
      "   2         0.0000(     10     )    0.0000(     10     )\n",
      "\n",
      "\n",
      " Reached tolerance in 2 iterations\n",
      "\n",
      " Largest mismatch:     -0.00 MW     -0.00 Mvar      0.00 MVA at bus 7 [LOAD A      230.00]\n",
      " System total absolute mismatch:                    0.00 MVA\n",
      "\n",
      " SWING BUS SUMMARY:\n",
      "   BUS#-SCT X-- NAME --X BASKV      PGEN     PMAX    PMIN      QGEN     QMAX    QMIN\n",
      "      3     GEN G3      20.000     719.1    765.0     0.0     176.0    474.0  -200.0\n",
      "El numero de iteraciones fue 2\n"
     ]
    }
   ],
   "source": [
    "#http://www.whit.com.au/blog/2012/12/solve-a-loadflow-with-psse/\n",
    "#opciones por default (ver API pdf)\n",
    "#cargar caso original, para comparar power flow del libro\n",
    "psspy.case(r'C:\\Users\\mungu\\Documents\\GitHub\\WAMCS\\psse_cases\\caso_1_original.sav')\n",
    "psspy.fnsl()\n",
    "\n",
    "number_iterations = psspy.iterat()\n",
    "msg = 'El numero de iteraciones fue %s'\n",
    "print(msg % number_iterations)\n",
    "\n"
   ],
   "metadata": {
    "collapsed": false,
    "pycharm": {
     "name": "#%%\n"
    }
   }
  },
  {
   "cell_type": "code",
   "execution_count": 9,
   "outputs": [
    {
     "name": "stdout",
     "output_type": "stream",
     "text": [
      " Out of file data--switch to terminal input mode\n",
      "\n",
      " Generator models use:\n",
      "  CONS         1-     56\n",
      "  STATES       1-     24\n",
      "\n",
      " Excitation System models use:\n",
      "  CONS        57-    128\n",
      "  STATES      25-     44\n",
      "  ICONS        1-      8\n",
      "\n",
      "\n",
      " SUMMARY OF MODELS READ:\n",
      "\n",
      " GENS:  GENROE\n",
      "           4\n",
      "\n",
      " EXSYS: ESST1A\n",
      "           4\n",
      "\n",
      " NEXT AVAILABLE ADDRESSES ARE:\n",
      "     CON   STATE     VAR    ICON\n",
      "     129      45       1       9\n",
      "\n",
      " Only PSSE supplied models in case. Compilation is not required\n"
     ]
    },
    {
     "data": {
      "text/plain": "0"
     },
     "execution_count": 9,
     "metadata": {},
     "output_type": "execute_result"
    }
   ],
   "source": [
    "psspy.dyre_new(dyrefile= casePath + \"Benchmark_4ger_33_2015.dyr\")\n"
   ],
   "metadata": {
    "collapsed": false,
    "pycharm": {
     "name": "#%%\n"
    }
   }
  },
  {
   "cell_type": "markdown",
   "source": [
    "# Crear las matrices de las variables de estado del sistema  (ASTR)"
   ],
   "metadata": {
    "collapsed": false,
    "pycharm": {
     "name": "#%% md\n"
    }
   }
  },
  {
   "cell_type": "code",
   "execution_count": 10,
   "outputs": [],
   "source": [
    "#https://psspy.org/psse-help-forum/question/9142/issue-running-dynamic-simulation-in-loop-pssev35-vs-pssev34/\n",
    "def coft():\n",
    "    #Use this API to convert generators from their power flow representation in preparation for switching stud-\n",
    "    #ies and dynamic simulations (activity CONG)\n",
    "    psspy.cong(0)#convertir generadores\n",
    "\n",
    "    #Use this API to convert the constant MVA load for a specified grouping of network loads to a specified mix-\n",
    "    #ture of the constant MVA, constant current, and constant admittance load characteristics (activity CONL)\n",
    "    psspy.conl(0)#convertir cargas\n",
    "\n",
    "    #Use this API to calculate a sparsity preserving ordering of buses in preparation for the processing of net-\n",
    "    #work matrices.\n",
    "    psspy.ordr(0)\n",
    "\n",
    "    #Use this API to factorize the network admittance matrix in preparation for switching studies and dynamic\n",
    "    #simulations (activity FACT).\n",
    "    psspy.fact()\n",
    "\n",
    "    #use this API to run switching study network solutions.\n",
    "    psspy.tysl(0)"
   ],
   "metadata": {
    "collapsed": false,
    "pycharm": {
     "name": "#%%\n"
    }
   }
  },
  {
   "cell_type": "code",
   "execution_count": 11,
   "outputs": [
    {
     "name": "stdout",
     "output_type": "stream",
     "text": [
      "\n",
      " Generator conversion completed using ZSORCE\n",
      "\n",
      " Messages for api CONL\n",
      " Invalid APIOPT value: <omitted value>   (001421)\n",
      " Diagonals = 11   Off-diagonals = 10   Maximum size = 20\n",
      "\n",
      " 11 diagonal and 10 off-diagonal elements\n",
      "\n",
      " ITER DELTAV/TOL X----------- AT BUS -----------X  REAL(DELTAV)  IMAG(DELTAV)\n",
      "    1     0.004       2     [GEN G2      20.000]    0.4026E-07   -0.8322E-09\n",
      "\n",
      " Reached tolerance in 1 iterations\n",
      "\n",
      " Largest mismatch:     -0.00 MW      0.00 Mvar      0.00 MVA at bus 1 [GEN G1      20.000]\n",
      " System total absolute mismatch:                    0.00 MVA\n"
     ]
    }
   ],
   "source": [
    "coft()\n"
   ],
   "metadata": {
    "collapsed": false,
    "pycharm": {
     "name": "#%%\n"
    }
   }
  },
  {
   "cell_type": "code",
   "execution_count": 12,
   "outputs": [
    {
     "name": "stdout",
     "output_type": "stream",
     "text": [
      "\n",
      " Snapshot at TIME = 0.0 saved in file C:\\Users\\mungu\\Documents\\GitHub\\WAMCS\\psse_cases\\test.snp on TUE, AUG 23 2022  16:38\n"
     ]
    },
    {
     "data": {
      "text/plain": "0"
     },
     "execution_count": 12,
     "metadata": {},
     "output_type": "execute_result"
    }
   ],
   "source": [
    "psspy.snap(sfile=casePath + \"test.snp\")"
   ],
   "metadata": {
    "collapsed": false,
    "pycharm": {
     "name": "#%%\n"
    }
   }
  },
  {
   "cell_type": "code",
   "execution_count": 13,
   "outputs": [
    {
     "name": "stdout",
     "output_type": "stream",
     "text": [
      "\n",
      " The Snapshot at TIME = 0.0 in file C:\\Users\\mungu\\Documents\\GitHub\\WAMCS\\psse_cases\\test.snp was saved on TUE, AUG 23 2022  16:38\n",
      "\n",
      " NUMBER OF ELEMENTS RESTORED:\n",
      "    CONS  STATES    VARS   ICONS  CHANNELS\n",
      "     128      44       0       8       0\n"
     ]
    },
    {
     "data": {
      "text/plain": "0"
     },
     "execution_count": 13,
     "metadata": {},
     "output_type": "execute_result"
    }
   ],
   "source": [
    "psspy.rstr(casePath + \"test.snp\")"
   ],
   "metadata": {
    "collapsed": false,
    "pycharm": {
     "name": "#%%\n"
    }
   }
  },
  {
   "cell_type": "code",
   "execution_count": 14,
   "outputs": [
    {
     "name": "stdout",
     "output_type": "stream",
     "text": [
      "\n",
      " 11 diagonal and 10 off-diagonal elements\n",
      "\n",
      " Model GENROE Bus 1 [GEN G1      20.000] Machine \"1 \" :\n",
      " X''D =  0.2500     and Imaginary part of complex machine impedance (ZSORCE) =  0.2000     differ by > 0.000005\n",
      "\n",
      " Model GENROE Bus 2 [GEN G2      20.000] Machine \"1 \" :\n",
      " X''D =  0.2500     and Imaginary part of complex machine impedance (ZSORCE) =  0.2000     differ by > 0.000005\n",
      "\n",
      " Model GENROE Bus 3 [GEN G3      20.000] Machine \"1 \" :\n",
      " X''D =  0.2500     and Imaginary part of complex machine impedance (ZSORCE) =  0.2000     differ by > 0.000005\n",
      "\n",
      " Model GENROE Bus 4 [GEN G4      20.000] Machine \"1 \" :\n",
      " X''D =  0.2500     and Imaginary part of complex machine impedance (ZSORCE) =  0.2000     differ by > 0.000005\n",
      "\n",
      "  PTI INTERACTIVE POWER SYSTEM SIMULATOR--PSS(R)E Xplore TUE, AUG 23 2022  16:38\n",
      " IEEE BENCHMARK SYSTEM VII\n",
      " HTTP://WWW.SEL.EESC.USP.BR/IEEE/\n",
      "\n",
      " INITIAL CONDITION LOAD FLOW USED 1 ITERATIONS\n",
      "\n",
      " ----------------------------- MACHINE INITIAL CONDITIONS -----------------------------\n",
      "   BUS#-SCT X-- NAME --X BASKV ID  ETERM   EFD    POWER    VARS   P.F.  ANGLE   ID     IQ\n",
      "      1     GEN G1      20.000 1  1.0300 1.9908  700.00  185.00 0.9668  60.98 0.6454 0.4399\n",
      "      2     GEN G2      20.000 1  1.0100 2.0634  700.00  234.59 0.9482  50.43 0.6936 0.4225\n",
      "      3     GEN G3      20.000 1  1.0300 2.0018  719.09  176.00 0.9713  35.02 0.6603 0.4492\n",
      "      4     GEN G4      20.000 1  1.0100 2.0113  700.00  202.05 0.9608  24.16 0.6756 0.4312\n",
      "\n",
      " INITIAL CONDITIONS CHECK O.K.\n",
      "\n",
      " NO STATES SELECTED--ALL     44 TO BE USED\n",
      "\n",
      " NO OUTPUT CHANNELS AVAILABLE--H AND F MATRICES NOT BUILT\n"
     ]
    },
    {
     "data": {
      "text/plain": "0"
     },
     "execution_count": 14,
     "metadata": {},
     "output_type": "execute_result"
    }
   ],
   "source": [
    "\n",
    "psspy.astr(\n",
    "    outfile=r'C:\\Users\\mungu\\Documents\\GitHub\\WAMCS\\psse_cases\\test.lsa'\n",
    ")"
   ],
   "metadata": {
    "collapsed": false,
    "pycharm": {
     "name": "#%%\n"
    }
   }
  },
  {
   "cell_type": "markdown",
   "source": [
    "#  agregar pss al modelo del generador"
   ],
   "metadata": {
    "collapsed": false,
    "pycharm": {
     "name": "#%% md\n"
    }
   }
  },
  {
   "cell_type": "code",
   "execution_count": 15,
   "outputs": [],
   "source": [
    "#constantes para el PSS2A\n",
    "pss2aCONS_dict = {\n",
    "    'TW1'   : 1,\n",
    "    'TW2'   : 2,\n",
    "    'T6'    : 3,\n",
    "    'TW3'   : 4,\n",
    "    'TW4'   : 5,\n",
    "    'T7'    : 6,\n",
    "    'KS2'   : 7,\n",
    "    'KS3'   : 8,\n",
    "    'T8'    : 9,\n",
    "    'T9'    : 10,\n",
    "    'KS1'   : 11,\n",
    "    'T1'    : 12,\n",
    "    'T2'    : 13,\n",
    "    'T3'    : 14,\n",
    "    'T4'    : 15,\n",
    "    'VSTMAX': 16,\n",
    "    'VSTMIN': 17\n",
    "}\n",
    "pss2aICONS_dict = {\n",
    "    'IC1'       : 1,\n",
    "    'REMBUS1'   : 2,\n",
    "    'IC2'       : 3,\n",
    "    'REMBUS2'   : 4,\n",
    "    'M'         : 5,\n",
    "    'N'         : 6\n",
    "}"
   ],
   "metadata": {
    "collapsed": false,
    "pycharm": {
     "name": "#%%\n"
    }
   }
  },
  {
   "cell_type": "code",
   "execution_count": 18,
   "outputs": [
    {
     "name": "stdout",
     "output_type": "stream",
     "text": [
      "\n",
      " Model \"PSS2A\" at bus 1 [GEN G1 20.000] machine \"1 \" added\n",
      "\n",
      " STABILIZER MODEL CONNECTION TABLES UPDATED\n",
      "\n",
      " NEXT AVAILABLE ADDRESSES ARE:\n",
      "     CON   STATE     VAR    ICON\n",
      "     146      61       5      15\n"
     ]
    },
    {
     "data": {
      "text/plain": "0"
     },
     "execution_count": 18,
     "metadata": {},
     "output_type": "execute_result"
    }
   ],
   "source": [
    "\n",
    "#generador 1\n",
    "psspy.add_plant_model(\n",
    "    ibus = 1,\n",
    "    id = '1',\n",
    "    mtype = 3,\n",
    "    name = 'PSS2A',\n",
    "    nicn = 6,\n",
    "    idata = list(pss2aICONS_dict.values()),\n",
    "    ncon = 17,\n",
    "    rdata = list(pss2aCONS_dict.values())\n",
    ")"
   ],
   "metadata": {
    "collapsed": false,
    "pycharm": {
     "name": "#%%\n"
    }
   }
  },
  {
   "cell_type": "code",
   "execution_count": 19,
   "outputs": [
    {
     "name": "stdout",
     "output_type": "stream",
     "text": [
      "1 PTI INTERACTIVE POWER SYSTEM SIMULATOR--PSS(R)E Xplore TUE, AUG 23 2022  16:40\n",
      " IEEE BENCHMARK SYSTEM VII\n",
      " HTTP://WWW.SEL.EESC.USP.BR/IEEE/\n",
      "\n",
      " PLANT MODELS\n",
      "\n",
      " REPORT FOR ALL MODELS AT ALL BUSES            BUS 1 [GEN G1      20.000] MODELS\n",
      "\n",
      "\n",
      " Model GENROE Bus 1 [GEN G1      20.000] Machine \"1 \" :\n",
      "\n",
      "                    C O N S       S T A T E S\n",
      "                       1-14            1-6\n",
      "\n",
      "             MBASE     Z S O R C E         X T R A N       GENTAP\n",
      "             900.0  0.00250+J 0.20000  0.00000+J 0.00000  1.00000\n",
      "\n",
      "  T'D0 T''D0  T'Q0 T''Q0     H   DAMP   XD     XQ     X'D    X'Q   X''D    XL\n",
      "  8.00 0.030  0.40 0.050   6.50  0.00 1.8000 1.7000 0.3000 0.5500 0.2500 0.2000\n",
      "\n",
      "                                S(1.0)  S(1.2)\n",
      "                                0.0392  0.2672\n",
      "\n",
      "\n",
      " Model PSS2A Bus 1 [GEN G1      20.000] Machine \"1 \" :\n",
      "\n",
      "   I C O N S        C O N S       S T A T E S       V A R S\n",
      "       9-14          129-145          45-60            1-4\n",
      "\n",
      "                    IC1 REMBUS1     IC2 REMBUS2       M       N\n",
      "                      0       0       0       0       0       0\n",
      "\n",
      "       TW1      TW2      T6       TW3      TW4      T7       KS2      KS3\n",
      "      1.000    2.000    3.000    4.000    5.000    6.000    7.000    8.000\n",
      "\n",
      "       T8       T9      KS1       T1       T2       T3       T4      VSTMAX   VSTMIN\n",
      "      9.000   10.000   11.000   12.000   13.000   14.000   15.000   16.000   17.000\n",
      "\n",
      "\n",
      " Model ESST1A Bus 1 [GEN G1      20.000] Machine \"1 \" :\n",
      "\n",
      "                    C O N S       S T A T E S                      RES-ICONS\n",
      "                      57-74           25-29                            1-2\n",
      "\n",
      "    UEL VOS     TR    VIMAX   VIMIN     TC      TB     TC1     TB1     KA\n",
      "     1   1    0.010  99.000  -99.00   1.000  10.000   1.000   1.000  200.0\n",
      "\n",
      "     TA    VAMAX   VAMIN   VRMAX   VRMIN    KC     KF     TF    KLR    ILR\n",
      "   0.000   4.000   -4.00   4.000   -4.00  0.000  0.000  1.000  0.000  3.000\n",
      "1 PTI INTERACTIVE POWER SYSTEM SIMULATOR--PSS(R)E Xplore TUE, AUG 23 2022  16:40\n",
      " IEEE BENCHMARK SYSTEM VII\n",
      " HTTP://WWW.SEL.EESC.USP.BR/IEEE/\n",
      "\n",
      " PLANT MODELS\n",
      "\n",
      " REPORT FOR ALL MODELS AT ALL BUSES            BUS 2 [GEN G2      20.000] MODELS\n",
      "\n",
      "\n",
      " Model GENROE Bus 2 [GEN G2      20.000] Machine \"1 \" :\n",
      "\n",
      "                    C O N S       S T A T E S\n",
      "                      15-28            7-12\n",
      "\n",
      "             MBASE     Z S O R C E         X T R A N       GENTAP\n",
      "             900.0  0.00250+J 0.20000  0.00000+J 0.00000  1.00000\n",
      "\n",
      "  T'D0 T''D0  T'Q0 T''Q0     H   DAMP   XD     XQ     X'D    X'Q   X''D    XL\n",
      "  8.00 0.030  0.40 0.050   6.50  0.00 1.8000 1.7000 0.3000 0.5500 0.2500 0.2000\n",
      "\n",
      "                                S(1.0)  S(1.2)\n",
      "                                0.0392  0.2672\n",
      "\n",
      "\n",
      " Model ESST1A Bus 2 [GEN G2      20.000] Machine \"1 \" :\n",
      "\n",
      "                    C O N S       S T A T E S                      RES-ICONS\n",
      "                      75-92           30-34                            3-4\n",
      "\n",
      "    UEL VOS     TR    VIMAX   VIMIN     TC      TB     TC1     TB1     KA\n",
      "     1   1    0.010  99.000  -99.00   1.000  10.000   1.000   1.000  200.0\n",
      "\n",
      "     TA    VAMAX   VAMIN   VRMAX   VRMIN    KC     KF     TF    KLR    ILR\n",
      "   0.000   4.000   -4.00   4.000   -4.00  0.000  0.000  1.000  0.000  3.000\n",
      "1 PTI INTERACTIVE POWER SYSTEM SIMULATOR--PSS(R)E Xplore TUE, AUG 23 2022  16:40\n",
      " IEEE BENCHMARK SYSTEM VII\n",
      " HTTP://WWW.SEL.EESC.USP.BR/IEEE/\n",
      "\n",
      " PLANT MODELS\n",
      "\n",
      " REPORT FOR ALL MODELS AT ALL BUSES            BUS 3 [GEN G3      20.000] MODELS\n",
      "\n",
      "\n",
      " Model GENROE Bus 3 [GEN G3      20.000] Machine \"1 \" :\n",
      "\n",
      "                    C O N S       S T A T E S\n",
      "                      29-42           13-18\n",
      "\n",
      "             MBASE     Z S O R C E         X T R A N       GENTAP\n",
      "             900.0  0.00250+J 0.20000  0.00000+J 0.00000  1.00000\n",
      "\n",
      "  T'D0 T''D0  T'Q0 T''Q0     H   DAMP   XD     XQ     X'D    X'Q   X''D    XL\n",
      "  8.00 0.030  0.40 0.050   6.18  0.00 1.8000 1.7000 0.3000 0.5500 0.2500 0.2000\n",
      "\n",
      "                                S(1.0)  S(1.2)\n",
      "                                0.0392  0.2672\n",
      "\n",
      "\n",
      " Model ESST1A Bus 3 [GEN G3      20.000] Machine \"1 \" :\n",
      "\n",
      "                    C O N S       S T A T E S                      RES-ICONS\n",
      "                      93-110          35-39                            5-6\n",
      "\n",
      "    UEL VOS     TR    VIMAX   VIMIN     TC      TB     TC1     TB1     KA\n",
      "     1   1    0.010  99.000  -99.00   1.000  10.000   1.000   1.000  200.0\n",
      "\n",
      "     TA    VAMAX   VAMIN   VRMAX   VRMIN    KC     KF     TF    KLR    ILR\n",
      "   0.000   4.000   -4.00   4.000   -4.00  0.000  0.000  1.000  0.000  3.000\n",
      "1 PTI INTERACTIVE POWER SYSTEM SIMULATOR--PSS(R)E Xplore TUE, AUG 23 2022  16:40\n",
      " IEEE BENCHMARK SYSTEM VII\n",
      " HTTP://WWW.SEL.EESC.USP.BR/IEEE/\n",
      "\n",
      " PLANT MODELS\n",
      "\n",
      " REPORT FOR ALL MODELS AT ALL BUSES            BUS 4 [GEN G4      20.000] MODELS\n",
      "\n",
      "\n",
      " Model GENROE Bus 4 [GEN G4      20.000] Machine \"1 \" :\n",
      "\n",
      "                    C O N S       S T A T E S\n",
      "                      43-56           19-24\n",
      "\n",
      "             MBASE     Z S O R C E         X T R A N       GENTAP\n",
      "             900.0  0.00250+J 0.20000  0.00000+J 0.00000  1.00000\n",
      "\n",
      "  T'D0 T''D0  T'Q0 T''Q0     H   DAMP   XD     XQ     X'D    X'Q   X''D    XL\n",
      "  8.00 0.030  0.40 0.050   6.18  0.00 1.8000 1.7000 0.3000 0.5500 0.2500 0.2000\n",
      "\n",
      "                                S(1.0)  S(1.2)\n",
      "                                0.0392  0.2672\n",
      "\n",
      "\n",
      " Model ESST1A Bus 4 [GEN G4      20.000] Machine \"1 \" :\n",
      "\n",
      "                    C O N S       S T A T E S                      RES-ICONS\n",
      "                     111-128          40-44                            7-8\n",
      "\n",
      "    UEL VOS     TR    VIMAX   VIMIN     TC      TB     TC1     TB1     KA\n",
      "     1   1    0.010  99.000  -99.00   1.000  10.000   1.000   1.000  200.0\n",
      "\n",
      "     TA    VAMAX   VAMIN   VRMAX   VRMIN    KC     KF     TF    KLR    ILR\n",
      "   0.000   4.000   -4.00   4.000   -4.00  0.000  0.000  1.000  0.000  3.000\n",
      "1 PTI INTERACTIVE POWER SYSTEM SIMULATOR--PSS(R)E Xplore TUE, AUG 23 2022  16:40\n",
      " IEEE BENCHMARK SYSTEM VII\n",
      " HTTP://WWW.SEL.EESC.USP.BR/IEEE/\n",
      "\n",
      " REPORT FOR ALL MODELS AT ALL BUSES                           SIMULATION OPTIONS\n",
      "\n",
      " NETWORK FREQUENCY DEPENDENCE                            : Not Set\n",
      " SCAN FOR OUT OF STEP CONDITION                          : Not Set\n",
      " SCAN FOR GENERATORS EXCEEDING ANGLE THRESHOLD           : Not Set\n",
      " SCAN FOR GENERATORS EXCEEDING POWER UNBALANCE THRESHOLD : Not Set\n",
      " SCAN GEN. EXCEEDING SPEED DEV.  THRESH.                 : Not Set\n",
      " SCAN FOR BUSES OUTSIDE OF VOLTAGE RANGE                 : Not Set\n",
      " SCAN CIRCUITS AGAINST GENERIC RELAY ZONES               : Not Set\n",
      " SET RELATIVE MACHINE ANGLES                             : Not Set\n",
      " VOLTAGE PRIMARY RECOVERY CHECK                          : Not Set\n",
      " VOLTAGE SECONDARY RECOVERY CHECK                        : Not Set\n",
      " VOLTAGE DIP CHECK                                       : Not Set\n",
      "\n",
      " Output completed\n"
     ]
    },
    {
     "data": {
      "text/plain": "0"
     },
     "execution_count": 19,
     "metadata": {},
     "output_type": "execute_result"
    }
   ],
   "source": [
    "psspy.docu()"
   ],
   "metadata": {
    "collapsed": false,
    "pycharm": {
     "name": "#%%\n"
    }
   }
  },
  {
   "cell_type": "code",
   "execution_count": 17,
   "outputs": [
    {
     "data": {
      "text/plain": "list"
     },
     "execution_count": 17,
     "metadata": {},
     "output_type": "execute_result"
    }
   ],
   "source": [
    "type(list(pss2aCONS_dict.values()))"
   ],
   "metadata": {
    "collapsed": false,
    "pycharm": {
     "name": "#%%\n"
    }
   }
  },
  {
   "cell_type": "markdown",
   "source": [
    "# Limpiar el archivo de texto de los eigenvalores para obtener un archivo CSV mas simple"
   ],
   "metadata": {
    "collapsed": false,
    "pycharm": {
     "name": "#%% md\n"
    }
   }
  },
  {
   "cell_type": "code",
   "execution_count": 50,
   "outputs": [
    {
     "data": {
      "text/plain": "['  1     -0.629883E-01       --         60.533           --     TCNST:  15.876 SC.\\n',\n '  2      -1.20454        1.53594      0.97309         -97.86   FREQ.:   0.244 HZ.\\n',\n '  3     -0.619881        7.49297      0.44891E-01      92.37   FREQ.:   1.193 HZ.\\n',\n '  4      -33.7251        93.4366      0.14500E-03      95.31   FREQ.:  14.871 HZ.\\n',\n '  5      -7.86782        161.025      0.17471E-04     147.27   FREQ.:  25.628 HZ.\\n',\n '  6      -4.85260        184.282      0.12063E-04     145.36   FREQ.:  29.329 HZ.\\n',\n '  7      -2.35530        38.1579      0.11284E-04     137.82   FREQ.:   6.073 HZ.\\n',\n '  8      -2.76864        100.666      0.92374E-05    -117.26   FREQ.:  16.021 HZ.\\n',\n '  9     -0.622202        58.8509      0.50166E-05      64.16   FREQ.:   9.366 HZ.\\n',\n ' 10     -0.624597        116.865      0.40844E-05    -146.44   FREQ.:  18.600 HZ.\\n',\n ' 11      -1.56835        132.020      0.39644E-05     178.73   FREQ.:  21.012 HZ.\\n',\n ' 12      0.961524        81.7677      0.26545E-05     -29.88   FREQ.:  13.014 HZ.\\n',\n ' 13       4.52429        158.204      0.96775E-06     -12.29   FREQ.:  25.179 HZ.\\n']"
     },
     "execution_count": 50,
     "metadata": {},
     "output_type": "execute_result"
    }
   ],
   "source": [
    "\n",
    "f = open(casePath + 'test_eigen.dat')\n",
    "a = f.readlines()\n",
    "lEigen = []\n",
    "#linea por linea quita los espacios y busca el string MODALCOMPONENTS\n",
    "#en el numero de linea donde lo encuentre, las siguientes 5 lineas son el\n",
    "#texto del ecabezado, y en la linea siguiente empiezan los eigenvalores\n",
    "#menos los ultimas 5 lineas\n",
    "for linenumber, linestr in enumerate(a):\n",
    "    #linea de texto CHANNEL\n",
    "    if not linestr.find('CHANNEL') == -1:\n",
    "        channelLine = a[linenumber]\n",
    "\n",
    "    #linea de texto TIME INTERVAL\n",
    "    if not linestr.find('TIME INTERVAL') == -1:\n",
    "        timeIntervalLine = a[linenumber]\n",
    "\n",
    "    #busca la palabra MODALCOMPONENTS, que es el inicio del encabezado\n",
    "    if not linestr.replace(\" \",\"\").find('MODALCOMPONENTS') == -1:\n",
    "        for i in range(linenumber+5,len(a)-5):\n",
    "            lEigen.append(a[i])\n",
    "\n",
    "\n",
    "\n",
    "\n",
    "\n"
   ],
   "metadata": {
    "collapsed": false,
    "pycharm": {
     "name": "#%%\n"
    }
   }
  },
  {
   "cell_type": "code",
   "execution_count": 52,
   "outputs": [
    {
     "ename": "TypeError",
     "evalue": "'list' object is not callable",
     "output_type": "error",
     "traceback": [
      "\u001B[1;31m---------------------------------------------------------------------------\u001B[0m",
      "\u001B[1;31mTypeError\u001B[0m                                 Traceback (most recent call last)",
      "\u001B[1;32m~\\AppData\\Local\\Temp/ipykernel_15548/304626421.py\u001B[0m in \u001B[0;36m<module>\u001B[1;34m\u001B[0m\n\u001B[1;32m----> 1\u001B[1;33m \u001B[0ma\u001B[0m\u001B[1;33m(\u001B[0m\u001B[1;33m-\u001B[0m\u001B[1;36m1\u001B[0m\u001B[1;33m)\u001B[0m\u001B[1;33m\u001B[0m\u001B[1;33m\u001B[0m\u001B[0m\n\u001B[0m",
      "\u001B[1;31mTypeError\u001B[0m: 'list' object is not callable"
     ]
    }
   ],
   "source": [
    "a[-1]"
   ],
   "metadata": {
    "collapsed": false,
    "pycharm": {
     "name": "#%%\n"
    }
   }
  },
  {
   "cell_type": "markdown",
   "source": [
    "# cheat sheet"
   ],
   "metadata": {
    "collapsed": false,
    "pycharm": {
     "name": "#%% md\n"
    }
   }
  },
  {
   "cell_type": "code",
   "execution_count": 109,
   "outputs": [
    {
     "name": "stdout",
     "output_type": "stream",
     "text": [
      "1 PTI INTERACTIVE POWER SYSTEM SIMULATOR--PSS(R)E Xplore TUE, AUG 23 2022  16:01\n",
      " IEEE BENCHMARK SYSTEM VII\n",
      " HTTP://WWW.SEL.EESC.USP.BR/IEEE/\n",
      "\n",
      " PLANT MODELS\n",
      "\n",
      " REPORT FOR ALL MODELS AT ALL BUSES            BUS 1 [GEN G1      20.000] MODELS\n",
      "\n",
      "\n",
      " Model GENROE Bus 1 [GEN G1      20.000] Machine \"1 \" :\n",
      "\n",
      "                    C O N S       S T A T E S\n",
      "                       1-14            1-6\n",
      "\n",
      "             MBASE     Z S O R C E         X T R A N       GENTAP\n",
      "             900.0  0.00250+J 0.20000  0.00000+J 0.00000  1.00000\n",
      "\n",
      "  T'D0 T''D0  T'Q0 T''Q0     H   DAMP   XD     XQ     X'D    X'Q   X''D    XL\n",
      "  8.00 0.030  0.40 0.050   6.50  0.00 1.8000 1.7000 0.3000 0.5500 0.2500 0.2000\n",
      "\n",
      "                                S(1.0)  S(1.2)\n",
      "                                0.0392  0.2672\n",
      "\n",
      "\n",
      " Model ESST1A Bus 1 [GEN G1      20.000] Machine \"1 \" :\n",
      "\n",
      "                    C O N S       S T A T E S                      RES-ICONS\n",
      "                      57-74           25-29                            1-2\n",
      "\n",
      "    UEL VOS     TR    VIMAX   VIMIN     TC      TB     TC1     TB1     KA\n",
      "     1   1    0.010  99.000  -99.00   1.000  10.000   1.000   1.000  200.0\n",
      "\n",
      "     TA    VAMAX   VAMIN   VRMAX   VRMIN    KC     KF     TF    KLR    ILR\n",
      "   0.000   4.000   -4.00   4.000   -4.00  0.000  0.000  1.000  0.000  3.000\n",
      "1 PTI INTERACTIVE POWER SYSTEM SIMULATOR--PSS(R)E Xplore TUE, AUG 23 2022  16:01\n",
      " IEEE BENCHMARK SYSTEM VII\n",
      " HTTP://WWW.SEL.EESC.USP.BR/IEEE/\n",
      "\n",
      " PLANT MODELS\n",
      "\n",
      " REPORT FOR ALL MODELS AT ALL BUSES            BUS 2 [GEN G2      20.000] MODELS\n",
      "\n",
      "\n",
      " Model GENROE Bus 2 [GEN G2      20.000] Machine \"1 \" :\n",
      "\n",
      "                    C O N S       S T A T E S\n",
      "                      15-28            7-12\n",
      "\n",
      "             MBASE     Z S O R C E         X T R A N       GENTAP\n",
      "             900.0  0.00250+J 0.20000  0.00000+J 0.00000  1.00000\n",
      "\n",
      "  T'D0 T''D0  T'Q0 T''Q0     H   DAMP   XD     XQ     X'D    X'Q   X''D    XL\n",
      "  8.00 0.030  0.40 0.050   6.50  0.00 1.8000 1.7000 0.3000 0.5500 0.2500 0.2000\n",
      "\n",
      "                                S(1.0)  S(1.2)\n",
      "                                0.0392  0.2672\n",
      "\n",
      "\n",
      " Model ESST1A Bus 2 [GEN G2      20.000] Machine \"1 \" :\n",
      "\n",
      "                    C O N S       S T A T E S                      RES-ICONS\n",
      "                      75-92           30-34                            3-4\n",
      "\n",
      "    UEL VOS     TR    VIMAX   VIMIN     TC      TB     TC1     TB1     KA\n",
      "     1   1    0.010  99.000  -99.00   1.000  10.000   1.000   1.000  200.0\n",
      "\n",
      "     TA    VAMAX   VAMIN   VRMAX   VRMIN    KC     KF     TF    KLR    ILR\n",
      "   0.000   4.000   -4.00   4.000   -4.00  0.000  0.000  1.000  0.000  3.000\n",
      "1 PTI INTERACTIVE POWER SYSTEM SIMULATOR--PSS(R)E Xplore TUE, AUG 23 2022  16:01\n",
      " IEEE BENCHMARK SYSTEM VII\n",
      " HTTP://WWW.SEL.EESC.USP.BR/IEEE/\n",
      "\n",
      " PLANT MODELS\n",
      "\n",
      " REPORT FOR ALL MODELS AT ALL BUSES            BUS 3 [GEN G3      20.000] MODELS\n",
      "\n",
      "\n",
      " Model GENROE Bus 3 [GEN G3      20.000] Machine \"1 \" :\n",
      "\n",
      "                    C O N S       S T A T E S\n",
      "                      29-42           13-18\n",
      "\n",
      "             MBASE     Z S O R C E         X T R A N       GENTAP\n",
      "             900.0  0.00250+J 0.20000  0.00000+J 0.00000  1.00000\n",
      "\n",
      "  T'D0 T''D0  T'Q0 T''Q0     H   DAMP   XD     XQ     X'D    X'Q   X''D    XL\n",
      "  8.00 0.030  0.40 0.050   6.18  0.00 1.8000 1.7000 0.3000 0.5500 0.2500 0.2000\n",
      "\n",
      "                                S(1.0)  S(1.2)\n",
      "                                0.0392  0.2672\n",
      "\n",
      "\n",
      " Model ESST1A Bus 3 [GEN G3      20.000] Machine \"1 \" :\n",
      "\n",
      "                    C O N S       S T A T E S                      RES-ICONS\n",
      "                      93-110          35-39                            5-6\n",
      "\n",
      "    UEL VOS     TR    VIMAX   VIMIN     TC      TB     TC1     TB1     KA\n",
      "     1   1    0.010  99.000  -99.00   1.000  10.000   1.000   1.000  200.0\n",
      "\n",
      "     TA    VAMAX   VAMIN   VRMAX   VRMIN    KC     KF     TF    KLR    ILR\n",
      "   0.000   4.000   -4.00   4.000   -4.00  0.000  0.000  1.000  0.000  3.000\n",
      "1 PTI INTERACTIVE POWER SYSTEM SIMULATOR--PSS(R)E Xplore TUE, AUG 23 2022  16:01\n",
      " IEEE BENCHMARK SYSTEM VII\n",
      " HTTP://WWW.SEL.EESC.USP.BR/IEEE/\n",
      "\n",
      " PLANT MODELS\n",
      "\n",
      " REPORT FOR ALL MODELS AT ALL BUSES            BUS 4 [GEN G4      20.000] MODELS\n",
      "\n",
      "\n",
      " Model GENROE Bus 4 [GEN G4      20.000] Machine \"1 \" :\n",
      "\n",
      "                    C O N S       S T A T E S\n",
      "                      43-56           19-24\n",
      "\n",
      "             MBASE     Z S O R C E         X T R A N       GENTAP\n",
      "             900.0  0.00250+J 0.20000  0.00000+J 0.00000  1.00000\n",
      "\n",
      "  T'D0 T''D0  T'Q0 T''Q0     H   DAMP   XD     XQ     X'D    X'Q   X''D    XL\n",
      "  8.00 0.030  0.40 0.050   6.18  0.00 1.8000 1.7000 0.3000 0.5500 0.2500 0.2000\n",
      "\n",
      "                                S(1.0)  S(1.2)\n",
      "                                0.0392  0.2672\n",
      "\n",
      "\n",
      " Model ESST1A Bus 4 [GEN G4      20.000] Machine \"1 \" :\n",
      "\n",
      "                    C O N S       S T A T E S                      RES-ICONS\n",
      "                     111-128          40-44                            7-8\n",
      "\n",
      "    UEL VOS     TR    VIMAX   VIMIN     TC      TB     TC1     TB1     KA\n",
      "     1   1    0.010  99.000  -99.00   1.000  10.000   1.000   1.000  200.0\n",
      "\n",
      "     TA    VAMAX   VAMIN   VRMAX   VRMIN    KC     KF     TF    KLR    ILR\n",
      "   0.000   4.000   -4.00   4.000   -4.00  0.000  0.000  1.000  0.000  3.000\n",
      "1 PTI INTERACTIVE POWER SYSTEM SIMULATOR--PSS(R)E Xplore TUE, AUG 23 2022  16:01\n",
      " IEEE BENCHMARK SYSTEM VII\n",
      " HTTP://WWW.SEL.EESC.USP.BR/IEEE/\n",
      "\n",
      " REPORT FOR ALL MODELS AT ALL BUSES                           SIMULATION OPTIONS\n",
      "\n",
      " NETWORK FREQUENCY DEPENDENCE                            : Not Set\n",
      " SCAN FOR OUT OF STEP CONDITION                          : Not Set\n",
      " SCAN FOR GENERATORS EXCEEDING ANGLE THRESHOLD           : Not Set\n",
      " SCAN FOR GENERATORS EXCEEDING POWER UNBALANCE THRESHOLD : Not Set\n",
      " SCAN GEN. EXCEEDING SPEED DEV.  THRESH.                 : Not Set\n",
      " SCAN FOR BUSES OUTSIDE OF VOLTAGE RANGE                 : Not Set\n",
      " SCAN CIRCUITS AGAINST GENERIC RELAY ZONES               : Not Set\n",
      " SET RELATIVE MACHINE ANGLES                             : Not Set\n",
      " VOLTAGE PRIMARY RECOVERY CHECK                          : Not Set\n",
      " VOLTAGE SECONDARY RECOVERY CHECK                        : Not Set\n",
      " VOLTAGE DIP CHECK                                       : Not Set\n",
      "\n",
      " Output completed\n"
     ]
    },
    {
     "data": {
      "text/plain": "0"
     },
     "execution_count": 109,
     "metadata": {},
     "output_type": "execute_result"
    }
   ],
   "source": [
    "#mostrar los datos de las plantas (maquinas, estabiliadores,etc)\n",
    "#psspby.docu()"
   ],
   "metadata": {
    "collapsed": false,
    "pycharm": {
     "name": "#%%\n"
    }
   }
  }
 ],
 "metadata": {
  "kernelspec": {
   "name": "pycharm-a777efb8",
   "language": "python",
   "display_name": "PyCharm (aero)"
  },
  "language_info": {
   "codemirror_mode": {
    "name": "ipython",
    "version": 2
   },
   "file_extension": ".py",
   "mimetype": "text/x-python",
   "name": "python",
   "nbconvert_exporter": "python",
   "pygments_lexer": "ipython2",
   "version": "2.7.6"
  }
 },
 "nbformat": 4,
 "nbformat_minor": 0
}