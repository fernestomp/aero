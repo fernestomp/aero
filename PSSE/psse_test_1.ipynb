{
 "cells": [
  {
   "cell_type": "code",
   "execution_count": 142,
   "metadata": {
    "collapsed": true
   },
   "outputs": [],
   "source": [
    "import os,sys\n",
    "import pandas as pd\n",
    "import re\n",
    "import numpy as np\n",
    "\n",
    "PSSE_LOCATION = r\"C:\\Program Files\\PTI\\PSSE35\\35.3\\PSSPY39\"\n",
    "sys.path.append(PSSE_LOCATION)\n",
    "os.environ['PATH'] = os.environ['PATH'] + ';' +  PSSE_LOCATION\n"
   ]
  },
  {
   "cell_type": "code",
   "execution_count": 5,
   "outputs": [],
   "source": [
    "import os\n",
    "PSSE_PATH = r\"C:\\Program Files\\PTI\\PSSE35\\35.3\\PSSPY39\"\n",
    "if not os.path.exists(PSSE_PATH):\n",
    "    print(\"Bad path\")\n",
    "\n",
    "# continued from previous script\n",
    "import glob\n",
    "fns = glob.glob(os.path.join(PSSE_PATH, 'psspy.*'))\n",
    "if len(fns) == 0:\n",
    "    print(\"Who moved my libraries\")"
   ],
   "metadata": {
    "collapsed": false,
    "pycharm": {
     "name": "#%%\n"
    }
   }
  },
  {
   "cell_type": "code",
   "execution_count": 6,
   "outputs": [
    {
     "name": "stdout",
     "output_type": "stream",
     "text": [
      "    Sets PSSE environment to latest minor version among installed versions of PSSE 35.\n",
      "    Use psse35.set_minor(n) to set PSSE35 minor version (n) to use.\n",
      "        Example, for PSSE 35.0.x, use this as: psse35.set_minor(0)\n",
      "\n",
      " Input error detected at !\n",
      " -m ipykernel_launcher -f C:\\Users\\mungu\\AppData\\Roaming\\jupyter\\runtime\\kernel-aea982d7-d27d-4593-ac55-cfd0c5964cd0.json\n",
      "                          !\n",
      "\n",
      " PSS(R)E Xplore Version 35\n",
      " Copyright (c) 1976-2022\n",
      " Siemens Industry, Inc.,\n",
      " Power Technologies International                            (PTI)\n",
      " This program is a confidential  unpublished  work  created  and  first\n",
      " licensed in 1976.  It is a trade secret which is the property of  PTI.\n",
      " All use,  disclosure,  and/or reproduction not specifically authorized\n",
      " by  PTI  is prohibited.   This  program is protected  under  copyright\n",
      " laws  of  non-U.S.  countries  and  by  application  of  international\n",
      " treaties.  All  Rights  Reserved  Under  The  Copyright  Laws.\n",
      "\n",
      "\n",
      "           SIEMENS POWER TECHNOLOGIES INTERNATIONAL\n",
      "\n",
      "    50 BUS POWER SYSTEM SIMULATOR--PSS(R)E Xplore-35.3.2\n",
      "\n",
      "             INITIATED ON TUE, AUG 23 2022  16:38\n"
     ]
    }
   ],
   "source": [
    "#del archivo pss35.py\n",
    "import psse35\n",
    "psse35.set_minor(3)    # here n is minor version number, like 0 in 35.0.x\n",
    "exam_path = psse35.EXAM_PATH\n",
    "\n",
    "import psspy\n",
    "psspy.throwPsseExceptions = True\n",
    "psspy.psseinit()\n",
    "#\"Retrieve \"no input\" value for characters (i.e., strings) other than filenames. Specify this value to indicate\n",
    "#that \"no input\" is intended\"\n",
    "_i = psspy.getdefaultint()\n",
    "_f = psspy.getdefaultreal()\n",
    "_s = psspy.getdefaultchar()"
   ],
   "metadata": {
    "collapsed": false,
    "pycharm": {
     "name": "#%%\n"
    }
   }
  },
  {
   "cell_type": "code",
   "execution_count": 7,
   "outputs": [
    {
     "data": {
      "text/plain": "'C:\\\\Users\\\\mungu\\\\Documents\\\\GitHub\\\\WAMCS\\\\psse_cases\\\\'"
     },
     "execution_count": 7,
     "metadata": {},
     "output_type": "execute_result"
    }
   ],
   "source": [
    "# ruta de los archivos\n",
    "casePath = r\"C:\\Users\\mungu\\Documents\\GitHub\\WAMCS\\psse_cases\"  +\"\\\\\"\n",
    "casePath"
   ],
   "metadata": {
    "collapsed": false,
    "pycharm": {
     "name": "#%%\n"
    }
   }
  },
  {
   "cell_type": "markdown",
   "source": [
    "# Ejecutar power flow con full Newton-Raphson\n"
   ],
   "metadata": {
    "collapsed": false,
    "pycharm": {
     "name": "#%% md\n"
    }
   }
  },
  {
   "cell_type": "code",
   "execution_count": 8,
   "outputs": [
    {
     "name": "stdout",
     "output_type": "stream",
     "text": [
      "\n",
      " IEEE BENCHMARK SYSTEM VII\n",
      " HTTP://WWW.SEL.EESC.USP.BR/IEEE/\n",
      "\n",
      " The Saved Case in file C:\\Users\\mungu\\Documents\\GitHub\\WAMCS\\psse_cases\\caso_1_original.sav was saved on SAT, AUG 20 2022  12:13\n",
      "\n",
      "  ITER       DELTAP      BUS         DELTAQ      BUS        DELTA/V/      BUS       DELTAANG      BUS\n",
      "   0         0.0000(     10     )    0.0000(      7     )\n",
      "                                                             0.00000(      7     )   0.00000(      1     )\n",
      "   1         0.0000(      9     )    0.0000(      7     )\n",
      "                                                             0.00000(      7     )   0.00000(      5     )\n",
      "   2         0.0000(     10     )    0.0000(     10     )\n",
      "\n",
      "\n",
      " Reached tolerance in 2 iterations\n",
      "\n",
      " Largest mismatch:     -0.00 MW     -0.00 Mvar      0.00 MVA at bus 7 [LOAD A      230.00]\n",
      " System total absolute mismatch:                    0.00 MVA\n",
      "\n",
      " SWING BUS SUMMARY:\n",
      "   BUS#-SCT X-- NAME --X BASKV      PGEN     PMAX    PMIN      QGEN     QMAX    QMIN\n",
      "      3     GEN G3      20.000     719.1    765.0     0.0     176.0    474.0  -200.0\n",
      "El numero de iteraciones fue 2\n"
     ]
    }
   ],
   "source": [
    "#http://www.whit.com.au/blog/2012/12/solve-a-loadflow-with-psse/\n",
    "#opciones por default (ver API pdf)\n",
    "#cargar caso original, para comparar power flow del libro\n",
    "psspy.case(r'C:\\Users\\mungu\\Documents\\GitHub\\WAMCS\\psse_cases\\caso_1_original.sav')\n",
    "psspy.fnsl()\n",
    "\n",
    "number_iterations = psspy.iterat()\n",
    "msg = 'El numero de iteraciones fue %s'\n",
    "print(msg % number_iterations)\n",
    "\n"
   ],
   "metadata": {
    "collapsed": false,
    "pycharm": {
     "name": "#%%\n"
    }
   }
  },
  {
   "cell_type": "code",
   "execution_count": 9,
   "outputs": [
    {
     "name": "stdout",
     "output_type": "stream",
     "text": [
      " Out of file data--switch to terminal input mode\n",
      "\n",
      " Generator models use:\n",
      "  CONS         1-     56\n",
      "  STATES       1-     24\n",
      "\n",
      " Excitation System models use:\n",
      "  CONS        57-    128\n",
      "  STATES      25-     44\n",
      "  ICONS        1-      8\n",
      "\n",
      "\n",
      " SUMMARY OF MODELS READ:\n",
      "\n",
      " GENS:  GENROE\n",
      "           4\n",
      "\n",
      " EXSYS: ESST1A\n",
      "           4\n",
      "\n",
      " NEXT AVAILABLE ADDRESSES ARE:\n",
      "     CON   STATE     VAR    ICON\n",
      "     129      45       1       9\n",
      "\n",
      " Only PSSE supplied models in case. Compilation is not required\n"
     ]
    },
    {
     "data": {
      "text/plain": "0"
     },
     "execution_count": 9,
     "metadata": {},
     "output_type": "execute_result"
    }
   ],
   "source": [
    "psspy.dyre_new(dyrefile= casePath + \"Benchmark_4ger_33_2015.dyr\")\n"
   ],
   "metadata": {
    "collapsed": false,
    "pycharm": {
     "name": "#%%\n"
    }
   }
  },
  {
   "cell_type": "markdown",
   "source": [
    "# Crear las matrices de las variables de estado del sistema  (ASTR)"
   ],
   "metadata": {
    "collapsed": false,
    "pycharm": {
     "name": "#%% md\n"
    }
   }
  },
  {
   "cell_type": "code",
   "execution_count": 10,
   "outputs": [],
   "source": [
    "#https://psspy.org/psse-help-forum/question/9142/issue-running-dynamic-simulation-in-loop-pssev35-vs-pssev34/\n",
    "def coft():\n",
    "    #Use this API to convert generators from their power flow representation in preparation for switching stud-\n",
    "    #ies and dynamic simulations (activity CONG)\n",
    "    psspy.cong(0)#convertir generadores\n",
    "\n",
    "    #Use this API to convert the constant MVA load for a specified grouping of network loads to a specified mix-\n",
    "    #ture of the constant MVA, constant current, and constant admittance load characteristics (activity CONL)\n",
    "    psspy.conl(0)#convertir cargas\n",
    "\n",
    "    #Use this API to calculate a sparsity preserving ordering of buses in preparation for the processing of net-\n",
    "    #work matrices.\n",
    "    psspy.ordr(0)\n",
    "\n",
    "    #Use this API to factorize the network admittance matrix in preparation for switching studies and dynamic\n",
    "    #simulations (activity FACT).\n",
    "    psspy.fact()\n",
    "\n",
    "    #use this API to run switching study network solutions.\n",
    "    psspy.tysl(0)"
   ],
   "metadata": {
    "collapsed": false,
    "pycharm": {
     "name": "#%%\n"
    }
   }
  },
  {
   "cell_type": "code",
   "execution_count": 11,
   "outputs": [
    {
     "name": "stdout",
     "output_type": "stream",
     "text": [
      "\n",
      " Generator conversion completed using ZSORCE\n",
      "\n",
      " Messages for api CONL\n",
      " Invalid APIOPT value: <omitted value>   (001421)\n",
      " Diagonals = 11   Off-diagonals = 10   Maximum size = 20\n",
      "\n",
      " 11 diagonal and 10 off-diagonal elements\n",
      "\n",
      " ITER DELTAV/TOL X----------- AT BUS -----------X  REAL(DELTAV)  IMAG(DELTAV)\n",
      "    1     0.004       2     [GEN G2      20.000]    0.4026E-07   -0.8322E-09\n",
      "\n",
      " Reached tolerance in 1 iterations\n",
      "\n",
      " Largest mismatch:     -0.00 MW      0.00 Mvar      0.00 MVA at bus 1 [GEN G1      20.000]\n",
      " System total absolute mismatch:                    0.00 MVA\n"
     ]
    }
   ],
   "source": [
    "coft()\n"
   ],
   "metadata": {
    "collapsed": false,
    "pycharm": {
     "name": "#%%\n"
    }
   }
  },
  {
   "cell_type": "code",
   "execution_count": 12,
   "outputs": [
    {
     "name": "stdout",
     "output_type": "stream",
     "text": [
      "\n",
      " Snapshot at TIME = 0.0 saved in file C:\\Users\\mungu\\Documents\\GitHub\\WAMCS\\psse_cases\\test.snp on TUE, AUG 23 2022  16:38\n"
     ]
    },
    {
     "data": {
      "text/plain": "0"
     },
     "execution_count": 12,
     "metadata": {},
     "output_type": "execute_result"
    }
   ],
   "source": [
    "psspy.snap(sfile=casePath + \"test.snp\")"
   ],
   "metadata": {
    "collapsed": false,
    "pycharm": {
     "name": "#%%\n"
    }
   }
  },
  {
   "cell_type": "code",
   "execution_count": 13,
   "outputs": [
    {
     "name": "stdout",
     "output_type": "stream",
     "text": [
      "\n",
      " The Snapshot at TIME = 0.0 in file C:\\Users\\mungu\\Documents\\GitHub\\WAMCS\\psse_cases\\test.snp was saved on TUE, AUG 23 2022  16:38\n",
      "\n",
      " NUMBER OF ELEMENTS RESTORED:\n",
      "    CONS  STATES    VARS   ICONS  CHANNELS\n",
      "     128      44       0       8       0\n"
     ]
    },
    {
     "data": {
      "text/plain": "0"
     },
     "execution_count": 13,
     "metadata": {},
     "output_type": "execute_result"
    }
   ],
   "source": [
    "psspy.rstr(casePath + \"test.snp\")"
   ],
   "metadata": {
    "collapsed": false,
    "pycharm": {
     "name": "#%%\n"
    }
   }
  },
  {
   "cell_type": "code",
   "execution_count": 14,
   "outputs": [
    {
     "name": "stdout",
     "output_type": "stream",
     "text": [
      "\n",
      " 11 diagonal and 10 off-diagonal elements\n",
      "\n",
      " Model GENROE Bus 1 [GEN G1      20.000] Machine \"1 \" :\n",
      " X''D =  0.2500     and Imaginary part of complex machine impedance (ZSORCE) =  0.2000     differ by > 0.000005\n",
      "\n",
      " Model GENROE Bus 2 [GEN G2      20.000] Machine \"1 \" :\n",
      " X''D =  0.2500     and Imaginary part of complex machine impedance (ZSORCE) =  0.2000     differ by > 0.000005\n",
      "\n",
      " Model GENROE Bus 3 [GEN G3      20.000] Machine \"1 \" :\n",
      " X''D =  0.2500     and Imaginary part of complex machine impedance (ZSORCE) =  0.2000     differ by > 0.000005\n",
      "\n",
      " Model GENROE Bus 4 [GEN G4      20.000] Machine \"1 \" :\n",
      " X''D =  0.2500     and Imaginary part of complex machine impedance (ZSORCE) =  0.2000     differ by > 0.000005\n",
      "\n",
      "  PTI INTERACTIVE POWER SYSTEM SIMULATOR--PSS(R)E Xplore TUE, AUG 23 2022  16:38\n",
      " IEEE BENCHMARK SYSTEM VII\n",
      " HTTP://WWW.SEL.EESC.USP.BR/IEEE/\n",
      "\n",
      " INITIAL CONDITION LOAD FLOW USED 1 ITERATIONS\n",
      "\n",
      " ----------------------------- MACHINE INITIAL CONDITIONS -----------------------------\n",
      "   BUS#-SCT X-- NAME --X BASKV ID  ETERM   EFD    POWER    VARS   P.F.  ANGLE   ID     IQ\n",
      "      1     GEN G1      20.000 1  1.0300 1.9908  700.00  185.00 0.9668  60.98 0.6454 0.4399\n",
      "      2     GEN G2      20.000 1  1.0100 2.0634  700.00  234.59 0.9482  50.43 0.6936 0.4225\n",
      "      3     GEN G3      20.000 1  1.0300 2.0018  719.09  176.00 0.9713  35.02 0.6603 0.4492\n",
      "      4     GEN G4      20.000 1  1.0100 2.0113  700.00  202.05 0.9608  24.16 0.6756 0.4312\n",
      "\n",
      " INITIAL CONDITIONS CHECK O.K.\n",
      "\n",
      " NO STATES SELECTED--ALL     44 TO BE USED\n",
      "\n",
      " NO OUTPUT CHANNELS AVAILABLE--H AND F MATRICES NOT BUILT\n"
     ]
    },
    {
     "data": {
      "text/plain": "0"
     },
     "execution_count": 14,
     "metadata": {},
     "output_type": "execute_result"
    }
   ],
   "source": [
    "\n",
    "psspy.astr(\n",
    "    outfile=r'C:\\Users\\mungu\\Documents\\GitHub\\WAMCS\\psse_cases\\test.lsa'\n",
    ")"
   ],
   "metadata": {
    "collapsed": false,
    "pycharm": {
     "name": "#%%\n"
    }
   }
  },
  {
   "cell_type": "markdown",
   "source": [
    "#  agregar pss al modelo del generador"
   ],
   "metadata": {
    "collapsed": false,
    "pycharm": {
     "name": "#%% md\n"
    }
   }
  },
  {
   "cell_type": "code",
   "execution_count": 15,
   "outputs": [],
   "source": [
    "#constantes para el PSS2A\n",
    "pss2aCONS_dict = {\n",
    "    'TW1'   : 1,\n",
    "    'TW2'   : 2,\n",
    "    'T6'    : 3,\n",
    "    'TW3'   : 4,\n",
    "    'TW4'   : 5,\n",
    "    'T7'    : 6,\n",
    "    'KS2'   : 7,\n",
    "    'KS3'   : 8,\n",
    "    'T8'    : 9,\n",
    "    'T9'    : 10,\n",
    "    'KS1'   : 11,\n",
    "    'T1'    : 12,\n",
    "    'T2'    : 13,\n",
    "    'T3'    : 14,\n",
    "    'T4'    : 15,\n",
    "    'VSTMAX': 16,\n",
    "    'VSTMIN': 17\n",
    "}\n",
    "pss2aICONS_dict = {\n",
    "    'IC1'       : 1,\n",
    "    'REMBUS1'   : 2,\n",
    "    'IC2'       : 3,\n",
    "    'REMBUS2'   : 4,\n",
    "    'M'         : 5,\n",
    "    'N'         : 6\n",
    "}"
   ],
   "metadata": {
    "collapsed": false,
    "pycharm": {
     "name": "#%%\n"
    }
   }
  },
  {
   "cell_type": "code",
   "execution_count": 18,
   "outputs": [
    {
     "name": "stdout",
     "output_type": "stream",
     "text": [
      "\n",
      " Model \"PSS2A\" at bus 1 [GEN G1 20.000] machine \"1 \" added\n",
      "\n",
      " STABILIZER MODEL CONNECTION TABLES UPDATED\n",
      "\n",
      " NEXT AVAILABLE ADDRESSES ARE:\n",
      "     CON   STATE     VAR    ICON\n",
      "     146      61       5      15\n"
     ]
    },
    {
     "data": {
      "text/plain": "0"
     },
     "execution_count": 18,
     "metadata": {},
     "output_type": "execute_result"
    }
   ],
   "source": [
    "\n",
    "#generador 1\n",
    "psspy.add_plant_model(\n",
    "    ibus = 1,\n",
    "    id = '1',\n",
    "    mtype = 3,\n",
    "    name = 'PSS2A',\n",
    "    nicn = 6,\n",
    "    idata = list(pss2aICONS_dict.values()),\n",
    "    ncon = 17,\n",
    "    rdata = list(pss2aCONS_dict.values())\n",
    ")"
   ],
   "metadata": {
    "collapsed": false,
    "pycharm": {
     "name": "#%%\n"
    }
   }
  },
  {
   "cell_type": "code",
   "execution_count": 19,
   "outputs": [
    {
     "name": "stdout",
     "output_type": "stream",
     "text": [
      "1 PTI INTERACTIVE POWER SYSTEM SIMULATOR--PSS(R)E Xplore TUE, AUG 23 2022  16:40\n",
      " IEEE BENCHMARK SYSTEM VII\n",
      " HTTP://WWW.SEL.EESC.USP.BR/IEEE/\n",
      "\n",
      " PLANT MODELS\n",
      "\n",
      " REPORT FOR ALL MODELS AT ALL BUSES            BUS 1 [GEN G1      20.000] MODELS\n",
      "\n",
      "\n",
      " Model GENROE Bus 1 [GEN G1      20.000] Machine \"1 \" :\n",
      "\n",
      "                    C O N S       S T A T E S\n",
      "                       1-14            1-6\n",
      "\n",
      "             MBASE     Z S O R C E         X T R A N       GENTAP\n",
      "             900.0  0.00250+J 0.20000  0.00000+J 0.00000  1.00000\n",
      "\n",
      "  T'D0 T''D0  T'Q0 T''Q0     H   DAMP   XD     XQ     X'D    X'Q   X''D    XL\n",
      "  8.00 0.030  0.40 0.050   6.50  0.00 1.8000 1.7000 0.3000 0.5500 0.2500 0.2000\n",
      "\n",
      "                                S(1.0)  S(1.2)\n",
      "                                0.0392  0.2672\n",
      "\n",
      "\n",
      " Model PSS2A Bus 1 [GEN G1      20.000] Machine \"1 \" :\n",
      "\n",
      "   I C O N S        C O N S       S T A T E S       V A R S\n",
      "       9-14          129-145          45-60            1-4\n",
      "\n",
      "                    IC1 REMBUS1     IC2 REMBUS2       M       N\n",
      "                      0       0       0       0       0       0\n",
      "\n",
      "       TW1      TW2      T6       TW3      TW4      T7       KS2      KS3\n",
      "      1.000    2.000    3.000    4.000    5.000    6.000    7.000    8.000\n",
      "\n",
      "       T8       T9      KS1       T1       T2       T3       T4      VSTMAX   VSTMIN\n",
      "      9.000   10.000   11.000   12.000   13.000   14.000   15.000   16.000   17.000\n",
      "\n",
      "\n",
      " Model ESST1A Bus 1 [GEN G1      20.000] Machine \"1 \" :\n",
      "\n",
      "                    C O N S       S T A T E S                      RES-ICONS\n",
      "                      57-74           25-29                            1-2\n",
      "\n",
      "    UEL VOS     TR    VIMAX   VIMIN     TC      TB     TC1     TB1     KA\n",
      "     1   1    0.010  99.000  -99.00   1.000  10.000   1.000   1.000  200.0\n",
      "\n",
      "     TA    VAMAX   VAMIN   VRMAX   VRMIN    KC     KF     TF    KLR    ILR\n",
      "   0.000   4.000   -4.00   4.000   -4.00  0.000  0.000  1.000  0.000  3.000\n",
      "1 PTI INTERACTIVE POWER SYSTEM SIMULATOR--PSS(R)E Xplore TUE, AUG 23 2022  16:40\n",
      " IEEE BENCHMARK SYSTEM VII\n",
      " HTTP://WWW.SEL.EESC.USP.BR/IEEE/\n",
      "\n",
      " PLANT MODELS\n",
      "\n",
      " REPORT FOR ALL MODELS AT ALL BUSES            BUS 2 [GEN G2      20.000] MODELS\n",
      "\n",
      "\n",
      " Model GENROE Bus 2 [GEN G2      20.000] Machine \"1 \" :\n",
      "\n",
      "                    C O N S       S T A T E S\n",
      "                      15-28            7-12\n",
      "\n",
      "             MBASE     Z S O R C E         X T R A N       GENTAP\n",
      "             900.0  0.00250+J 0.20000  0.00000+J 0.00000  1.00000\n",
      "\n",
      "  T'D0 T''D0  T'Q0 T''Q0     H   DAMP   XD     XQ     X'D    X'Q   X''D    XL\n",
      "  8.00 0.030  0.40 0.050   6.50  0.00 1.8000 1.7000 0.3000 0.5500 0.2500 0.2000\n",
      "\n",
      "                                S(1.0)  S(1.2)\n",
      "                                0.0392  0.2672\n",
      "\n",
      "\n",
      " Model ESST1A Bus 2 [GEN G2      20.000] Machine \"1 \" :\n",
      "\n",
      "                    C O N S       S T A T E S                      RES-ICONS\n",
      "                      75-92           30-34                            3-4\n",
      "\n",
      "    UEL VOS     TR    VIMAX   VIMIN     TC      TB     TC1     TB1     KA\n",
      "     1   1    0.010  99.000  -99.00   1.000  10.000   1.000   1.000  200.0\n",
      "\n",
      "     TA    VAMAX   VAMIN   VRMAX   VRMIN    KC     KF     TF    KLR    ILR\n",
      "   0.000   4.000   -4.00   4.000   -4.00  0.000  0.000  1.000  0.000  3.000\n",
      "1 PTI INTERACTIVE POWER SYSTEM SIMULATOR--PSS(R)E Xplore TUE, AUG 23 2022  16:40\n",
      " IEEE BENCHMARK SYSTEM VII\n",
      " HTTP://WWW.SEL.EESC.USP.BR/IEEE/\n",
      "\n",
      " PLANT MODELS\n",
      "\n",
      " REPORT FOR ALL MODELS AT ALL BUSES            BUS 3 [GEN G3      20.000] MODELS\n",
      "\n",
      "\n",
      " Model GENROE Bus 3 [GEN G3      20.000] Machine \"1 \" :\n",
      "\n",
      "                    C O N S       S T A T E S\n",
      "                      29-42           13-18\n",
      "\n",
      "             MBASE     Z S O R C E         X T R A N       GENTAP\n",
      "             900.0  0.00250+J 0.20000  0.00000+J 0.00000  1.00000\n",
      "\n",
      "  T'D0 T''D0  T'Q0 T''Q0     H   DAMP   XD     XQ     X'D    X'Q   X''D    XL\n",
      "  8.00 0.030  0.40 0.050   6.18  0.00 1.8000 1.7000 0.3000 0.5500 0.2500 0.2000\n",
      "\n",
      "                                S(1.0)  S(1.2)\n",
      "                                0.0392  0.2672\n",
      "\n",
      "\n",
      " Model ESST1A Bus 3 [GEN G3      20.000] Machine \"1 \" :\n",
      "\n",
      "                    C O N S       S T A T E S                      RES-ICONS\n",
      "                      93-110          35-39                            5-6\n",
      "\n",
      "    UEL VOS     TR    VIMAX   VIMIN     TC      TB     TC1     TB1     KA\n",
      "     1   1    0.010  99.000  -99.00   1.000  10.000   1.000   1.000  200.0\n",
      "\n",
      "     TA    VAMAX   VAMIN   VRMAX   VRMIN    KC     KF     TF    KLR    ILR\n",
      "   0.000   4.000   -4.00   4.000   -4.00  0.000  0.000  1.000  0.000  3.000\n",
      "1 PTI INTERACTIVE POWER SYSTEM SIMULATOR--PSS(R)E Xplore TUE, AUG 23 2022  16:40\n",
      " IEEE BENCHMARK SYSTEM VII\n",
      " HTTP://WWW.SEL.EESC.USP.BR/IEEE/\n",
      "\n",
      " PLANT MODELS\n",
      "\n",
      " REPORT FOR ALL MODELS AT ALL BUSES            BUS 4 [GEN G4      20.000] MODELS\n",
      "\n",
      "\n",
      " Model GENROE Bus 4 [GEN G4      20.000] Machine \"1 \" :\n",
      "\n",
      "                    C O N S       S T A T E S\n",
      "                      43-56           19-24\n",
      "\n",
      "             MBASE     Z S O R C E         X T R A N       GENTAP\n",
      "             900.0  0.00250+J 0.20000  0.00000+J 0.00000  1.00000\n",
      "\n",
      "  T'D0 T''D0  T'Q0 T''Q0     H   DAMP   XD     XQ     X'D    X'Q   X''D    XL\n",
      "  8.00 0.030  0.40 0.050   6.18  0.00 1.8000 1.7000 0.3000 0.5500 0.2500 0.2000\n",
      "\n",
      "                                S(1.0)  S(1.2)\n",
      "                                0.0392  0.2672\n",
      "\n",
      "\n",
      " Model ESST1A Bus 4 [GEN G4      20.000] Machine \"1 \" :\n",
      "\n",
      "                    C O N S       S T A T E S                      RES-ICONS\n",
      "                     111-128          40-44                            7-8\n",
      "\n",
      "    UEL VOS     TR    VIMAX   VIMIN     TC      TB     TC1     TB1     KA\n",
      "     1   1    0.010  99.000  -99.00   1.000  10.000   1.000   1.000  200.0\n",
      "\n",
      "     TA    VAMAX   VAMIN   VRMAX   VRMIN    KC     KF     TF    KLR    ILR\n",
      "   0.000   4.000   -4.00   4.000   -4.00  0.000  0.000  1.000  0.000  3.000\n",
      "1 PTI INTERACTIVE POWER SYSTEM SIMULATOR--PSS(R)E Xplore TUE, AUG 23 2022  16:40\n",
      " IEEE BENCHMARK SYSTEM VII\n",
      " HTTP://WWW.SEL.EESC.USP.BR/IEEE/\n",
      "\n",
      " REPORT FOR ALL MODELS AT ALL BUSES                           SIMULATION OPTIONS\n",
      "\n",
      " NETWORK FREQUENCY DEPENDENCE                            : Not Set\n",
      " SCAN FOR OUT OF STEP CONDITION                          : Not Set\n",
      " SCAN FOR GENERATORS EXCEEDING ANGLE THRESHOLD           : Not Set\n",
      " SCAN FOR GENERATORS EXCEEDING POWER UNBALANCE THRESHOLD : Not Set\n",
      " SCAN GEN. EXCEEDING SPEED DEV.  THRESH.                 : Not Set\n",
      " SCAN FOR BUSES OUTSIDE OF VOLTAGE RANGE                 : Not Set\n",
      " SCAN CIRCUITS AGAINST GENERIC RELAY ZONES               : Not Set\n",
      " SET RELATIVE MACHINE ANGLES                             : Not Set\n",
      " VOLTAGE PRIMARY RECOVERY CHECK                          : Not Set\n",
      " VOLTAGE SECONDARY RECOVERY CHECK                        : Not Set\n",
      " VOLTAGE DIP CHECK                                       : Not Set\n",
      "\n",
      " Output completed\n"
     ]
    },
    {
     "data": {
      "text/plain": "0"
     },
     "execution_count": 19,
     "metadata": {},
     "output_type": "execute_result"
    }
   ],
   "source": [
    "psspy.docu()"
   ],
   "metadata": {
    "collapsed": false,
    "pycharm": {
     "name": "#%%\n"
    }
   }
  },
  {
   "cell_type": "code",
   "execution_count": 17,
   "outputs": [
    {
     "data": {
      "text/plain": "list"
     },
     "execution_count": 17,
     "metadata": {},
     "output_type": "execute_result"
    }
   ],
   "source": [
    "type(list(pss2aCONS_dict.values()))"
   ],
   "metadata": {
    "collapsed": false,
    "pycharm": {
     "name": "#%%\n"
    }
   }
  },
  {
   "cell_type": "markdown",
   "source": [
    "# Limpiar el archivo de texto de los eigenvalores para obtener un archivo CSV mas simple"
   ],
   "metadata": {
    "collapsed": false,
    "pycharm": {
     "name": "#%% md\n"
    }
   }
  },
  {
   "cell_type": "code",
   "execution_count": 60,
   "outputs": [],
   "source": [
    "def eigenv2df(eigenvfilepath):\n",
    "    eigenVFile = open(eigenvfilepath)\n",
    "    eigenVFile_lines = eigenVFile.readlines()\n",
    "    lEigen = []\n",
    "    #linea por linea quita los espacios y busca el string MODALCOMPONENTS\n",
    "    #en el numero de linea donde lo encuentre, las siguientes 5 lineas son el\n",
    "    #texto del ecabezado, y en la linea siguiente empiezan los eigenvalores\n",
    "    #menos los ultimas 5 lineas\n",
    "    for linenumber, linestr in enumerate(eigenVFile_lines):\n",
    "        #linea de texto CHANNEL\n",
    "        if not linestr.find('CHANNEL') == -1:\n",
    "            channelLine = eigenVFile_lines[linenumber]\n",
    "\n",
    "        #linea de texto TIME INTERVAL\n",
    "        if not linestr.find('TIME INTERVAL') == -1:\n",
    "            timeIntervalLine = eigenVFile_lines[linenumber]\n",
    "\n",
    "        #busca la palabra MODALCOMPONENTS, que es el inicio del encabezado\n",
    "        if not linestr.replace(\" \",\"\").find('MODALCOMPONENTS') == -1:\n",
    "            for i in range(linenumber+5,len(eigenVFile_lines)-5):\n",
    "                lEigen.append(eigenVFile_lines[i])\n",
    "\n",
    "    posDosPun = eigenVFile_lines[-4].find(':') #posicion del simbolo dos puntos\n",
    "    percError = float(eigenVFile_lines[-4][posDosPun+1:].strip())\n",
    "\n",
    "    posDosPun = eigenVFile_lines[-3].find(':') #posicion del simbolo dos puntos\n",
    "    signalNoise = float(eigenVFile_lines[-3][posDosPun+1:].strip())\n",
    "\n",
    "    posDosPun = eigenVFile_lines[-2].find(':') #posicion del simbolo dos puntos\n",
    "    methods = eigenVFile_lines[-2][posDosPun+1:].strip()\n",
    "\n",
    "    posDosPun = eigenVFile_lines[-1].find(':') #posicion del simbolo dos puntos\n",
    "    order = float(eigenVFile_lines[-1][posDosPun+1:].strip())\n",
    "\n",
    "    #crear diccionario con datos\n",
    "    eigVModeNum = []\n",
    "    eigVReal = []\n",
    "    eigVImag =  []\n",
    "    eigVMag = []\n",
    "    eigVAngle = []\n",
    "    eigVType = [] # TCNST O FREQ\n",
    "    eigVTValue = [] #TYPE VALUE\n",
    "    eigVUnit = [] #type unit\n",
    "\n",
    "    for l  in lEigen:\n",
    "        #expresion regular para cambiar los espacios por una coma\n",
    "        s = re.sub(\"\\s+\", \",\", l.strip())\n",
    "        lst =s.split(',')\n",
    "        eigVModeNum.append(lst[0])\n",
    "        eigVReal.append(lst[1])\n",
    "        eigVImag.append(lst[2])\n",
    "        eigVMag.append(lst[3])\n",
    "        eigVAngle.append(lst[4])\n",
    "        eigVType.append(lst[5][:-1]) #con -1 quita el :\n",
    "        eigVTValue.append(lst[6])\n",
    "        eigVUnit.append(lst[7][:-1])#con -1 quita el :\n",
    "    #quitar el punto de FREQ.\n",
    "    eigVType = [x.replace(\".\",\"\") for x in eigVType]\n",
    "    dictDataDF = {'COMP':eigVModeNum,\n",
    "                  'REAL':eigVReal,\n",
    "                  'IMAG':eigVImag,\n",
    "                  'MAG':eigVMag,\n",
    "                  'ANGLE':eigVAngle,\n",
    "                  'TYPE':eigVType,\n",
    "                  'TVALUE':eigVTValue,\n",
    "                  'UNIT':eigVUnit\n",
    "                  }\n",
    "\n",
    "    #crear dataframe\n",
    "    df = pd.DataFrame(dictDataDF)\n",
    "    df.replace('--',np.nan,inplace=True)\n",
    "    df['COMP']=pd.to_numeric(df['COMP'],downcast='integer')\n",
    "    df['REAL'] = pd.to_numeric(df['REAL'],downcast='float')\n",
    "    df['IMAG'] = pd.to_numeric(df['IMAG'],downcast='float')\n",
    "    df['MAG'] = pd.to_numeric(df['MAG'],downcast='float')\n",
    "    df['ANGLE'] = pd.to_numeric(df['ANGLE'],downcast='float')\n",
    "    df['TVALUE'] = pd.to_numeric(df['TVALUE'],downcast='float')\n",
    "    df.set_index('COMP',inplace=True)\n",
    "    cols = pd.MultiIndex.from_tuples([(\"EIGENVALUES\", \"REAL\"),\n",
    "                                      (\"EIGENVALUES\", \"IMAG\"),\n",
    "                                      (\"EIGENVECTORS\", \"MAG\"),\n",
    "                                      (\"EIGENVECTORS\", \"ANGLE\"),\n",
    "                                      (\"REMARKS\",\"TYPE\"),\n",
    "                                      (\"REMARKS\",\"TVALUE\"),\n",
    "                                      (\"REMARKS\",\"UNIT\")\n",
    "                                      ])\n",
    "    df.columns= cols\n",
    "    return df,channelLine,percError,signalNoise,methods,order\n",
    "\n"
   ],
   "metadata": {
    "collapsed": false,
    "pycharm": {
     "name": "#%%\n"
    }
   }
  },
  {
   "cell_type": "code",
   "execution_count": 133,
   "outputs": [],
   "source": [],
   "metadata": {
    "collapsed": false,
    "pycharm": {
     "name": "#%%\n"
    }
   }
  },
  {
   "cell_type": "code",
   "execution_count": 171,
   "outputs": [
    {
     "data": {
      "text/plain": "     EIGENVALUES              EIGENVECTORS             REMARKS                \n            REAL        IMAG           MAG       ANGLE    TYPE     TVALUE UNIT\nCOMP                                                                          \n1      -0.062988         NaN  6.053300e+01         NaN   TCNST  15.876000   SC\n2      -1.204540    1.535940  9.730900e-01  -97.860001    FREQ   0.244000   HZ\n3      -0.619881    7.492970  4.489100e-02   92.370003    FREQ   1.193000   HZ\n4     -33.725101   93.436600  1.450000e-04   95.309998    FREQ  14.871000   HZ\n5      -7.867820  161.024994  1.747100e-05  147.270004    FREQ  25.628000   HZ\n6      -4.852600  184.281998  1.206300e-05  145.360001    FREQ  29.329000   HZ\n7      -2.355300   38.157902  1.128400e-05  137.820007    FREQ   6.073000   HZ\n8      -2.768640  100.666000  9.237400e-06 -117.260002    FREQ  16.021000   HZ\n9      -0.622202   58.850899  5.016600e-06   64.160004    FREQ   9.366000   HZ\n10     -0.624597  116.864998  4.084400e-06 -146.440002    FREQ  18.600000   HZ\n11     -1.568350  132.020004  3.964400e-06  178.729996    FREQ  21.011999   HZ\n12      0.961524   81.767700  2.654500e-06  -29.879999    FREQ  13.014000   HZ\n13      4.524290  158.203995  9.677500e-07  -12.290000    FREQ  25.179001   HZ",
      "text/html": "<div>\n<style scoped>\n    .dataframe tbody tr th:only-of-type {\n        vertical-align: middle;\n    }\n\n    .dataframe tbody tr th {\n        vertical-align: top;\n    }\n\n    .dataframe thead tr th {\n        text-align: left;\n    }\n\n    .dataframe thead tr:last-of-type th {\n        text-align: right;\n    }\n</style>\n<table border=\"1\" class=\"dataframe\">\n  <thead>\n    <tr>\n      <th></th>\n      <th colspan=\"2\" halign=\"left\">EIGENVALUES</th>\n      <th colspan=\"2\" halign=\"left\">EIGENVECTORS</th>\n      <th colspan=\"3\" halign=\"left\">REMARKS</th>\n    </tr>\n    <tr>\n      <th></th>\n      <th>REAL</th>\n      <th>IMAG</th>\n      <th>MAG</th>\n      <th>ANGLE</th>\n      <th>TYPE</th>\n      <th>TVALUE</th>\n      <th>UNIT</th>\n    </tr>\n    <tr>\n      <th>COMP</th>\n      <th></th>\n      <th></th>\n      <th></th>\n      <th></th>\n      <th></th>\n      <th></th>\n      <th></th>\n    </tr>\n  </thead>\n  <tbody>\n    <tr>\n      <th>1</th>\n      <td>-0.062988</td>\n      <td>NaN</td>\n      <td>6.053300e+01</td>\n      <td>NaN</td>\n      <td>TCNST</td>\n      <td>15.876000</td>\n      <td>SC</td>\n    </tr>\n    <tr>\n      <th>2</th>\n      <td>-1.204540</td>\n      <td>1.535940</td>\n      <td>9.730900e-01</td>\n      <td>-97.860001</td>\n      <td>FREQ</td>\n      <td>0.244000</td>\n      <td>HZ</td>\n    </tr>\n    <tr>\n      <th>3</th>\n      <td>-0.619881</td>\n      <td>7.492970</td>\n      <td>4.489100e-02</td>\n      <td>92.370003</td>\n      <td>FREQ</td>\n      <td>1.193000</td>\n      <td>HZ</td>\n    </tr>\n    <tr>\n      <th>4</th>\n      <td>-33.725101</td>\n      <td>93.436600</td>\n      <td>1.450000e-04</td>\n      <td>95.309998</td>\n      <td>FREQ</td>\n      <td>14.871000</td>\n      <td>HZ</td>\n    </tr>\n    <tr>\n      <th>5</th>\n      <td>-7.867820</td>\n      <td>161.024994</td>\n      <td>1.747100e-05</td>\n      <td>147.270004</td>\n      <td>FREQ</td>\n      <td>25.628000</td>\n      <td>HZ</td>\n    </tr>\n    <tr>\n      <th>6</th>\n      <td>-4.852600</td>\n      <td>184.281998</td>\n      <td>1.206300e-05</td>\n      <td>145.360001</td>\n      <td>FREQ</td>\n      <td>29.329000</td>\n      <td>HZ</td>\n    </tr>\n    <tr>\n      <th>7</th>\n      <td>-2.355300</td>\n      <td>38.157902</td>\n      <td>1.128400e-05</td>\n      <td>137.820007</td>\n      <td>FREQ</td>\n      <td>6.073000</td>\n      <td>HZ</td>\n    </tr>\n    <tr>\n      <th>8</th>\n      <td>-2.768640</td>\n      <td>100.666000</td>\n      <td>9.237400e-06</td>\n      <td>-117.260002</td>\n      <td>FREQ</td>\n      <td>16.021000</td>\n      <td>HZ</td>\n    </tr>\n    <tr>\n      <th>9</th>\n      <td>-0.622202</td>\n      <td>58.850899</td>\n      <td>5.016600e-06</td>\n      <td>64.160004</td>\n      <td>FREQ</td>\n      <td>9.366000</td>\n      <td>HZ</td>\n    </tr>\n    <tr>\n      <th>10</th>\n      <td>-0.624597</td>\n      <td>116.864998</td>\n      <td>4.084400e-06</td>\n      <td>-146.440002</td>\n      <td>FREQ</td>\n      <td>18.600000</td>\n      <td>HZ</td>\n    </tr>\n    <tr>\n      <th>11</th>\n      <td>-1.568350</td>\n      <td>132.020004</td>\n      <td>3.964400e-06</td>\n      <td>178.729996</td>\n      <td>FREQ</td>\n      <td>21.011999</td>\n      <td>HZ</td>\n    </tr>\n    <tr>\n      <th>12</th>\n      <td>0.961524</td>\n      <td>81.767700</td>\n      <td>2.654500e-06</td>\n      <td>-29.879999</td>\n      <td>FREQ</td>\n      <td>13.014000</td>\n      <td>HZ</td>\n    </tr>\n    <tr>\n      <th>13</th>\n      <td>4.524290</td>\n      <td>158.203995</td>\n      <td>9.677500e-07</td>\n      <td>-12.290000</td>\n      <td>FREQ</td>\n      <td>25.179001</td>\n      <td>HZ</td>\n    </tr>\n  </tbody>\n</table>\n</div>"
     },
     "execution_count": 171,
     "metadata": {},
     "output_type": "execute_result"
    }
   ],
   "source": [],
   "metadata": {
    "collapsed": false,
    "pycharm": {
     "name": "#%%\n"
    }
   }
  },
  {
   "cell_type": "markdown",
   "source": [
    "# cheat sheet"
   ],
   "metadata": {
    "collapsed": false,
    "pycharm": {
     "name": "#%% md\n"
    }
   }
  },
  {
   "cell_type": "code",
   "execution_count": 109,
   "outputs": [
    {
     "name": "stdout",
     "output_type": "stream",
     "text": [
      "1 PTI INTERACTIVE POWER SYSTEM SIMULATOR--PSS(R)E Xplore TUE, AUG 23 2022  16:01\n",
      " IEEE BENCHMARK SYSTEM VII\n",
      " HTTP://WWW.SEL.EESC.USP.BR/IEEE/\n",
      "\n",
      " PLANT MODELS\n",
      "\n",
      " REPORT FOR ALL MODELS AT ALL BUSES            BUS 1 [GEN G1      20.000] MODELS\n",
      "\n",
      "\n",
      " Model GENROE Bus 1 [GEN G1      20.000] Machine \"1 \" :\n",
      "\n",
      "                    C O N S       S T A T E S\n",
      "                       1-14            1-6\n",
      "\n",
      "             MBASE     Z S O R C E         X T R A N       GENTAP\n",
      "             900.0  0.00250+J 0.20000  0.00000+J 0.00000  1.00000\n",
      "\n",
      "  T'D0 T''D0  T'Q0 T''Q0     H   DAMP   XD     XQ     X'D    X'Q   X''D    XL\n",
      "  8.00 0.030  0.40 0.050   6.50  0.00 1.8000 1.7000 0.3000 0.5500 0.2500 0.2000\n",
      "\n",
      "                                S(1.0)  S(1.2)\n",
      "                                0.0392  0.2672\n",
      "\n",
      "\n",
      " Model ESST1A Bus 1 [GEN G1      20.000] Machine \"1 \" :\n",
      "\n",
      "                    C O N S       S T A T E S                      RES-ICONS\n",
      "                      57-74           25-29                            1-2\n",
      "\n",
      "    UEL VOS     TR    VIMAX   VIMIN     TC      TB     TC1     TB1     KA\n",
      "     1   1    0.010  99.000  -99.00   1.000  10.000   1.000   1.000  200.0\n",
      "\n",
      "     TA    VAMAX   VAMIN   VRMAX   VRMIN    KC     KF     TF    KLR    ILR\n",
      "   0.000   4.000   -4.00   4.000   -4.00  0.000  0.000  1.000  0.000  3.000\n",
      "1 PTI INTERACTIVE POWER SYSTEM SIMULATOR--PSS(R)E Xplore TUE, AUG 23 2022  16:01\n",
      " IEEE BENCHMARK SYSTEM VII\n",
      " HTTP://WWW.SEL.EESC.USP.BR/IEEE/\n",
      "\n",
      " PLANT MODELS\n",
      "\n",
      " REPORT FOR ALL MODELS AT ALL BUSES            BUS 2 [GEN G2      20.000] MODELS\n",
      "\n",
      "\n",
      " Model GENROE Bus 2 [GEN G2      20.000] Machine \"1 \" :\n",
      "\n",
      "                    C O N S       S T A T E S\n",
      "                      15-28            7-12\n",
      "\n",
      "             MBASE     Z S O R C E         X T R A N       GENTAP\n",
      "             900.0  0.00250+J 0.20000  0.00000+J 0.00000  1.00000\n",
      "\n",
      "  T'D0 T''D0  T'Q0 T''Q0     H   DAMP   XD     XQ     X'D    X'Q   X''D    XL\n",
      "  8.00 0.030  0.40 0.050   6.50  0.00 1.8000 1.7000 0.3000 0.5500 0.2500 0.2000\n",
      "\n",
      "                                S(1.0)  S(1.2)\n",
      "                                0.0392  0.2672\n",
      "\n",
      "\n",
      " Model ESST1A Bus 2 [GEN G2      20.000] Machine \"1 \" :\n",
      "\n",
      "                    C O N S       S T A T E S                      RES-ICONS\n",
      "                      75-92           30-34                            3-4\n",
      "\n",
      "    UEL VOS     TR    VIMAX   VIMIN     TC      TB     TC1     TB1     KA\n",
      "     1   1    0.010  99.000  -99.00   1.000  10.000   1.000   1.000  200.0\n",
      "\n",
      "     TA    VAMAX   VAMIN   VRMAX   VRMIN    KC     KF     TF    KLR    ILR\n",
      "   0.000   4.000   -4.00   4.000   -4.00  0.000  0.000  1.000  0.000  3.000\n",
      "1 PTI INTERACTIVE POWER SYSTEM SIMULATOR--PSS(R)E Xplore TUE, AUG 23 2022  16:01\n",
      " IEEE BENCHMARK SYSTEM VII\n",
      " HTTP://WWW.SEL.EESC.USP.BR/IEEE/\n",
      "\n",
      " PLANT MODELS\n",
      "\n",
      " REPORT FOR ALL MODELS AT ALL BUSES            BUS 3 [GEN G3      20.000] MODELS\n",
      "\n",
      "\n",
      " Model GENROE Bus 3 [GEN G3      20.000] Machine \"1 \" :\n",
      "\n",
      "                    C O N S       S T A T E S\n",
      "                      29-42           13-18\n",
      "\n",
      "             MBASE     Z S O R C E         X T R A N       GENTAP\n",
      "             900.0  0.00250+J 0.20000  0.00000+J 0.00000  1.00000\n",
      "\n",
      "  T'D0 T''D0  T'Q0 T''Q0     H   DAMP   XD     XQ     X'D    X'Q   X''D    XL\n",
      "  8.00 0.030  0.40 0.050   6.18  0.00 1.8000 1.7000 0.3000 0.5500 0.2500 0.2000\n",
      "\n",
      "                                S(1.0)  S(1.2)\n",
      "                                0.0392  0.2672\n",
      "\n",
      "\n",
      " Model ESST1A Bus 3 [GEN G3      20.000] Machine \"1 \" :\n",
      "\n",
      "                    C O N S       S T A T E S                      RES-ICONS\n",
      "                      93-110          35-39                            5-6\n",
      "\n",
      "    UEL VOS     TR    VIMAX   VIMIN     TC      TB     TC1     TB1     KA\n",
      "     1   1    0.010  99.000  -99.00   1.000  10.000   1.000   1.000  200.0\n",
      "\n",
      "     TA    VAMAX   VAMIN   VRMAX   VRMIN    KC     KF     TF    KLR    ILR\n",
      "   0.000   4.000   -4.00   4.000   -4.00  0.000  0.000  1.000  0.000  3.000\n",
      "1 PTI INTERACTIVE POWER SYSTEM SIMULATOR--PSS(R)E Xplore TUE, AUG 23 2022  16:01\n",
      " IEEE BENCHMARK SYSTEM VII\n",
      " HTTP://WWW.SEL.EESC.USP.BR/IEEE/\n",
      "\n",
      " PLANT MODELS\n",
      "\n",
      " REPORT FOR ALL MODELS AT ALL BUSES            BUS 4 [GEN G4      20.000] MODELS\n",
      "\n",
      "\n",
      " Model GENROE Bus 4 [GEN G4      20.000] Machine \"1 \" :\n",
      "\n",
      "                    C O N S       S T A T E S\n",
      "                      43-56           19-24\n",
      "\n",
      "             MBASE     Z S O R C E         X T R A N       GENTAP\n",
      "             900.0  0.00250+J 0.20000  0.00000+J 0.00000  1.00000\n",
      "\n",
      "  T'D0 T''D0  T'Q0 T''Q0     H   DAMP   XD     XQ     X'D    X'Q   X''D    XL\n",
      "  8.00 0.030  0.40 0.050   6.18  0.00 1.8000 1.7000 0.3000 0.5500 0.2500 0.2000\n",
      "\n",
      "                                S(1.0)  S(1.2)\n",
      "                                0.0392  0.2672\n",
      "\n",
      "\n",
      " Model ESST1A Bus 4 [GEN G4      20.000] Machine \"1 \" :\n",
      "\n",
      "                    C O N S       S T A T E S                      RES-ICONS\n",
      "                     111-128          40-44                            7-8\n",
      "\n",
      "    UEL VOS     TR    VIMAX   VIMIN     TC      TB     TC1     TB1     KA\n",
      "     1   1    0.010  99.000  -99.00   1.000  10.000   1.000   1.000  200.0\n",
      "\n",
      "     TA    VAMAX   VAMIN   VRMAX   VRMIN    KC     KF     TF    KLR    ILR\n",
      "   0.000   4.000   -4.00   4.000   -4.00  0.000  0.000  1.000  0.000  3.000\n",
      "1 PTI INTERACTIVE POWER SYSTEM SIMULATOR--PSS(R)E Xplore TUE, AUG 23 2022  16:01\n",
      " IEEE BENCHMARK SYSTEM VII\n",
      " HTTP://WWW.SEL.EESC.USP.BR/IEEE/\n",
      "\n",
      " REPORT FOR ALL MODELS AT ALL BUSES                           SIMULATION OPTIONS\n",
      "\n",
      " NETWORK FREQUENCY DEPENDENCE                            : Not Set\n",
      " SCAN FOR OUT OF STEP CONDITION                          : Not Set\n",
      " SCAN FOR GENERATORS EXCEEDING ANGLE THRESHOLD           : Not Set\n",
      " SCAN FOR GENERATORS EXCEEDING POWER UNBALANCE THRESHOLD : Not Set\n",
      " SCAN GEN. EXCEEDING SPEED DEV.  THRESH.                 : Not Set\n",
      " SCAN FOR BUSES OUTSIDE OF VOLTAGE RANGE                 : Not Set\n",
      " SCAN CIRCUITS AGAINST GENERIC RELAY ZONES               : Not Set\n",
      " SET RELATIVE MACHINE ANGLES                             : Not Set\n",
      " VOLTAGE PRIMARY RECOVERY CHECK                          : Not Set\n",
      " VOLTAGE SECONDARY RECOVERY CHECK                        : Not Set\n",
      " VOLTAGE DIP CHECK                                       : Not Set\n",
      "\n",
      " Output completed\n"
     ]
    },
    {
     "data": {
      "text/plain": "0"
     },
     "execution_count": 109,
     "metadata": {},
     "output_type": "execute_result"
    }
   ],
   "source": [
    "#mostrar los datos de las plantas (maquinas, estabiliadores,etc)\n",
    "#psspby.docu()"
   ],
   "metadata": {
    "collapsed": false,
    "pycharm": {
     "name": "#%%\n"
    }
   }
  }
 ],
 "metadata": {
  "kernelspec": {
   "name": "pycharm-a777efb8",
   "language": "python",
   "display_name": "PyCharm (aero)"
  },
  "language_info": {
   "codemirror_mode": {
    "name": "ipython",
    "version": 2
   },
   "file_extension": ".py",
   "mimetype": "text/x-python",
   "name": "python",
   "nbconvert_exporter": "python",
   "pygments_lexer": "ipython2",
   "version": "2.7.6"
  }
 },
 "nbformat": 4,
 "nbformat_minor": 0
}