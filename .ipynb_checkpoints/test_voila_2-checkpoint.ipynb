{
 "cells": [
  {
   "cell_type": "code",
   "execution_count": 1,
   "id": "8268f581",
   "metadata": {
    "ExecuteTime": {
     "end_time": "2022-03-24T06:03:54.697211Z",
     "start_time": "2022-03-24T06:03:53.029408Z"
    }
   },
   "outputs": [],
   "source": [
    "%matplotlib widget\n",
    "import os\n",
    "from datetime import datetime\n",
    "from pathlib import Path  #to get user directory\n",
    "from IPython.display import clear_output\n",
    "#importa las fuciones que cree desde otro notebook (instalar modulo ipynb)\n",
    "import ipynb.fs.full.my_funcs_clusters as myfunc\n",
    "import matplotlib.pyplot as plt\n",
    "import numpy as np\n",
    "import pandas as pd\n",
    "import seaborn as sns\n",
    "from matplotlib import font_manager\n",
    "import matplotlib\n",
    "#matplotlib.use('nbAgg') #si le pongo esto no funciona\n",
    "import ipywidgets as widgets\n",
    "from IPython.display import display"
   ]
  },
  {
   "cell_type": "code",
   "execution_count": 2,
   "id": "2adb3efc",
   "metadata": {
    "ExecuteTime": {
     "end_time": "2022-03-24T06:04:17.657640Z",
     "start_time": "2022-03-24T06:03:54.699480Z"
    }
   },
   "outputs": [
    {
     "name": "stdout",
     "output_type": "stream",
     "text": [
      "Inciando procesamiento de datos...\n",
      "\n",
      "Total de registros: 52560\n",
      "Numero de filas sin datos\n",
      "day      0.0\n",
      "hour     0.0\n",
      "wdir     0.0\n",
      "vwind    0.0\n",
      "dtype: float64\n",
      "Fin del procesamiento de datos\n"
     ]
    }
   ],
   "source": [
    "data_path ='datos/DP-PB01-2005.xlsx'\n",
    "mf_pow_curve_path ='datos/DeWind d8.2.csv'\n",
    "df_wind_dir, df_comp_vel,df_mf_curve = myfunc.proc_dat_bcs(data_path,mf_pow_curve_path)\n"
   ]
  },
  {
   "cell_type": "code",
   "execution_count": 3,
   "id": "41a25b84",
   "metadata": {
    "ExecuteTime": {
     "end_time": "2022-03-24T06:04:18.068580Z",
     "start_time": "2022-03-24T06:04:17.659635Z"
    }
   },
   "outputs": [
    {
     "data": {
      "application/vnd.jupyter.widget-view+json": {
       "model_id": "d69ae6b4b4944517b7a7f725156ac00a",
       "version_major": 2,
       "version_minor": 0
      },
      "text/plain": [
       "Output()"
      ]
     },
     "metadata": {},
     "output_type": "display_data"
    }
   ],
   "source": [
    "output = widgets.Output()\n",
    "display(output)\n",
    "\n",
    "with output:\n",
    "    plt.figure(1,figsize=(20,5))\n",
    "    plt.suptitle('Time series for wind velocities')\n",
    "    plt.plot(df_wind_dir.index, df_wind_dir.vwind)\n",
    "    plt.figtext(0.5, 0.01, 'Figure 1', wrap=True, horizontalalignment='center', fontsize=14)\n",
    "    plt.xlabel('Date')\n",
    "    plt.ylabel('Wind vel. [m/s]')\n",
    "    plt.show()\n",
    "\n"
   ]
  },
  {
   "cell_type": "code",
   "execution_count": 10,
   "id": "4cb2ac14",
   "metadata": {
    "ExecuteTime": {
     "end_time": "2022-03-24T05:38:32.976349Z",
     "start_time": "2022-03-24T05:38:32.956387Z"
    }
   },
   "outputs": [
    {
     "data": {
      "application/vnd.jupyter.widget-view+json": {
       "model_id": "a95636ac418949cb96dc041d79fbe4a1",
       "version_major": 2,
       "version_minor": 0
      },
      "text/plain": [
       "Output()"
      ]
     },
     "metadata": {},
     "output_type": "display_data"
    },
    {
     "data": {
      "application/vnd.jupyter.widget-view+json": {
       "model_id": "be5267882f3740e5a03bc33a0297dfd6",
       "version_major": 2,
       "version_minor": 0
      },
      "text/plain": [
       "Button(description='run', style=ButtonStyle())"
      ]
     },
     "metadata": {},
     "output_type": "display_data"
    }
   ],
   "source": [
    "import ipywidgets as widgets\n",
    "from IPython.display import display,clear_output\n",
    "def sayHello(b):\n",
    "    global i\n",
    "    i+=1\n",
    "    with out:\n",
    "        clear_output(wait=True)\n",
    "        display('Hello world*' + str(i)+'!')\n",
    "i=0\n",
    "out = widgets.Output()\n",
    "display(out)\n",
    "\n",
    "run_button = widgets.Button(\n",
    "    description = 'run'\n",
    "    )\n",
    "run_button.on_click(sayHello)\n",
    "display(run_button)"
   ]
  }
 ],
 "metadata": {
  "hide_input": false,
  "kernelspec": {
   "display_name": "Python 3 (ipykernel)",
   "language": "python",
   "name": "python3"
  },
  "language_info": {
   "codemirror_mode": {
    "name": "ipython",
    "version": 3
   },
   "file_extension": ".py",
   "mimetype": "text/x-python",
   "name": "python",
   "nbconvert_exporter": "python",
   "pygments_lexer": "ipython3",
   "version": "3.9.7"
  }
 },
 "nbformat": 4,
 "nbformat_minor": 5
}
