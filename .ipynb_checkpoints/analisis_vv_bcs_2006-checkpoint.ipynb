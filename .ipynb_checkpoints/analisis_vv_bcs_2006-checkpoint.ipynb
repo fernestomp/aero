{
 "cells": [
  {
   "cell_type": "code",
   "execution_count": 1,
   "id": "fe14d747",
   "metadata": {
    "ExecuteTime": {
     "end_time": "2022-03-24T06:24:47.866677Z",
     "start_time": "2022-03-24T06:24:47.840746Z"
    }
   },
   "outputs": [
    {
     "data": {
      "text/html": [
       "<script>\n",
       "code_show=true; \n",
       "function code_toggle() {\n",
       "  if (code_show) {\n",
       "    $('div.input').each(function(id) {\n",
       "      el = $(this).find('.cm-variable:first');\n",
       "      if (id == 0 || el.text() == 'hide_me') {\n",
       "        $(this).hide();\n",
       "      }\n",
       "    });\n",
       "    $('div.output_prompt').css('opacity', 0);\n",
       "  } else {\n",
       "    $('div.input').each(function(id) {\n",
       "      $(this).show();\n",
       "    });\n",
       "    $('div.output_prompt').css('opacity', 1);\n",
       "  }\n",
       "  code_show = !code_show\n",
       "} \n",
       "$( document ).ready(code_toggle);\n",
       "</script>\n",
       "<form action=\"javascript:code_toggle()\"><input style=\"opacity:0\" type=\"submit\" value=\"Click here to toggle on/off the raw code.\"></form>"
      ],
      "text/plain": [
       "<IPython.core.display.HTML object>"
      ]
     },
     "execution_count": 1,
     "metadata": {},
     "output_type": "execute_result"
    }
   ],
   "source": [
    "#https://amitrajitbose.github.io/blog/hiding-input-cells-jupyter-notebook/\n",
    "# This is a cell to hide code snippets from displaying\n",
    "# This must be at first cell!\n",
    "\n",
    "from IPython.display import HTML\n",
    "\n",
    "hide_me = ''\n",
    "HTML('''<script>\n",
    "code_show=true; \n",
    "function code_toggle() {\n",
    "  if (code_show) {\n",
    "    $('div.input').each(function(id) {\n",
    "      el = $(this).find('.cm-variable:first');\n",
    "      if (id == 0 || el.text() == 'hide_me') {\n",
    "        $(this).hide();\n",
    "      }\n",
    "    });\n",
    "    $('div.output_prompt').css('opacity', 0);\n",
    "  } else {\n",
    "    $('div.input').each(function(id) {\n",
    "      $(this).show();\n",
    "    });\n",
    "    $('div.output_prompt').css('opacity', 1);\n",
    "  }\n",
    "  code_show = !code_show\n",
    "} \n",
    "$( document ).ready(code_toggle);\n",
    "</script>\n",
    "<form action=\"javascript:code_toggle()\"><input style=\"opacity:0\" type=\"submit\" value=\"Click here to toggle on/off the raw code.\"></form>''')"
   ]
  },
  {
   "cell_type": "markdown",
   "id": "834fd0ac",
   "metadata": {
    "pycharm": {
     "name": "#%% md\n"
    }
   },
   "source": [
    "# imports"
   ]
  },
  {
   "cell_type": "code",
   "execution_count": 2,
   "id": "59be858f",
   "metadata": {
    "ExecuteTime": {
     "end_time": "2022-03-24T06:24:49.873074Z",
     "start_time": "2022-03-24T06:24:47.868672Z"
    }
   },
   "outputs": [],
   "source": [
    "%matplotlib widget\n",
    "import os\n",
    "from datetime import datetime\n",
    "from pathlib import Path  #to get user directory\n",
    "from IPython.display import clear_output\n",
    "#importa las fuciones que cree desde otro notebook (instalar modulo ipynb)\n",
    "import ipynb.fs.full.my_funcs_clusters as myfunc\n",
    "import matplotlib.pyplot as plt\n",
    "import numpy as np\n",
    "import pandas as pd\n",
    "import seaborn as sns\n",
    "from matplotlib import font_manager\n",
    "import matplotlib\n",
    "#matplotlib.use('nbAgg')\n",
    "import ipywidgets as widgets\n",
    "from IPython.display import display"
   ]
  },
  {
   "cell_type": "code",
   "execution_count": 3,
   "id": "6934e4d6",
   "metadata": {
    "ExecuteTime": {
     "end_time": "2022-03-24T06:24:49.904992Z",
     "start_time": "2022-03-24T06:24:49.876069Z"
    },
    "pycharm": {
     "name": "#%%\n"
    }
   },
   "outputs": [
    {
     "data": {
      "text/plain": [
       "<module 'ipynb.fs.full.my_funcs_clusters' (C:\\Users\\mungu\\Documents\\GitHub\\aero\\my_funcs_clusters.ipynb)>"
      ]
     },
     "execution_count": 3,
     "metadata": {},
     "output_type": "execute_result"
    }
   ],
   "source": [
    "import importlib\n",
    "importlib.reload(myfunc)"
   ]
  },
  {
   "cell_type": "markdown",
   "id": "c587c7a5",
   "metadata": {
    "pycharm": {
     "name": "#%% md\n"
    }
   },
   "source": [
    "# data processing"
   ]
  },
  {
   "cell_type": "code",
   "execution_count": 4,
   "id": "a944d15c",
   "metadata": {
    "ExecuteTime": {
     "end_time": "2022-03-24T06:25:09.989716Z",
     "start_time": "2022-03-24T06:24:49.907985Z"
    },
    "pycharm": {
     "name": "#%%\n"
    }
   },
   "outputs": [
    {
     "name": "stdout",
     "output_type": "stream",
     "text": [
      "Inciando procesamiento de datos...\n",
      "\n",
      "Total de registros: 52560\n",
      "Numero de filas sin datos\n",
      "day      0.0\n",
      "hour     0.0\n",
      "wdir     0.0\n",
      "vwind    0.0\n",
      "dtype: float64\n",
      "Fin del procesamiento de datos\n"
     ]
    }
   ],
   "source": [
    "data_path ='datos/DP-PB01-2005.xlsx'\n",
    "mf_pow_curve_path ='datos/DeWind d8.2.csv'\n",
    "df_wind_dir, df_comp_vel,df_mf_curve = myfunc.proc_dat_bcs(data_path,mf_pow_curve_path)\n"
   ]
  },
  {
   "cell_type": "markdown",
   "id": "33c5e2a6",
   "metadata": {
    "pycharm": {
     "name": "#%% md\n"
    }
   },
   "source": [
    "## Serie de tiempo\n",
    "La gráfica que muestra las variaciones de velocidad de viento a lo largo del tiempo es llamada serie de tiempo. La\n",
    "serie de tiempo que corresponde a los datos registrados en el año 2005 en baja california se muestran en la Figura 1."
   ]
  },
  {
   "cell_type": "code",
   "execution_count": 5,
   "id": "4731bfeb",
   "metadata": {
    "ExecuteTime": {
     "end_time": "2022-03-24T06:25:10.415605Z",
     "start_time": "2022-03-24T06:25:09.991712Z"
    },
    "pycharm": {
     "name": "#%%\n"
    }
   },
   "outputs": [
    {
     "data": {
      "application/vnd.jupyter.widget-view+json": {
       "model_id": "389f4d4188ba4f8da3ba10cbc70aad07",
       "version_major": 2,
       "version_minor": 0
      },
      "text/plain": [
       "Output()"
      ]
     },
     "metadata": {},
     "output_type": "display_data"
    }
   ],
   "source": [
    "output = widgets.Output()\n",
    "display(output)\n",
    "with output:\n",
    "    plt.figure(1,figsize=(20,5))\n",
    "    plt.suptitle('Time series for wind velocities')\n",
    "    plt.plot(df_wind_dir.index, df_wind_dir.vwind)\n",
    "    plt.figtext(0.5, 0.01, 'Figure 1', wrap=True, horizontalalignment='center', fontsize=14)\n",
    "    plt.xlabel('Date')\n",
    "    plt.ylabel('Wind vel. [m/s]')\n",
    "    plt.show()\n",
    "\n",
    "\n"
   ]
  },
  {
   "cell_type": "markdown",
   "id": "83ca91d3",
   "metadata": {
    "pycharm": {
     "name": "#%% md\n"
    }
   },
   "source": [
    "# Componentes de velocidad\n",
    "Los vectores de velocidad de viento se pueden descomponer en sus componentes horizontales y verticales. Si gráficamos\n",
    "estos componentes, obtenemos un gráfico similar al llamado espacio de fases en mecánica estadística. El espacio de\n",
    "fases contiene todos los posibles estados y las regiones donde los ponemos encontrar. Fuera de estas regiones no\n",
    "puede existir ningún estado. En este mismo sentido, podemos definir un \"estado de viento\" como una región dentro del\n",
    "espacio de estados que comparte características de velocidad de viento y dirección similares."
   ]
  },
  {
   "cell_type": "code",
   "execution_count": 22,
   "id": "6ef18b0f",
   "metadata": {
    "ExecuteTime": {
     "end_time": "2022-03-24T06:27:16.763694Z",
     "start_time": "2022-03-24T06:27:16.503374Z"
    },
    "pycharm": {
     "name": "#%%\n"
    }
   },
   "outputs": [
    {
     "data": {
      "application/vnd.jupyter.widget-view+json": {
       "model_id": "b15d6859b47e4e78baa2a56b7370c7bf",
       "version_major": 2,
       "version_minor": 0
      },
      "text/plain": [
       "Output()"
      ]
     },
     "metadata": {},
     "output_type": "display_data"
    }
   ],
   "source": [
    "output2 = widgets.Output()\n",
    "display(output2)\n",
    "with output2:\n",
    "    plt.figure(2,figsize=(10,10))\n",
    "    plt.suptitle('Scatter plot of the velocity vectors')\n",
    "    plt.scatter(df_comp_vel.vx,df_comp_vel.vy,s=1)\n",
    "    plt.xlabel('vx [m/s]')\n",
    "    plt.ylabel('vy [m/s]')\n",
    "    plt.tight_layout()\n",
    "    plt.figtext(0.5, 0.0, 'Figure 2', wrap=True, horizontalalignment='center', fontsize=14)\n",
    "    plt.show()\n"
   ]
  },
  {
   "cell_type": "markdown",
   "id": "6d3e1b58",
   "metadata": {
    "pycharm": {
     "name": "#%% md\n"
    }
   },
   "source": [
    "# Histograma y density plot\n",
    "Una forma de encontrar los estados en el espacio de fases, es observando el plot de densidades y el histograma de\n",
    "frecuencia de los componentes de velocidad. En la Figure 3 podemos observar 5 regiones en el espacio de fases que\n",
    "podemos clasificar como estados de viento."
   ]
  },
  {
   "cell_type": "code",
   "execution_count": 26,
   "id": "4f6f50e6",
   "metadata": {
    "ExecuteTime": {
     "end_time": "2022-03-24T06:32:45.638167Z",
     "start_time": "2022-03-24T06:32:39.942371Z"
    },
    "pycharm": {
     "name": "#%%\n"
    }
   },
   "outputs": [
    {
     "data": {
      "application/vnd.jupyter.widget-view+json": {
       "model_id": "02fa28d370614cfd8e6a5e9571b60af5",
       "version_major": 2,
       "version_minor": 0
      },
      "text/plain": [
       "Output()"
      ]
     },
     "metadata": {},
     "output_type": "display_data"
    }
   ],
   "source": [
    "output3 = widgets.Output()\n",
    "display(output3)\n",
    "with output3:\n",
    "    fontsize = 13\n",
    "    labelFontSize = 13\n",
    "    tickFontSize = 12\n",
    "    markerSize = 100\n",
    "    fontNameLabel = {'fontname':'Times New Roman'}\n",
    "    fontNameCluster = {'fontname':'Arial'}\n",
    "    ticks_font = font_manager.FontProperties(family='Times New Roman', style='normal',\n",
    "                                             size=labelFontSize, weight='normal', stretch='normal')\n",
    "    ticks_font = font_manager.FontProperties(family='Times New Roman', style='normal',\n",
    "                                             size=labelFontSize, weight='normal', stretch='normal')\n",
    "    #en esta celda se usa gridspec para cambiar el tamaño de subplots individuales\n",
    "    from scipy.stats import kde\n",
    "\n",
    "    pltfstitle =10 #tamaño de fuente\n",
    "    pltfslbl =13\n",
    "    nbins =60\n",
    "\n",
    "    H, xedges, yedges = np.histogram2d(df_comp_vel.vx.values, df_comp_vel.vy.values,bins=nbins )\n",
    "    H=H.T;\n",
    "    #\n",
    "    # Create an X-Y mesh of the same dimension as the 2D data. You can\n",
    "    # think of this as the floor of the plot.\n",
    "    #\n",
    "\n",
    "    x_data, y_data = np.meshgrid( xedges[:-1],yedges[:-1])\n",
    "    # Flatten out the arrays so that they may be passed to \"ax.bar3d\".\n",
    "    # Basically, ax.bar3d expects three one-dimensional arrays:\n",
    "    # x_data, y_data, z_data. The following call boils down to picking\n",
    "    # one entry from each array and plotting a bar to from\n",
    "    # (x_data[i], y_data[i], 0) to (x_data[i], y_data[i], z_data[i]).\n",
    "    #\n",
    "    x_data = x_data.flatten()\n",
    "    y_data = y_data.flatten()\n",
    "    z_data = H.flatten()\n",
    "\n",
    "    # Create a figure for plotting the data as a 3D histogram.\n",
    "    #\n",
    "    fig = plt.figure(figsize=(10,7))\n",
    "\n",
    "    # eliminar elementos con frecuencia zero\n",
    "    a = z_data[z_data != 0]\n",
    "    idx=np.where(z_data == 0)[0]\n",
    "    b=np.delete(x_data,idx)\n",
    "    c=np.delete(y_data,idx)\n",
    "    z_data=a\n",
    "    x_data=b\n",
    "    y_data=c\n",
    "\n",
    "    # tres graficas\n",
    "    #cmap del histograma2d. Es un array de nx 4 elementos (rgba)\n",
    "    #histograma 3d\n",
    "    #ax = fig.add_subplot(121, projection='3d')\n",
    "    #grid = plt.GridSpec(2,2, wspace=0.3, hspace=0.1)\n",
    "    #axScatter=fig.add_subplot(grid[0, 0])\n",
    "    #axDensity= fig.add_subplot(grid[0, 1])\n",
    "    #axHist2d =fig.add_subplot(grid[1,0: ], projection='3d')\n",
    "\n",
    "    # dos graficas\n",
    "    #cmap del histograma2d. Es un array de nx 4 elementos (rgba)\n",
    "    #histograma 3d\n",
    "    #ax = fig.add_subplot(121, projection='3d')\n",
    "    grid = plt.GridSpec(1, 2, width_ratios=[1, 2])\n",
    "\n",
    "    #grid = plt.GridSpec(1,2, wspace=0.3, hspace=0.1)\n",
    "    #axScatter=fig.add_subplot(grid[0, 0])\n",
    "    axDensity= fig.add_subplot(grid[0, 0])\n",
    "    axHist2d =fig.add_subplot(grid[0,1 ], projection='3d')\n",
    "\n",
    "    #SCATTER\n",
    "    #axScatter.scatter(df_comp_vel.vx,df_comp_vel.vy,s=0.6)\n",
    "    #axScatter.set_ylabel('vy [m/s]', fontsize = pltfslbl)\n",
    "    #axScatter.set_xlabel('vx [m/s]', fontsize = pltfslbl)\n",
    "    ##axScatter.set_aspect('equal')\n",
    "    #axScatter.set_xticks(np.arange(np.around(df_comp_vel.vx.min()),df_comp_vel.vx.max(),5))\n",
    "\n",
    "    #DENSITY PLOT\n",
    "\n",
    "    data = np.array(df_comp_vel.values.tolist())\n",
    "    x, y = data.T\n",
    "    # Evaluate a gaussian kde on a regular grid of nbins x nbins over data extents\n",
    "    k = kde.gaussian_kde(data.T)\n",
    "    xi, yi = np.mgrid[x.min():x.max():nbins*1j, y.min():y.max():nbins*1j]\n",
    "    zi = k(np.vstack([xi.flatten(), yi.flatten()]))\n",
    "\n",
    "    axDensity.set_ylabel('vy [m/s]', fontsize = pltfslbl,fontname='Times New Roman')\n",
    "    axDensity.set_xlabel('vx [m/s]', fontsize = pltfslbl,fontname='Times New Roman')\n",
    "    axDensity.tick_params(axis='both', labelsize = pltfslbl)\n",
    "    axDensity.set_aspect('equal')\n",
    "    axDensity.set_xticks(np.arange(np.around(df_comp_vel.vx.min()),df_comp_vel.vx.max(),5))\n",
    "\n",
    "\n",
    "    #guardo el objeto pcolormesh para obtener su cmap\n",
    "    axDensity.pcolormesh(xi, yi, zi.reshape(xi.shape), shading='gouraud', cmap=plt.cm.inferno)\n",
    "\n",
    "    #HIST2D\n",
    "    axHist2d.tick_params(axis='both', labelsize = pltfslbl)\n",
    "    ancho_barra =0.5\n",
    "    largo_barra = 0.5\n",
    "    axHist2d.bar3d( x_data,\n",
    "                    y_data,\n",
    "                    np.zeros_like(z_data),\n",
    "                    ancho_barra, largo_barra, z_data, shade=True,\n",
    "                    color = 'blue')\n",
    "    axHist2d.xaxis.pane.fill = False\n",
    "    axHist2d.yaxis.pane.fill = False\n",
    "    axHist2d.zaxis.pane.fill = False\n",
    "    axHist2d.set_aspect('auto')\n",
    "\n",
    "    #Vista del histograma 3d\n",
    "    axHist2d.view_init(50,-153)\n",
    "    axHist2d.set_ylabel('vy [m/s]', fontsize = pltfslbl,fontname='Times New Roman')\n",
    "    axHist2d.set_xlabel('vx [m/s]', fontsize = pltfslbl,fontname='Times New Roman')\n",
    "    axHist2d.set_zlabel('Freq', fontsize = pltfslbl, rotation= 90,fontname='Times New Roman')\n",
    "\n",
    "    for label in axDensity.get_xticklabels():\n",
    "        label.set_fontproperties(ticks_font)\n",
    "    for label in axDensity.get_yticklabels():\n",
    "        label.set_fontproperties(ticks_font)\n",
    "\n",
    "    for label in axHist2d.get_xticklabels():\n",
    "        label.set_fontproperties(ticks_font)\n",
    "    for label in axHist2d.get_yticklabels():\n",
    "        label.set_fontproperties(ticks_font)\n",
    "    for label in axHist2d.get_zticklabels():\n",
    "        label.set_fontproperties(ticks_font)\n",
    "\n",
    "    plt.tight_layout()\n",
    "\n",
    "\n",
    "    plt.suptitle('Búsqueda de estados')\n",
    "    plt.figtext(0.5, 0.0, 'Figure 3', wrap=True, horizontalalignment='center', fontsize=14)\n",
    "\n",
    "    plt.show()"
   ]
  },
  {
   "cell_type": "markdown",
   "id": "ed7bf27c",
   "metadata": {
    "pycharm": {
     "name": "#%% md\n"
    }
   },
   "source": [
    "# Clusters\n",
    "Ya que tenemos identificados los estados, los encontramos usando un método de agrupamiento llamado k-means. EL método\n",
    "k-means encuentra puntos en los datos que funcionaran como ancla para definir que puntos se encuentran dentro de\n",
    "determinado grupo mediante distancias euclidianas y el algoritmo de <i> maximum-likelihood</i>. Se eligieron\n",
    "empíricamente 15 grupos, los cuales corresponden a 15 estados dentro del espacio de fases. La gráfica con los 15\n",
    "estados de viento dentro del espacio de fases se muestra en la Figure 4."
   ]
  },
  {
   "cell_type": "code",
   "execution_count": 24,
   "id": "12f8b246",
   "metadata": {
    "ExecuteTime": {
     "end_time": "2022-03-24T06:29:41.557231Z",
     "start_time": "2022-03-24T06:29:35.462529Z"
    },
    "pycharm": {
     "name": "#%%\n"
    }
   },
   "outputs": [],
   "source": [
    "\n",
    "n_clusters = 15\n",
    "clusters_wind = myfunc.KMData()\n",
    "clusters_wind.dataframe_to_cluster(df_comp_vel, n_clusters=n_clusters, clusters_data='wind')\n",
    "#crear un dataframe viento, direccion, cluster\n",
    "df_wind_dir_cl = df_wind_dir.copy()\n",
    "#tomando las labels de kmeans y sumandole uno por que empieza en 0\n",
    "#ademas agregando la letra C y ordenando de menor v a mayor vel\n",
    "col_clnames = ['C' + str(clusters_wind.cl_ord[c]+1) for c in clusters_wind.kmeans_labels]\n",
    "df_wind_dir_cl['cluster'] = col_clnames\n",
    "del col_clnames"
   ]
  },
  {
   "cell_type": "markdown",
   "id": "31d40d70",
   "metadata": {
    "pycharm": {
     "name": "#%% md\n"
    }
   },
   "source": [
    "## Plot"
   ]
  },
  {
   "cell_type": "code",
   "execution_count": 27,
   "id": "00d5fd48",
   "metadata": {
    "ExecuteTime": {
     "end_time": "2022-03-24T06:34:03.590029Z",
     "start_time": "2022-03-24T06:34:01.451719Z"
    },
    "code_folding": [],
    "pycharm": {
     "name": "#%%\n"
    }
   },
   "outputs": [
    {
     "data": {
      "application/vnd.jupyter.widget-view+json": {
       "model_id": "7535a9a9daef4fbf85b4f82d7061b477",
       "version_major": 2,
       "version_minor": 0
      },
      "text/plain": [
       "Output()"
      ]
     },
     "metadata": {},
     "output_type": "display_data"
    }
   ],
   "source": [
    "output4 = widgets.Output()\n",
    "display(output4)\n",
    "with output4:\n",
    "    clsclord=('wind',None)\n",
    "    ploti = myfunc.PlotSubClusterInt()\n",
    "    ploti.create_plot(clusters_wind.comp_vel, figsize=(20, 10), idx_centroids=clusters_wind.idx_centroids,fign=4,\n",
    "                      savepath='fig_art/',\n",
    "     showlBetz=False,\n",
    "     showCent= True,\n",
    "    showOpt= 'Numero',\n",
    "    dfMfgCurve=df_mf_curve\n",
    "                     )"
   ]
  },
  {
   "cell_type": "markdown",
   "id": "cafa64ad",
   "metadata": {
    "pycharm": {
     "name": "#%% md\n"
    }
   },
   "source": [
    "# Estudio de impacto ambiental (Proyecto San Carlos)"
   ]
  },
  {
   "cell_type": "markdown",
   "id": "aeef09c4",
   "metadata": {
    "pycharm": {
     "name": "#%% md\n"
    }
   },
   "source": [
    "## Resumen"
   ]
  },
  {
   "cell_type": "code",
   "execution_count": null,
   "id": "b9dd898d",
   "metadata": {
    "pycharm": {
     "name": "#%%\n"
    }
   },
   "outputs": [],
   "source": []
  },
  {
   "cell_type": "code",
   "execution_count": 10,
   "id": "3ec92ae8",
   "metadata": {
    "ExecuteTime": {
     "end_time": "2022-03-24T06:25:10.494367Z",
     "start_time": "2022-03-24T06:25:10.482407Z"
    },
    "pycharm": {
     "name": "#%%\n"
    }
   },
   "outputs": [],
   "source": [
    "prom = df_wind_dir.vwind.mean()\n",
    "abril = df_wind_dir[df_wind_dir.index.month==4].vwind.mean()\n",
    "diciembre = df_wind_dir[df_wind_dir.index.month==12].vwind.mean()\n",
    "print('Velocidad promedio anual: %0.2f\\nVelocidad promedio abril: %0.2f\\n'\n",
    "      'Velocidad promedio diciembre: %0.2f' %(prom,abril,diciembre))\n"
   ]
  },
  {
   "cell_type": "markdown",
   "id": "6d91d229",
   "metadata": {
    "pycharm": {
     "name": "#%% md\n"
    }
   },
   "source": [
    "## Plot de direcciones de viento"
   ]
  },
  {
   "cell_type": "code",
   "execution_count": 11,
   "id": "45df9d30",
   "metadata": {
    "ExecuteTime": {
     "end_time": "2022-03-24T06:25:10.510326Z",
     "start_time": "2022-03-24T06:25:10.497360Z"
    },
    "pycharm": {
     "name": "#%%\n"
    }
   },
   "outputs": [],
   "source": [
    "# output4 = widgets.Output()\n",
    "# display(output4)\n",
    "# with output4:\n",
    "# ##########################\n",
    "#     myfunc.plot_vectors(df_comp_vel,fign=7,show_month=0)\n"
   ]
  },
  {
   "cell_type": "markdown",
   "id": "8cd8fdc5",
   "metadata": {
    "pycharm": {
     "name": "#%% md\n"
    }
   },
   "source": [
    "## curva de potencia del fabricante"
   ]
  },
  {
   "cell_type": "code",
   "execution_count": 12,
   "id": "7ada71e5",
   "metadata": {
    "ExecuteTime": {
     "end_time": "2022-03-24T06:25:10.526322Z",
     "start_time": "2022-03-24T06:25:10.511341Z"
    },
    "pycharm": {
     "name": "#%%\n"
    }
   },
   "outputs": [],
   "source": [
    "#https://www.thewindpower.net/turbine_es_575_dewind_d8.2.php\n",
    "#http:/windatlas.xyz/turbine/?name=Dewind%20D8.2\n",
    "out_mfpc = widgets.Output()\n",
    "display(out_mfpc)\n",
    "with out_mfpc:\n",
    "    plt.figure()\n",
    "    plt.plot(df_mf_curve.index,df_mf_curve.pw)\n",
    "    plt.show()"
   ]
  },
  {
   "cell_type": "markdown",
   "id": "4b9a0b32",
   "metadata": {},
   "source": [
    "# Markov"
   ]
  },
  {
   "cell_type": "markdown",
   "id": "5517e4e4",
   "metadata": {
    "pycharm": {
     "name": "#%% md\n"
    }
   },
   "source": [
    "# Estacionalidad"
   ]
  },
  {
   "cell_type": "code",
   "execution_count": 13,
   "id": "fe859293",
   "metadata": {
    "ExecuteTime": {
     "end_time": "2022-03-24T06:25:10.542240Z",
     "start_time": "2022-03-24T06:25:10.528276Z"
    },
    "pycharm": {
     "name": "#%%\n"
    }
   },
   "outputs": [],
   "source": [
    "df = df_wind_dir_cl.copy()\n",
    "#estaciones meteoroligicas (no astronomicas)\n",
    "primavera_inicio = pd.to_datetime('1-03-2005',format='%d-%m-%Y')\n",
    "verano_inicio = pd.to_datetime('1-06-2005',format='%d-%m-%Y')\n",
    "otonio_inicio = pd.to_datetime('1-09-2005',format='%d-%m-%Y')\n",
    "invierno_inicio = pd.to_datetime('1-12-2005',format='%d-%m-%Y')\n",
    "\n",
    "maskPrim = ( (df.index >=primavera_inicio ) &(df.index <verano_inicio ))\n",
    "dfwd_prim = df.loc[maskPrim]\n",
    "\n",
    "maskVer = ( (df.index >=verano_inicio  ) &(df.index <otonio_inicio ))\n",
    "dfwd_ver = df.loc[maskVer]\n",
    "\n",
    "maskOtonio= ( (df.index >=otonio_inicio ) &(df.index <invierno_inicio ))\n",
    "dfwd_otonio = df.loc[maskOtonio]\n",
    "\n",
    "maskInv = ( (df.index < primavera_inicio) | (df.index >=invierno_inicio ))\n",
    "\n",
    "dfwd_inv = df.loc[maskInv]\n"
   ]
  },
  {
   "cell_type": "markdown",
   "id": "234eb9b5",
   "metadata": {
    "pycharm": {
     "name": "#%% md\n"
    }
   },
   "source": [
    "## Primavera"
   ]
  },
  {
   "cell_type": "code",
   "execution_count": 14,
   "id": "8c840dfc",
   "metadata": {
    "ExecuteTime": {
     "end_time": "2022-03-24T06:25:10.557200Z",
     "start_time": "2022-03-24T06:25:10.544234Z"
    },
    "pycharm": {
     "name": "#%%\n"
    }
   },
   "outputs": [],
   "source": [
    "gp_prim =dfwd_prim.groupby(\"cluster\").count()\n",
    "gp_prim['pct']=gp_prim.wdir.values/(len(dfwd_prim)) *100\n",
    "gp_prim.drop('wdir',axis=1,inplace=True)\n",
    "gp_prim.sort_values(by='pct',ascending=False)\n"
   ]
  },
  {
   "cell_type": "code",
   "execution_count": 15,
   "id": "c3292a92",
   "metadata": {
    "ExecuteTime": {
     "end_time": "2022-03-24T06:25:10.572160Z",
     "start_time": "2022-03-24T06:25:10.559194Z"
    },
    "pycharm": {
     "name": "#%%\n"
    }
   },
   "outputs": [],
   "source": [
    "plt.figure()\n",
    "plt.suptitle('% por cluster en primavera ')\n",
    "explode= (0,0,0,0,0)\n",
    "wedges, texts, autotexts = plt.pie(gp_prim.pct, autopct='%1.2f%%', textprops=dict(color=\"w\"),\n",
    "                                   shadow=False, startangle=0)\n",
    "plt.gca().axis('equal')  # Equal aspect ratio ensures that pie is drawn as a circle.\n",
    "plt.legend(labels = gp_prim.index)\n",
    "\n",
    "plt.show()"
   ]
  },
  {
   "cell_type": "markdown",
   "id": "e3d7459a",
   "metadata": {
    "pycharm": {
     "name": "#%% md\n"
    }
   },
   "source": [
    "## Verano"
   ]
  },
  {
   "cell_type": "code",
   "execution_count": 16,
   "id": "12d8c880",
   "metadata": {
    "ExecuteTime": {
     "end_time": "2022-03-24T06:25:10.587120Z",
     "start_time": "2022-03-24T06:25:10.574154Z"
    },
    "pycharm": {
     "name": "#%%\n"
    }
   },
   "outputs": [],
   "source": [
    "gp_ver =dfwd_ver.groupby(\"cluster\").count()\n",
    "gp_ver['pct']=gp_ver.wdir.values/(len(dfwd_ver)) *100\n",
    "gp_ver.drop('wdir',axis=1,inplace=True)\n",
    "gp_ver.sort_values(by='pct',ascending=False)"
   ]
  },
  {
   "cell_type": "code",
   "execution_count": 17,
   "id": "79b36d90",
   "metadata": {
    "ExecuteTime": {
     "end_time": "2022-03-24T06:25:10.602693Z",
     "start_time": "2022-03-24T06:25:10.589115Z"
    },
    "pycharm": {
     "name": "#%%\n"
    }
   },
   "outputs": [],
   "source": [
    "plt.figure()\n",
    "\n",
    "explode= (0,0,0,0,0)\n",
    "wedges, texts, autotexts = plt.pie(gp_ver.pct, autopct='%1.2f%%', textprops=dict(color=\"w\"),\n",
    "                                   shadow=False, startangle=0)\n",
    "plt.gca().axis('equal')  # Equal aspect ratio ensures that pie is drawn as a circle.\n",
    "plt.legend(labels = gp_ver.index)\n",
    "plt.suptitle('% por cluster en Verano ')\n",
    "plt.show()"
   ]
  },
  {
   "cell_type": "markdown",
   "id": "2665410f",
   "metadata": {
    "pycharm": {
     "name": "#%% md\n"
    }
   },
   "source": [
    "## Otonio"
   ]
  },
  {
   "cell_type": "code",
   "execution_count": 18,
   "id": "d54aa019",
   "metadata": {
    "ExecuteTime": {
     "end_time": "2022-03-24T06:25:10.617693Z",
     "start_time": "2022-03-24T06:25:10.604704Z"
    },
    "pycharm": {
     "name": "#%%\n"
    }
   },
   "outputs": [],
   "source": [
    "gp_oto =dfwd_otonio.groupby(\"cluster\").count()\n",
    "gp_oto['pct']=gp_oto.wdir.values/(len(dfwd_otonio)) *100\n",
    "gp_oto.drop('wdir',axis=1,inplace=True)\n",
    "gp_oto.sort_values(by='pct',ascending=False)"
   ]
  },
  {
   "cell_type": "code",
   "execution_count": 19,
   "id": "548cb7bc",
   "metadata": {
    "ExecuteTime": {
     "end_time": "2022-03-24T06:25:10.633650Z",
     "start_time": "2022-03-24T06:25:10.619660Z"
    },
    "pycharm": {
     "name": "#%%\n"
    }
   },
   "outputs": [],
   "source": [
    "plt.figure()\n",
    "\n",
    "explode= (0,0,0,0,0)\n",
    "wedges, texts, autotexts = plt.pie(gp_oto.pct, autopct='%1.2f%%', textprops=dict(color=\"w\"),\n",
    "                                   shadow=False, startangle=0)\n",
    "plt.gca().axis('equal')  # Equal aspect ratio ensures that pie is drawn as a circle.\n",
    "plt.legend(labels = gp_oto.index)\n",
    "plt.suptitle('% por cluster en otoño ')\n",
    "\n",
    "plt.show()"
   ]
  },
  {
   "cell_type": "markdown",
   "id": "2f9ba48f",
   "metadata": {
    "pycharm": {
     "name": "#%% md\n"
    }
   },
   "source": [
    "## Invierno"
   ]
  },
  {
   "cell_type": "code",
   "execution_count": 20,
   "id": "01b9667a",
   "metadata": {
    "ExecuteTime": {
     "end_time": "2022-03-24T06:25:10.649568Z",
     "start_time": "2022-03-24T06:25:10.635607Z"
    },
    "pycharm": {
     "name": "#%%\n"
    }
   },
   "outputs": [],
   "source": [
    "gp_inv =dfwd_inv.groupby(\"cluster\").count()\n",
    "gp_inv['pct']=gp_inv.wdir.values/(len(dfwd_inv)) *100\n",
    "gp_inv.drop('wdir',axis=1,inplace=True)\n",
    "gp_inv.sort_values(by='pct',ascending=False)"
   ]
  },
  {
   "cell_type": "code",
   "execution_count": 21,
   "id": "cd2ab4cd",
   "metadata": {
    "ExecuteTime": {
     "end_time": "2022-03-24T06:25:10.665527Z",
     "start_time": "2022-03-24T06:25:10.651563Z"
    },
    "pycharm": {
     "name": "#%%\n"
    }
   },
   "outputs": [],
   "source": [
    "plt.figure()\n",
    "\n",
    "explode= (0,0,0,0,0)\n",
    "wedges, texts, autotexts = plt.pie(gp_inv.pct, autopct='%1.2f%%', textprops=dict(color=\"w\"),\n",
    "                                   shadow=False, startangle=0)\n",
    "plt.gca().axis('equal')  # Equal aspect ratio ensures that pie is drawn as a circle.\n",
    "plt.legend(labels = gp_inv.index)\n",
    "plt.suptitle('% por cluster en invierno')\n",
    "plt.show()"
   ]
  }
 ],
 "metadata": {
  "celltoolbar": "Tags",
  "hide_input": false,
  "kernelspec": {
   "display_name": "PyCharm (aero)",
   "language": "python",
   "name": "pycharm-a777efb8"
  },
  "language_info": {
   "codemirror_mode": {
    "name": "ipython",
    "version": 3
   },
   "file_extension": ".py",
   "mimetype": "text/x-python",
   "name": "python",
   "nbconvert_exporter": "python",
   "pygments_lexer": "ipython3",
   "version": "3.9.7"
  }
 },
 "nbformat": 4,
 "nbformat_minor": 5
}
