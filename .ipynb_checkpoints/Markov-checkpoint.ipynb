{
 "cells": [
  {
   "cell_type": "markdown",
   "source": [
    "# Imports"
   ],
   "metadata": {
    "collapsed": false,
    "pycharm": {
     "name": "#%% md\n"
    }
   }
  },
  {
   "cell_type": "code",
   "execution_count": 1,
   "outputs": [
    {
     "data": {
      "text/plain": "['GTK3Agg',\n 'GTK3Cairo',\n 'MacOSX',\n 'nbAgg',\n 'Qt4Agg',\n 'Qt4Cairo',\n 'Qt5Agg',\n 'Qt5Cairo',\n 'TkAgg',\n 'TkCairo',\n 'WebAgg',\n 'WX',\n 'WXAgg',\n 'WXCairo',\n 'agg',\n 'cairo',\n 'pdf',\n 'pgf',\n 'ps',\n 'svg',\n 'template']"
     },
     "execution_count": 1,
     "metadata": {},
     "output_type": "execute_result"
    }
   ],
   "source": [
    "import matplotlib\n",
    "matplotlib.rcsetup.all_backends\n"
   ],
   "metadata": {
    "collapsed": false,
    "pycharm": {
     "name": "#%%\n"
    }
   }
  },
  {
   "cell_type": "code",
   "execution_count": 2,
   "outputs": [],
   "source": [
    "%matplotlib Tk\n",
    "#%matplotlib inline\n",
    "#%matplotlib notebook\n",
    "\n",
    "import datetime\n",
    "import pandas as pd\n",
    "import numpy as np\n",
    "import matplotlib.pyplot as plt\n",
    "from mpl_toolkits.mplot3d import Axes3D\n",
    "import matplotlib.cm as cm\n",
    "from mpl_toolkits.mplot3d import Axes3D\n",
    "import matplotlib.colors as colors\n",
    "import matplotlib as mpl\n",
    "from sklearn.cluster import KMeans\n",
    "from scipy import stats\n",
    "import seaborn as sns; sns.set()\n",
    "import os\n",
    "import ipynb.fs.defs.my_funcs_clusters as myfunc\n",
    "# noinspection PyCompatibility\n",
    "import pathlib"
   ],
   "metadata": {
    "collapsed": false,
    "pycharm": {
     "name": "#%%\n"
    }
   }
  },
  {
   "cell_type": "markdown",
   "source": [
    "# Funciones"
   ],
   "metadata": {
    "collapsed": false,
    "pycharm": {
     "name": "#%% md\n"
    }
   }
  },
  {
   "cell_type": "code",
   "execution_count": 3,
   "outputs": [],
   "source": [
    "def calculate_vectorprob(row):\n",
    "    \"\"\"\n",
    "    la funcion se aplica fila por fila\n",
    "    se suman todos los valores por fila y se divide entre cada valor, luego se multiplica por 100\n",
    "    Compute the probabability of every row.\n",
    "\n",
    "    usage: mprob = dfMaTra.apply(calculate_vectorprob, axis=1)\n",
    "            mprob.rename(index=idxclnames,inplace=True)\n",
    "    :param row: row number\n",
    "    :return: probabilities matrix\n",
    "    \"\"\"\n",
    "    return row.astype(float)/row.sum()*100\n",
    "\n",
    "def group_state_values(statenum,df):\n",
    "    \"\"\"\n",
    "Agrupa los valores con datos diferentes a nan de un estado en particular. Los datos se agregan a una lista hasta\n",
    "que salta a otro estado, con esto se puede saber cuanto tiempo duro en un estado.\n",
    "\n",
    "    Inputs:\n",
    "            statenum: numero de estado, empieza en 1\n",
    "            dfclvp: dataframe con los clusters separados de vv y pw\n",
    "    Outputs:\n",
    "            lista_valores_estado: una lista con los valores del estado agrupados\n",
    "    \"\"\"\n",
    "    #va a buscar renglon por renglon si el valor es nan y\n",
    "    #va a agrupar los valores que no son nan junto con su timestamp\n",
    "    statenum ='C'+str(statenum)\n",
    "    idx =  df[statenum].first_valid_index() #primer indice que no tiene valores nan\n",
    "    lista_valores_estado=[] #contiene los valores agrupados de tiempo vv y pw\n",
    "    row_values=[]# lista temporal para agrupar los valores de tiempo vv y pw\n",
    "    idxw=0 #indice exclusivo para el ciclo for\n",
    "    while not idxw ==  df.index[-1]: #si el indice ya llego a la ultima fila\n",
    "\n",
    "        for row in df[statenum][idx:].itertuples(): #empieza en el ultimo indice que no tuvo valores\n",
    "            if not np.isnan(row.vViento):\n",
    "                row_values.append([row[0],row.vViento,row.Pw])\n",
    "            #si el valor es nan y row_values tiene elementos significa que\n",
    "            #ya tomo todos los valores del estado y se brinco a otro\n",
    "            if np.isnan(row.vViento) and len(row_values)>0:\n",
    "                idx=row[0]\n",
    "                lista_valores_estado.append(row_values.copy())\n",
    "                row_values.clear()\n",
    "                break\n",
    "            idxw =row[0]#para saber cuando llega al ultimo indice\n",
    "    return lista_valores_estado\n",
    "\n"
   ],
   "metadata": {
    "collapsed": false,
    "pycharm": {
     "name": "#%%\n"
    }
   }
  },
  {
   "cell_type": "markdown",
   "source": [
    "## de matriz (dataframe) a vector"
   ],
   "metadata": {
    "collapsed": false,
    "pycharm": {
     "name": "#%% md\n"
    }
   }
  },
  {
   "cell_type": "code",
   "execution_count": null,
   "outputs": [],
   "source": [
    "def mat_to_vector(df):\n",
    "    \"\"\"\n",
    "    #convertir de matriz a vector  (debe ser igual que kmeans_labels)\n",
    "    #tomo el dataframe con los estados ya indicados y la convierto a vector ignorando\n",
    "    #en este caso ceros\n",
    "    :param df:\n",
    "    :return:\n",
    "    \"\"\"\n",
    "    vect_states= []\n",
    "    for row in range(len(df)):\n",
    "        clust = np.argwhere(dfclvv_sin_ord.iloc[row].notnull().values)[0][0]\n",
    "        vect_states.append(clust)\n",
    "        #else:\n",
    "        #es una fila de ceros, entonces se agrega un cero, así si queda igual\n",
    "        #que kmeans labels y los otros codigos para hacer la matriz de transicion\n",
    "        #pero quiero esto?, no, no lo quiero por que no quiero que de un estado x\n",
    "        #se regrese al estado cero solo porque no hay datos, pero de todos modos lo hago\n",
    "        #vect_states.append(0)\n",
    "    return vect_states\n"
   ],
   "metadata": {
    "collapsed": false,
    "pycharm": {
     "name": "#%%\n"
    }
   }
  },
  {
   "cell_type": "markdown",
   "source": [
    "## Transition matrix"
   ],
   "metadata": {
    "collapsed": false,
    "pycharm": {
     "name": "#%% md\n"
    }
   }
  },
  {
   "cell_type": "code",
   "execution_count": null,
   "outputs": [],
   "source": [
    "def transition_matrix(transitions):\n",
    "    \"\"\"\n",
    "    stack overflow, mas elegante\n",
    "    the following code takes a list such as\n",
    "    [1,1,2,6,8,5,5,7,8,8,1,1,4,5,5,0,0,0,1,1,4,4,5,1,3,3,4,5,4,1,1]\n",
    "    with states labeled as successive integers starting with 0\n",
    "    and returns a transition matrix, M,\n",
    "    where M[i][j] is the probability of transitioning from i to j\n",
    "    Test:\n",
    "    t = [1,1,2,6,8,5,5,7,8,8,1,1,4,5,5,0,0,0,1,1,4,4,5,1,3,3,4,5,4,1,1]\n",
    "    m = transition_matrix(vect_states)\n",
    "    for row in m: print(' '.join('{0:.4f}'.format(x) for x in row))\n",
    "\n",
    "    :param transitions: list with transitions\n",
    "    :return:\n",
    "    \"\"\"\n",
    "    n = 1+ max(transitions) #number of states\n",
    "\n",
    "    M = [[0]*n for _ in range(n)]\n",
    "\n",
    "    for (i,j) in zip(transitions,transitions[1:]):\n",
    "        M[i][j] += 1\n",
    "\n",
    "    #now convert to probabilities:\n",
    "    for row in M:\n",
    "        s = sum(row)\n",
    "        if s > 0:\n",
    "            row[:] = [f/s for f in row]\n",
    "    return M\n"
   ],
   "metadata": {
    "collapsed": false,
    "pycharm": {
     "name": "#%%\n",
     "is_executing": true
    }
   }
  },
  {
   "cell_type": "code",
   "execution_count": null,
   "outputs": [],
   "source": [
    "def trans_matrix_from_df(df,mat_mode='prob'):\n",
    "    \"\"\"\n",
    "\n",
    "    :param mat_mode: \"prob\" regresa la matriz de probabilidades, \"frec\" regresa la matriz de frecuencias\n",
    "    :param df: dataframe con los datos separados en clusters\n",
    "    :return: dataframe con la matriz de transiciones.\n",
    "    \"\"\"\n",
    "    #matriz de transicion del tamaño del numero de  clusters\n",
    "    if  mat_mode != 'prob' and mat_mode != 'frec':\n",
    "        print('Modo no reconocido.')\n",
    "        return None\n",
    "    n_clusters = len(dfclvv.columns)\n",
    "    mattra = np.zeros([n_clusters,n_clusters])\n",
    "    for row in range(len(df)):\n",
    "        #para asegurarse de que no hay filas con cero?\n",
    "        if df.iloc[row,:].to_numpy().nonzero()[0].shape[0] >0 and \\\n",
    "                df.iloc[row+1,:].to_numpy().nonzero()[0].shape[0] >0:\n",
    "            i = np.nonzero(df.iloc[row,:].values)[0][0] #donde estoy (que estado)\n",
    "            j = np.nonzero(df.iloc[row+1,:].values)[0][0] #siguiente linea ( o estado) (hacia que estado voy)\n",
    "            #revisar si hay mas de un 1, que no deberia de haber\n",
    "            #        if len( np.nonzero(dfclpw.iloc[row,:].values)) >1:\n",
    "            #            print('si')\n",
    "\n",
    "            mattra[i,j] +=1\n",
    "    #convertir de numpy array to dataframe\n",
    "    idxclnames ={}\n",
    "    clidx = range(0,n_clusters)\n",
    "\n",
    "    clnames = []\n",
    "    for i in range(n_clusters):\n",
    "        clnames.append('C'+str(i+1))\n",
    "    for i in clidx:\n",
    "        idxclnames[i] = clnames[i]\n",
    "\n",
    "    df_mat_tra =pd.DataFrame(mattra)\n",
    "    df_mat_tra.columns=columnas\n",
    "    df_mat_tra.rename(index=idxclnames)\n",
    "\n",
    "    #la funcion se aplica fila por fila\n",
    "    #se suman todos los valores por fila y se divide entre cada valor, luego se multiplica por 100\n",
    "    mprob = df_mat_tra.apply(calculate_vectorprob, axis=1)\n",
    "    mprob.rename(index=idxclnames,inplace=True)\n",
    "    if mat_mode == 'prob' : return mprob\n",
    "    else: return df_mat_tra\n",
    "        "
   ],
   "metadata": {
    "collapsed": false,
    "pycharm": {
     "name": "#%%\n",
     "is_executing": true
    }
   }
  },
  {
   "cell_type": "markdown",
   "source": [
    "#  Data processing"
   ],
   "metadata": {
    "collapsed": false,
    "pycharm": {
     "name": "#%% md\n"
    }
   }
  },
  {
   "cell_type": "code",
   "execution_count": null,
   "outputs": [],
   "source": [
    "import importlib\n",
    "importlib.reload(myfunc)"
   ],
   "metadata": {
    "collapsed": false,
    "pycharm": {
     "name": "#%%\n",
     "is_executing": true
    }
   }
  },
  {
   "cell_type": "code",
   "source": [
    "###########################################configuración\n",
    "columns_to_use = [0,1,3,6]\n",
    "columns_id =['day','hour','wdir','vwind']\n",
    "home = str(pathlib.Path.home()) #user directory\n",
    "xlsPath = home + '\\\\Dropbox\\\\Doctorado\\\\Documentos\\\\datos\\\\datos bcs\\\\DP-PB01-2005.xlsx'\n",
    "xlsPathMfgCurve = home + '\\\\Dropbox\\\\Doctorado\\\\Python\\\\aero\\\\Curva de potencia vestas 90.xlsx'\n",
    "dir_format= 'deg'\n",
    "year = '2005' #data year\n",
    "########################################################\n",
    "#imprimir a consola\n",
    "os.write(1, b\"Inciando procesamiento de datos...\\n\")\n",
    "\n",
    "dataVDxls = pd.read_excel(xlsPath,usecols=columns_to_use,dtype={'DIA' : str, 'HORA':str})\n",
    "dataVDxls.columns =columns_id\n",
    "#agrego la columna de potencia instantanea sin filtrar\n",
    "#dataVPxls['Pw']= (dataVPxls.iloc[1:,1].values-dataVPxls.iloc[0:-1,1]) * np.pi*45**2\n",
    "print('Total de registros: ' + str(len(dataVDxls)))\n",
    "#dfMfgCurve = pd.read_excel(xlsPathMfgCurve,usecols=[0,2],index_col=0,names=['pw'])#cambio esto en la nueva version\n",
    "dfMfgCurve = pd.read_excel(xlsPathMfgCurve,usecols=[0,2],index_col=0)\n",
    "dfMfgCurve.columns = ['pw']\n",
    "#marcando los datos faltantes asignando un nan a la fila completa\n",
    "datamk = dataVDxls\n",
    "datamk.loc[datamk.isnull().any(axis=1), :] = np.nan\n",
    "#numero de filas sin datos\n",
    "print('Numero de filas sin datos')\n",
    "print(datamk.loc[datamk.isnull().any(axis=1), :].isnull().sum())\n",
    "\n",
    "#eliminando filas con NaN\n",
    "cleanData = datamk.dropna()\n",
    "\n",
    "\n",
    "#datos direccion velocidad\n",
    "#print(len(dataVP))\n",
    "#print(len(dataDir))\n",
    "#dataDV = pd.concat([dataDir,dataVP.vViento],axis=1)\n",
    "#dataVD = pd.concat([dataVP.vViento,dataDir,axis=1)\n",
    "#dataVcD =pd.concat([dataDir,df_comp_vel],axis=1)\n",
    "#change hour 24:00 to 00:00\n",
    "dataVDxls['hour']=dataVDxls['hour'].str.replace('2400','0000')\n",
    "dataVDxls['timeStamp']= dataVDxls.apply(lambda x: myfunc.daymin2date(year,x.day, x.hour), axis=1)\n",
    "dataVDxls.set_index('timeStamp',inplace=True,verify_integrity = True)\n",
    "dfWD = dataVDxls.drop(columns=['day','hour'])\n",
    "del dataVDxls\n",
    "#CHECK THE DIRECTION OF THE ANEMOMETER\n",
    "if dir_format == 'rad':\n",
    "    direcvrad= np.deg2rad(dfWD['wdir'].values)\n",
    "    vecVel = [-np.sin(direcvrad)*dfWD['vwind'].values,np.cos(direcvrad)*dfWD['vwind'].values]\n",
    "else:\n",
    "    vecVel = [-np.sin(dfWD['wdir'].values * np.pi / 180) * dfWD['vwind'].values,\n",
    "              np.cos(dfWD['wdir'].values * np.pi / 180)* dfWD['vwind'].values]\n",
    "\n",
    "\n",
    "vecVelnp = np.array(vecVel).transpose()\n",
    "#original sin timestamp\n",
    "#df_comp_vel = pd.DataFrame(data=vecVelnp,columns=['vx','vy']\n",
    "#con timestamp\n",
    "df_comp_vel = pd.DataFrame(data=vecVelnp,columns=['vx','vy'],index=dfWD.index)\n",
    "\n",
    "\n",
    "os.write(1, b\"Fin del procesamiento de datos\\n\")\n"
   ],
   "metadata": {
    "collapsed": false,
    "pycharm": {
     "name": "#%%\n",
     "is_executing": true
    }
   },
   "execution_count": null,
   "outputs": []
  },
  {
   "cell_type": "code",
   "execution_count": null,
   "outputs": [],
   "source": [
    "print('hola')"
   ],
   "metadata": {
    "collapsed": false,
    "pycharm": {
     "name": "#%%\n",
     "is_executing": true
    }
   }
  },
  {
   "cell_type": "markdown",
   "source": [
    "# Matriz de transicion de viento"
   ],
   "metadata": {
    "collapsed": false,
    "pycharm": {
     "name": "#%% md\n"
    }
   }
  },
  {
   "cell_type": "markdown",
   "source": [
    "## Clustering"
   ],
   "metadata": {
    "collapsed": false,
    "pycharm": {
     "name": "#%% md\n"
    }
   }
  },
  {
   "cell_type": "code",
   "source": [
    "n_clusters= 15\n",
    "model_kmeans = KMeans( n_clusters=n_clusters,random_state=0)\n",
    "model_kmeans.fit(df_comp_vel.values)\n",
    "kmeans_labels = model_kmeans.labels_\n",
    "centroids = model_kmeans.cluster_centers_#los centroides siguen siendo 46\n",
    "n_clusters = np.unique(kmeans_labels).size\n",
    "\n",
    "#crear un dataframe viento, direccion, cluster\n",
    "df_wind_dir_cl = dfWD.copy()\n",
    "df_wind_dir_cl['cluster'] = kmeans_labels"
   ],
   "metadata": {
    "collapsed": false,
    "pycharm": {
     "name": "#%%\n",
     "is_executing": true
    }
   },
   "execution_count": null,
   "outputs": []
  },
  {
   "cell_type": "markdown",
   "source": [
    "## Ordenar clusters"
   ],
   "metadata": {
    "collapsed": false,
    "pycharm": {
     "name": "#%% md\n"
    }
   }
  },
  {
   "cell_type": "code",
   "execution_count": null,
   "outputs": [],
   "source": [
    "#orden de aparicion de los clusters kmeans y gm\n",
    "\n",
    "#ordenar el orden de aparicion segun la magnitud de la vv\n",
    "clmagni = np.zeros(n_clusters)\n",
    "for i in range(n_clusters):\n",
    "    vx = df_comp_vel.vx.values[kmeans_labels==i]\n",
    "    vy = df_comp_vel.vy.values[kmeans_labels==i]\n",
    "    clmagni[i]= np.round(np.mean(np.sqrt(vx**2 + vy**2)),1) #magnitud de la vv\n",
    "\n",
    "\n",
    "clord = clmagni.argsort()"
   ],
   "metadata": {
    "collapsed": false,
    "pycharm": {
     "name": "#%%\n",
     "is_executing": true
    }
   }
  },
  {
   "cell_type": "code",
   "execution_count": null,
   "outputs": [],
   "source": [
    "columnas=[]\n",
    "for i in np.arange(1,n_clusters+1):\n",
    "    columnas.append('C'+str(i))\n",
    "\n",
    "dfclvv = pd.DataFrame()\n",
    "for i in range(n_clusters):\n",
    "    dfclvv = pd.concat([dfclvv,dfWD.vwind[kmeans_labels==clord[i]]], ignore_index=True, axis=1)\n",
    "dfclvv.columns=columnas[0:n_clusters]\n",
    "dfclvv"
   ],
   "metadata": {
    "collapsed": false,
    "pycharm": {
     "name": "#%%\n",
     "is_executing": true
    }
   }
  },
  {
   "cell_type": "code",
   "execution_count": null,
   "outputs": [],
   "source": [
    "#probabilidades de cadas estado\n",
    "nregcl=[]\n",
    "for col in dfclvv.columns:\n",
    "    nregcl.append(len(dfclvv[dfclvv[col].notna()]))\n",
    "ntotreg= len(dfWD)\n",
    "np.array(nregcl)/ntotreg *100\n"
   ],
   "metadata": {
    "collapsed": false,
    "pycharm": {
     "name": "#%%\n",
     "is_executing": true
    }
   }
  },
  {
   "cell_type": "code",
   "execution_count": null,
   "outputs": [],
   "source": [
    "#magnitud de los centroides\n",
    "for i in range(n_clusters):\n",
    "    print( str(i)+' - '+ str(dfclvv['C'+str(i+1)].mean()))"
   ],
   "metadata": {
    "collapsed": false,
    "pycharm": {
     "name": "#%%\n",
     "is_executing": true
    }
   }
  },
  {
   "cell_type": "code",
   "execution_count": null,
   "outputs": [],
   "source": [
    "dfWD[dfWD.vwind >= 12]"
   ],
   "metadata": {
    "collapsed": false,
    "pycharm": {
     "name": "#%%\n",
     "is_executing": true
    }
   }
  },
  {
   "cell_type": "code",
   "execution_count": null,
   "outputs": [],
   "source": [
    "for i in range(n_clusters):\n",
    "    vx = df_comp_vel.vx.values[kmeans_labels==i]\n",
    "    vy = df_comp_vel.vy.values[kmeans_labels==i]\n",
    "    print(np.round(np.mean(np.sqrt(vx**2 + vy**2)),1) )#magnitud de la vv"
   ],
   "metadata": {
    "collapsed": false,
    "pycharm": {
     "name": "#%%\n",
     "is_executing": true
    }
   }
  },
  {
   "cell_type": "markdown",
   "source": [
    "## Matriz de velocidades de viento"
   ],
   "metadata": {
    "collapsed": false
   }
  },
  {
   "cell_type": "code",
   "execution_count": null,
   "outputs": [],
   "source": [
    "# Matriz sin ordenar\n",
    "columnas=[]\n",
    "for i in np.arange(1,n_clusters+1):\n",
    "    columnas.append('C'+str(i))\n",
    "\n",
    "dfclvv_sin_ord = pd.DataFrame()\n",
    "dfclvv_sin_ord.index= dfWD.index\n",
    "for i in range(n_clusters):\n",
    "    dfclvv_sin_ord = pd.concat([dfclvv_sin_ord,dfWD.vwind[kmeans_labels==i]], ignore_index=True, axis=1)\n",
    "dfclvv_sin_ord.columns=columnas[0:n_clusters]\n",
    "dfclvv_sin_ord"
   ],
   "metadata": {
    "collapsed": false,
    "pycharm": {
     "name": "#%%\n",
     "is_executing": true
    }
   }
  },
  {
   "cell_type": "markdown",
   "source": [
    "## Cambiar de valor de velocidad de viento a unos"
   ],
   "metadata": {
    "collapsed": false,
    "pycharm": {
     "name": "#%% md\n"
    }
   }
  },
  {
   "cell_type": "code",
   "execution_count": null,
   "outputs": [],
   "source": [
    "#si quiero cambiar los NaN por ceros, pero hay algunos ceros en los datos\n",
    "# mejor dejo los NaN\n",
    "#dfclvv_sin_ord.fillna(0,inplace=True)\n",
    "#dfclvv_sin_ord[dfclvv_sin_ord!=0]=1\n",
    "#dfclvv_sin_ord.head(20)"
   ],
   "metadata": {
    "collapsed": false,
    "pycharm": {
     "name": "#%%\n",
     "is_executing": true
    }
   }
  },
  {
   "cell_type": "markdown",
   "source": [
    "## Step plot"
   ],
   "metadata": {
    "collapsed": false,
    "pycharm": {
     "name": "#%% md\n"
    }
   }
  },
  {
   "cell_type": "code",
   "execution_count": null,
   "outputs": [],
   "source": [
    "#convetir matriz de estados a vector de estados (o transiciones)\n",
    "#este vector debe ser igual a kmeans_labels\n",
    "vect_states = mat_to_vector(dfclvv_sin_ord)\n"
   ],
   "metadata": {
    "collapsed": false,
    "pycharm": {
     "name": "#%%\n"
    }
   }
  },
  {
   "cell_type": "code",
   "execution_count": null,
   "outputs": [],
   "source": [
    "plt.figure(12,figsize=(12,5))\n",
    "plt.scatter(dfWD.index, vect_states)\n",
    "plt.tight_layout()\n",
    "plt.show()"
   ],
   "metadata": {
    "collapsed": false,
    "pycharm": {
     "name": "#%%\n"
    }
   }
  },
  {
   "cell_type": "markdown",
   "source": [
    "## Matriz de transicion\n"
   ],
   "metadata": {
    "collapsed": false
   }
  },
  {
   "cell_type": "code",
   "execution_count": null,
   "outputs": [],
   "source": [
    "t = [1,1,2,6,8,5,5,7,8,8,1,1,4,5,5,0,0,0,1,1,4,4,5,1,3,3,4,5,4,1,1]\n",
    "m = transition_matrix(vect_states)\n",
    "for row in m: print(' '.join('{0:.4f}'.format(x) for x in row))\n"
   ],
   "metadata": {
    "collapsed": false,
    "pycharm": {
     "name": "#%%\n"
    }
   }
  },
  {
   "cell_type": "code",
   "execution_count": null,
   "outputs": [],
   "source": [
    "mat_trans_prob= trans_matrix_from_df(dfclvv_sin_ord)\n",
    "mat_trans_prob"
   ],
   "metadata": {
    "collapsed": false,
    "pycharm": {
     "name": "#%%\n"
    }
   }
  },
  {
   "cell_type": "code",
   "execution_count": null,
   "outputs": [],
   "source": [
    "#SOLO FUNCIONA PARA FILAS PERO NO PARA COLUMNAS\n",
    "plt.figure(figsize=(20,18))\n",
    "\n",
    "ht =sns.heatmap(mat_trans_prob, annot=True,fmt='.2f')\n",
    "figure = ht.get_figure()\n",
    "figure.savefig('ht_prob.png', dpi=400)"
   ],
   "metadata": {
    "collapsed": false,
    "pycharm": {
     "name": "#%%\n"
    }
   }
  },
  {
   "cell_type": "markdown",
   "source": [
    "# Tiempo total que pasa en estados de interes"
   ],
   "metadata": {
    "collapsed": false
   }
  },
  {
   "cell_type": "code",
   "execution_count": null,
   "outputs": [],
   "source": [
    "#direcciones promedio\n",
    "for col in dfclvv_sin_ord.columns:\n",
    "    print(col+ ' - ' +str(dfWD.wdir[dfclvv_sin_ord[col] !=0 ].mean()))"
   ],
   "metadata": {
    "collapsed": false,
    "pycharm": {
     "name": "#%%\n"
    }
   }
  },
  {
   "cell_type": "code",
   "execution_count": null,
   "outputs": [],
   "source": [
    "#obtener estados entre dos velocidades de viento\n",
    "#primero obtengo las velocidades de viento y de ahi los estados\n",
    "#por ejemplo seleccionar los estados que ocurren entre las velocidades 6 y 11\n",
    "#y ver como brincan entre estados y cuanto duran estas transiciones antes\n",
    "# de que brinquen a estados que no son de interes\n",
    "betw = dfWD[dfWD.vwind.between(6,11)]\n",
    "betw.index = pd.to_datetime(pd.to_datetime(betw.index).strftime('%d/%m/%Y %H:%M'))"
   ],
   "metadata": {
    "collapsed": false,
    "pycharm": {
     "name": "#%%\n"
    }
   }
  },
  {
   "cell_type": "code",
   "execution_count": null,
   "outputs": [],
   "source": [
    "dfclvv_sin_ord.index = pd.to_datetime(pd.to_datetime(dfclvv_sin_ord.index).strftime('%d/%m/%Y %H:%M'))\n"
   ],
   "metadata": {
    "collapsed": false,
    "pycharm": {
     "name": "#%%\n"
    }
   }
  },
  {
   "cell_type": "code",
   "execution_count": null,
   "outputs": [],
   "source": [
    "#buscar cuanto duran los estados\n",
    "#fila por fila\n",
    "#contador de tiempos de 10 minutos para tener lo hora total\n",
    "t10_count = 10\n",
    "#lista con todos los tiempos totales\n",
    "list_total_times=[]\n",
    "\n",
    "df = betw\n",
    "for row in range(len(df)-1):\n",
    "    #obtener el estado de del registro\n",
    "    estado = dfclvv_sin_ord.loc[df.index[row]].to_numpy().reshape(-1).nonzero()[0][0]+1\n",
    "    #comprobar que la diferencia entre una fila y la siguiente es de diez minutos\n",
    "    if df.index[row+1] - df.index[row]  == pd.Timedelta(minutes=10):\n",
    "        # dato de la fila\n",
    "        t10_count+=10 #sumar 10 minutos\n",
    "        register = df.iloc[row]\n",
    "        print('%s | %0.2f m/s | %0.1f°| C%i'%\n",
    "              (register.name,register.vwind,register.wdir, estado))\n",
    "    else:\n",
    "        register = df.iloc[row]\n",
    "        print('%s | %0.2f m/s | %0.1f°| C%i'%\n",
    "              (register.name,register.vwind,register.wdir,estado))\n",
    "        list_total_times.append(pd.to_datetime(t10_count,unit='m').strftime('%H:%M'))\n",
    "        print('Total time: %s hr(s)' % list_total_times[-1] )\n",
    "        print('########################################')\n",
    "        t10_count = 10\n"
   ],
   "metadata": {
    "collapsed": false,
    "pycharm": {
     "name": "#%%\n"
    }
   }
  },
  {
   "cell_type": "code",
   "execution_count": null,
   "outputs": [],
   "source": [
    "#buscar cuanto duran los estados\n",
    "#fila por fila\n",
    "#contador de tiempos de 10 minutos para tener lo hora total\n",
    "t10_count = 10\n",
    "#lista con todos los tiempos totales\n",
    "list_total_times=[]\n",
    "\n",
    "df = dfWD\n",
    "#indica a que grupo pertenece el dato\n",
    "#con el codigo de abajo, los estados se dividen en grupos\n",
    "#pero cronologicamente, para luego identificar a que grupo\n",
    "#pertenece cierto registro le añado un indice\n",
    "#por lo que se tienen datos agrupados por clusters de magnitudes de voltaje\n",
    "#y por clusters de tiempos consecutivos de ocurrencia\n",
    "grouped_states_index = 1\n",
    "\n",
    "for row in range(30,100):\n",
    "    #obtener el estado de del registro\n",
    "    #reshape porque a veces me da un array de 1xn y a veces de nx1\n",
    "    estado_ini = dfclvv_sin_ord.loc[df.index[row]].to_numpy().reshape(-1).nonzero()[0][0]+1\n",
    "    estado_sig = dfclvv_sin_ord.loc[df.index[row+1]].to_numpy().reshape(-1).nonzero()[0][0]+1\n",
    "    #comprobar que la diferencia entre una fila y la siguiente es de diez minutos\n",
    "    if estado_ini == estado_sig:\n",
    "        # dato de la fila\n",
    "        t10_count+=10 #sumar 10 minutos\n",
    "        register = df.iloc[row]\n",
    "        print('%s | %0.2f m/s | %0.1f°| C%i |gp_idx: %i |'%\n",
    "              (register.name,register.vwind,register.wdir, estado_sig,grouped_states_index))\n",
    "    else:\n",
    "        register = df.iloc[row]\n",
    "        print('%s | %0.2f m/s | %0.1f°| C%i |gp_idx: %i |'%\n",
    "              (register.name,register.vwind,register.wdir,estado_ini,grouped_states_index))\n",
    "        list_total_times.append(pd.to_datetime(t10_count,unit='m').strftime('%H:%M'))\n",
    "        print('Total time: %s hr(s)' % list_total_times[-1] )\n",
    "        print('########################################')\n",
    "        t10_count = 10\n",
    "        grouped_states_index+=1 #nuevo grupo, nuevo indice\n",
    "\n"
   ],
   "metadata": {
    "collapsed": false,
    "pycharm": {
     "name": "#%%\n"
    }
   }
  },
  {
   "cell_type": "code",
   "execution_count": null,
   "outputs": [],
   "source": [
    "row = 0\n",
    "dfclvv_sin_ord.loc[df.index[row]].to_numpy().reshape(-1).nonzero()"
   ],
   "metadata": {
    "collapsed": false,
    "pycharm": {
     "name": "#%%\n"
    }
   }
  },
  {
   "cell_type": "code",
   "execution_count": null,
   "outputs": [],
   "source": [
    "type(dfclvv_sin_ord.loc[df.index[row]].to_numpy())"
   ],
   "metadata": {
    "collapsed": false,
    "pycharm": {
     "name": "#%%\n"
    }
   }
  },
  {
   "cell_type": "code",
   "execution_count": null,
   "outputs": [],
   "source": [
    "dfWD"
   ],
   "metadata": {
    "collapsed": false,
    "pycharm": {
     "name": "#%%\n"
    }
   }
  },
  {
   "cell_type": "code",
   "execution_count": null,
   "outputs": [],
   "source": [
    "dfWD.loc['2005-01-01 05:40:00']"
   ],
   "metadata": {
    "collapsed": false,
    "pycharm": {
     "name": "#%%\n"
    }
   }
  },
  {
   "cell_type": "code",
   "execution_count": null,
   "outputs": [],
   "source": [
    "dfclvv_sin_ord"
   ],
   "metadata": {
    "collapsed": false,
    "pycharm": {
     "name": "#%%\n"
    }
   }
  },
  {
   "cell_type": "code",
   "execution_count": null,
   "outputs": [],
   "source": [
    "#este dataframe contendrá en orden cronologíco los datos con una fila extra indicando\n",
    "#el cluster al que pertenece el dato. Se puede hacer manual o pandificado\n",
    "#aqui lo voy a hacer pandificado\n",
    "df_data_with_states = dfWD.copy()\n",
    "dfclvv_sin_ord.loc['2005-01-01 00:50:00'].to_numpy().nonzero()[0][0]+1"
   ],
   "metadata": {
    "collapsed": false,
    "pycharm": {
     "name": "#%%\n"
    }
   }
  },
  {
   "cell_type": "code",
   "execution_count": null,
   "outputs": [],
   "source": [
    "dfclvv_sin_ord"
   ],
   "metadata": {
    "collapsed": false,
    "pycharm": {
     "name": "#%%\n"
    }
   }
  },
  {
   "cell_type": "code",
   "execution_count": null,
   "outputs": [],
   "source": [
    "dfclvv_sin_ord"
   ],
   "metadata": {
    "collapsed": false,
    "pycharm": {
     "name": "#%%\n"
    }
   }
  },
  {
   "cell_type": "code",
   "execution_count": null,
   "outputs": [],
   "source": [
    "list_total_times"
   ],
   "metadata": {
    "collapsed": false,
    "pycharm": {
     "name": "#%%\n"
    }
   }
  },
  {
   "cell_type": "markdown",
   "source": [
    "## Buscar transiciones"
   ],
   "metadata": {
    "collapsed": false
   }
  },
  {
   "cell_type": "code",
   "execution_count": null,
   "outputs": [],
   "source": [
    "vel_prom_estados = [8.2,10.7, 12.4]"
   ],
   "metadata": {
    "collapsed": false,
    "pycharm": {
     "name": "#%%\n"
    }
   }
  },
  {
   "cell_type": "code",
   "execution_count": null,
   "outputs": [],
   "source": [
    "# 1.- encontrar el primer dato no NAN del estado (df ordenado cronologicamente)\n",
    "# 2.- encontrar el siguiente dato NAN. El estado se encuentra entre estos dos no NAN y NAN\n",
    "#\n",
    "\n",
    "dfclvv_sin_ord.C1.first_valid_index()"
   ],
   "metadata": {
    "collapsed": false,
    "pycharm": {
     "name": "#%%\n"
    }
   }
  },
  {
   "cell_type": "code",
   "execution_count": null,
   "outputs": [],
   "source": [
    "dfclvv_sin_ord.C1.isnull()"
   ],
   "metadata": {
    "collapsed": false,
    "pycharm": {
     "name": "#%%\n"
    }
   }
  },
  {
   "cell_type": "code",
   "execution_count": null,
   "outputs": [],
   "source": [
    "#va a buscar renglon por renglon si el valor es nan y\n",
    "#va a agrupar los valores que no son nan junto con su timestamp\n",
    "num_estado = 'C17'\n",
    "dfclvv_sin_ord[num_estado].first_valid_index() #primer valor que no es nan\n",
    "lista=[]\n",
    "C=[]\n",
    "flag= True\n",
    "for i in dfclvv_sin_ord[num_estado].itertuples():\n",
    "    if not np.isnan(i[1]):\n",
    "        C.append([i[0],i.vViento,i.Pw])\n",
    "        flag = False\n",
    "\n",
    "\n",
    "    if not flag:\n",
    "        lista.append(C)\n",
    "        C.clear()\n",
    "        flag_nonan=True"
   ],
   "metadata": {
    "collapsed": false,
    "pycharm": {
     "name": "#%%\n"
    }
   }
  },
  {
   "cell_type": "code",
   "execution_count": null,
   "outputs": [],
   "source": [
    "c17agrupado = group_state_values(17,dfclvv_sin_ord)"
   ],
   "metadata": {
    "collapsed": false,
    "pycharm": {
     "name": "#%%\n"
    }
   }
  },
  {
   "cell_type": "code",
   "execution_count": null,
   "outputs": [],
   "source": [
    "listaTiempos=[] #cuenta el numero de elementos que tiene cada lista\n",
    "#es decir si la lista contiene 4 elementos, quiere decir que el estado\n",
    "#estuvo sin cambios 40 minutos\n",
    "for i in c17agrupado:\n",
    "    listaTiempos.append(len(i))\n"
   ],
   "metadata": {
    "collapsed": false,
    "pycharm": {
     "name": "#%%\n"
    }
   }
  },
  {
   "cell_type": "code",
   "execution_count": null,
   "outputs": [],
   "source": [
    "#moda de los tiempos por cada unidad son 10 minutos\n",
    "stats.mode( listaTiempos)"
   ],
   "metadata": {
    "collapsed": false,
    "pycharm": {
     "name": "#%%\n"
    }
   }
  },
  {
   "cell_type": "code",
   "execution_count": null,
   "outputs": [],
   "source": [
    "#promedio de los tiempos de estadia, 1.95 es aprox 2 o 20 min\n",
    "np.mean(listaTiempos)"
   ],
   "metadata": {
    "collapsed": false,
    "pycharm": {
     "name": "#%%\n"
    }
   }
  },
  {
   "cell_type": "code",
   "execution_count": null,
   "outputs": [],
   "source": [
    "tempdf= dfclvv_sin_ord.C17.copy()\n",
    "tempdf.dropna(inplace=True)\n",
    "tempdf.reset_index(inplace=True)\n",
    "tempdf.rename(columns={'index':'timeStamp'},inplace=True)"
   ],
   "metadata": {
    "collapsed": false,
    "pycharm": {
     "name": "#%%\n"
    }
   }
  },
  {
   "cell_type": "code",
   "execution_count": null,
   "outputs": [],
   "source": [
    "#solo conservar las horas\n",
    "l=tempdf['timeStamp'].dt.time.values\n",
    "#calcular la moda, es decir, a que hora es más probable el estado\n",
    "stats.mode(l)"
   ],
   "metadata": {
    "collapsed": false,
    "pycharm": {
     "name": "#%%\n"
    }
   }
  },
  {
   "cell_type": "markdown",
   "source": [
    "# Markov chain"
   ],
   "metadata": {
    "collapsed": false
   }
  },
  {
   "cell_type": "code",
   "execution_count": null,
   "outputs": [],
   "source": [
    "circle1 = plt.Circle((0, 0), 0.2, color='r')\n",
    "circle2 = plt.Circle((0.5, 0.5), 0.2, color='blue')\n",
    "circle3 = plt.Circle((1, 1), 0.2, color='g', clip_on=False)\n",
    "\n",
    "fig, ax = plt.subplots() # note we must use plt.subplots, not plt.subplot\n",
    "# (or if you have an existing figure)\n",
    "# fig = plt.gcf()\n",
    "# ax = fig.gca()\n",
    "\n",
    "ax.add_patch(circle1)\n",
    "ax.add_patch(circle2)\n",
    "ax.add_patch(circle3)\n",
    "ax.re\n"
   ],
   "metadata": {
    "collapsed": false,
    "pycharm": {
     "name": "#%%\n"
    }
   }
  },
  {
   "cell_type": "markdown",
   "source": [
    "##  Con cairo es mas dificil por que se usan coordenadas relativas, hay que estar calculando coordenadas a cada rato"
   ],
   "metadata": {
    "collapsed": false
   }
  },
  {
   "cell_type": "code",
   "execution_count": null,
   "outputs": [],
   "source": [
    "from io import BytesIO\n",
    "\n",
    "import cairo\n",
    "import IPython.display\n",
    "\n",
    "svgio = BytesIO()\n",
    "with cairo.SVGSurface(svgio, 200, 200) as surface:\n",
    "    # These lines are copied verbatim from the\n",
    "    # pycairo page: https://pycairo.readthedocs.io\n",
    "    context = cairo.Context(surface)\n",
    "    x, y, x1, y1 = 0.1, 0.5, 0.4, 0.9\n",
    "    x2, y2, x3, y3 = 0.6, 0.1, 0.9, 0.5\n",
    "    context.scale(200, 200)\n",
    "    context.set_line_width(0.04)\n",
    "    context.move_to(x, y)\n",
    "    context.curve_to(x1, y1, x2, y2, x3, y3)\n",
    "    context.stroke()\n",
    "    context.set_source_rgba(1, 0.2, 0.2, 0.6)\n",
    "    context.set_line_width(0.02)\n",
    "    context.move_to(x, y)\n",
    "    context.line_to(x1, y1)\n",
    "    context.move_to(x2, y2)\n",
    "    context.line_to(x3, y3)\n",
    "    context.stroke()\n",
    "    # end of pycairo copy\n",
    "IPython.display.SVG(data=svgio.getvalue())"
   ],
   "metadata": {
    "collapsed": false,
    "pycharm": {
     "name": "#%%\n"
    }
   }
  },
  {
   "cell_type": "code",
   "execution_count": null,
   "outputs": [],
   "source": [
    "from io import BytesIO\n",
    "import math\n",
    "import cairo\n",
    "import IPython.display\n",
    "\n",
    "num_circulos=25 #numero de circulos a dibujar\n",
    "rad_circulos=20 #radio de los circulos a dibujar\n",
    "sep_circulos = 3  *rad_circulos#separacion entre circulos, es n veces el radio\n",
    "x_ini = rad_circulos*2 #donde inicia (el borde?) del circulo\n",
    "y_ini = rad_circulos*2\n",
    "font_size= rad_circulos\n",
    "\n",
    "svgio = BytesIO()\n",
    "with cairo.SVGSurface(svgio, 1000, 1000) as surface:\n",
    "    # These lines are copied verbatim from the\n",
    "    # pycairo page: https://pycairo.readthedocs.io\n",
    "    context = cairo.Context(surface)\n",
    "    context.arc(x_ini,y_ini , rad_circulos, 0, 2*math.pi)\n",
    "    for i in range(num_circulos-1):\n",
    "        context.arc(x_ini+(sep_circulos*i),y_ini , rad_circulos, 0, 2*math.pi)\n",
    "        # Drawing code\n",
    "        context.set_font_size(font_size)\n",
    "        context.select_font_face(\"Arial\",\n",
    "                     cairo.FONT_SLANT_NORMAL,\n",
    "                     cairo.FONT_WEIGHT_NORMAL)\n",
    "        context.move_to(x_ini+(sep_circulos*i)-font_size/2,y_ini+font_size/4)\n",
    "        context.show_text(str(i))\n",
    "        # End of drawing code\n",
    "        context.stroke()\n",
    "\n",
    "\n",
    "\n",
    "\n",
    "    # end of pycairo copy\n",
    "IPython.display.SVG(data=svgio.getvalue())"
   ],
   "metadata": {
    "collapsed": false,
    "pycharm": {
     "name": "#%%\n"
    }
   }
  }
 ],
 "metadata": {
  "hide_input": false,
  "kernelspec": {
   "name": "pycharm-a777efb8",
   "language": "python",
   "display_name": "PyCharm (aero)"
  },
  "language_info": {
   "codemirror_mode": {
    "name": "ipython",
    "version": 3
   },
   "file_extension": ".py",
   "mimetype": "text/x-python",
   "name": "python",
   "nbconvert_exporter": "python",
   "pygments_lexer": "ipython3",
   "version": "3.9.7"
  },
  "varInspector": {
   "cols": {
    "lenName": 16,
    "lenType": 16,
    "lenVar": 40
   },
   "kernels_config": {
    "python": {
     "delete_cmd_postfix": "",
     "delete_cmd_prefix": "del ",
     "library": "var_list.py",
     "varRefreshCmd": "print(var_dic_list())"
    },
    "r": {
     "delete_cmd_postfix": ") ",
     "delete_cmd_prefix": "rm(",
     "library": "var_list.r",
     "varRefreshCmd": "cat(var_dic_list()) "
    }
   },
   "types_to_exclude": [
    "module",
    "function",
    "builtin_function_or_method",
    "instance",
    "_Feature"
   ],
   "window_display": false
  }
 },
 "nbformat": 4,
 "nbformat_minor": 4
}